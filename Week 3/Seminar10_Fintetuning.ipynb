{
  "cells": [
    {
      "cell_type": "markdown",
      "metadata": {
        "id": "6UJrf5Wg_7Oa"
      },
      "source": [
        "##Fine Tuning\n",
        "\n",
        "In several machine learning applcations, state of the art modles that work on \"similar\" problems are available.\n",
        "\n",
        "Rather than training a network from scratch, it is worthwhile to use the already available model, albeit they are for a slightly different problem\n",
        "\n",
        "This is called transfer learning. Possibly the simplest form of transfer learning is Fine-tuning where we make minor adjustments to a network and use it for a new problems.\n",
        "\n",
        "Fine-tuning is especially effective in cases where limited data is available.\n",
        "\n",
        "Let's explore example of fine-tunign below. We will fine-tune resent18 trained on imagenet"
      ]
    },
    {
      "cell_type": "code",
      "execution_count": null,
      "metadata": {
        "id": "mTXa_TWbE5-N"
      },
      "outputs": [],
      "source": [
        "import torch\n",
        "import torch.nn as nn\n",
        "import torch.nn.functional as F\n",
        "import torch.optim as optim\n",
        "import numpy as np\n",
        "import matplotlib.pyplot as plt\n",
        "from torchvision import models,transforms\n",
        "from torchvision.utils import make_grid\n",
        "from torchvision.datasets import MNIST\n",
        "from torch.utils.data.sampler import SubsetRandomSampler\n",
        "from torch.utils.tensorboard import SummaryWriter\n",
        "from torchsummary import summary\n"
      ]
    },
    {
      "cell_type": "code",
      "execution_count": null,
      "metadata": {
        "id": "ZF2RZgvYFEmn"
      },
      "outputs": [],
      "source": [
        "# MNIST\n",
        "def mnist(batch_sz, valid_size=0.2, shuffle=True, random_seed=2000):\n",
        "    num_classes = 10\n",
        "    transform_train = transforms.Compose([\n",
        "                        transforms.RandomCrop(28, padding=4),\n",
        "                        transforms.ToTensor(),\n",
        "                    ])\n",
        "\n",
        "    transform_valid = transforms.Compose([\n",
        "                        transforms.ToTensor(),\n",
        "                    ])\n",
        "\n",
        "    transform_test = transforms.Compose([\n",
        "                        transforms.ToTensor(),\n",
        "                    ])\n",
        "\n",
        "\n",
        "    # Training dataset\n",
        "    train_data = MNIST(root='./datasets', train=True, download=True, transform=transform_train)\n",
        "    valid_data = MNIST(root='./datasets', train=True, download=True, transform=transform_valid)\n",
        "    num_train = len(train_data)\n",
        "    indices = list(range(num_train))\n",
        "    split = int(np.floor(valid_size * num_train))\n",
        "    if shuffle == True:\n",
        "        np.random.seed(random_seed)\n",
        "        np.random.shuffle(indices)\n",
        "    train_idx, valid_idx = indices[split:], indices[:split]\n",
        "\n",
        "    train_sampler = SubsetRandomSampler(train_idx)\n",
        "    valid_sampler = SubsetRandomSampler(valid_idx)\n",
        "    train_loader = torch.utils.data.DataLoader(train_data, batch_size=batch_sz, sampler=train_sampler,pin_memory=True)\n",
        "    valid_loader = torch.utils.data.DataLoader(valid_data, batch_size=batch_sz, sampler=valid_sampler,pin_memory=True)\n",
        "\n",
        "    # Test dataset\n",
        "    test_data = MNIST(root='./datasets', train=False, download=True, transform=transform_test)\n",
        "    test_loader = torch.utils.data.DataLoader(test_data,\n",
        "                                              batch_size=batch_sz, shuffle=False, pin_memory=True)\n",
        "\n",
        "    return train_loader, valid_loader, test_loader\n",
        "\n"
      ]
    },
    {
      "cell_type": "code",
      "execution_count": null,
      "metadata": {
        "colab": {
          "base_uri": "https://localhost:8080/"
        },
        "id": "DzC-yrpaFG3Y",
        "outputId": "e2cc2c00-e5a6-49e3-bebc-879e6340b0d7"
      },
      "outputs": [
        {
          "name": "stdout",
          "output_type": "stream",
          "text": [
            "Downloading http://yann.lecun.com/exdb/mnist/train-images-idx3-ubyte.gz\n",
            "Downloading http://yann.lecun.com/exdb/mnist/train-images-idx3-ubyte.gz to ./datasets/MNIST/raw/train-images-idx3-ubyte.gz\n"
          ]
        },
        {
          "name": "stderr",
          "output_type": "stream",
          "text": [
            "100%|██████████| 9912422/9912422 [00:00<00:00, 175646538.22it/s]"
          ]
        },
        {
          "name": "stdout",
          "output_type": "stream",
          "text": [
            "Extracting ./datasets/MNIST/raw/train-images-idx3-ubyte.gz to ./datasets/MNIST/raw\n"
          ]
        },
        {
          "name": "stderr",
          "output_type": "stream",
          "text": [
            "\n"
          ]
        },
        {
          "name": "stdout",
          "output_type": "stream",
          "text": [
            "\n",
            "Downloading http://yann.lecun.com/exdb/mnist/train-labels-idx1-ubyte.gz\n",
            "Downloading http://yann.lecun.com/exdb/mnist/train-labels-idx1-ubyte.gz to ./datasets/MNIST/raw/train-labels-idx1-ubyte.gz\n"
          ]
        },
        {
          "name": "stderr",
          "output_type": "stream",
          "text": [
            "100%|██████████| 28881/28881 [00:00<00:00, 128185919.39it/s]\n"
          ]
        },
        {
          "name": "stdout",
          "output_type": "stream",
          "text": [
            "Extracting ./datasets/MNIST/raw/train-labels-idx1-ubyte.gz to ./datasets/MNIST/raw\n",
            "\n",
            "Downloading http://yann.lecun.com/exdb/mnist/t10k-images-idx3-ubyte.gz\n",
            "Downloading http://yann.lecun.com/exdb/mnist/t10k-images-idx3-ubyte.gz to ./datasets/MNIST/raw/t10k-images-idx3-ubyte.gz\n"
          ]
        },
        {
          "name": "stderr",
          "output_type": "stream",
          "text": [
            "100%|██████████| 1648877/1648877 [00:00<00:00, 127139705.06it/s]"
          ]
        },
        {
          "name": "stdout",
          "output_type": "stream",
          "text": [
            "Extracting ./datasets/MNIST/raw/t10k-images-idx3-ubyte.gz to ./datasets/MNIST/raw\n",
            "\n",
            "Downloading http://yann.lecun.com/exdb/mnist/t10k-labels-idx1-ubyte.gz\n",
            "Downloading http://yann.lecun.com/exdb/mnist/t10k-labels-idx1-ubyte.gz to ./datasets/MNIST/raw/t10k-labels-idx1-ubyte.gz\n"
          ]
        },
        {
          "name": "stderr",
          "output_type": "stream",
          "text": [
            "\n",
            "100%|██████████| 4542/4542 [00:00<00:00, 10473077.94it/s]\n"
          ]
        },
        {
          "name": "stdout",
          "output_type": "stream",
          "text": [
            "Extracting ./datasets/MNIST/raw/t10k-labels-idx1-ubyte.gz to ./datasets/MNIST/raw\n",
            "\n"
          ]
        }
      ],
      "source": [
        "batch_sz=64 # this is batch size i.e. the number of rows in a batch of data\n",
        "train_loader, valid_loader, test_loader=mnist(batch_sz)"
      ]
    },
    {
      "cell_type": "code",
      "execution_count": null,
      "metadata": {
        "colab": {
          "base_uri": "https://localhost:8080/",
          "height": 448
        },
        "id": "G_04YvL6ZYvE",
        "outputId": "c3efdb22-362d-4002-851f-1d7290476aab"
      },
      "outputs": [
        {
          "data": {
            "text/plain": [
              "[<matplotlib.lines.Line2D at 0x7f568316dfc0>]"
            ]
          },
          "execution_count": 7,
          "metadata": {},
          "output_type": "execute_result"
        },
        {
          "data": {
            "image/png": "[encoded data removed]",
            "text/plain": [
              "<Figure size 640x480 with 1 Axes>"
            ]
          },
          "metadata": {},
          "output_type": "display_data"
        }
      ],
      "source": [
        "device = torch.device(\"cuda:0\")\n",
        "net = models.resnet18(num_classes = 10)\n",
        "net.conv1 = nn.Conv2d(1, 64, kernel_size=(7, 7), stride=(2, 2), padding=(3, 3), bias=False)\n",
        "\n",
        "net =net.to(device)\n",
        "\n",
        "lr = 0.1\n",
        "momentum = 0.5\n",
        "num_epochs = 10\n",
        "\n",
        "opt = optim.SGD(net.parameters(), lr = lr, momentum = momentum)\n",
        "ls = []\n",
        "for i in range(num_epochs):\n",
        "  total_loss = 0\n",
        "  for batch in train_loader:\n",
        "    X, y = batch[0].to(device), batch[1].to(device)\n",
        "    logits = net(X)\n",
        "    loss = F.cross_entropy(logits, y)\n",
        "    opt.zero_grad()\n",
        "    loss.backward()\n",
        "    opt.step()\n",
        "    total_loss+=loss.item()\n",
        "\n",
        "  ls.append(total_loss)\n",
        "\n",
        "\n",
        "plt.plot(ls)\n",
        "\n"
      ]
    },
    {
      "cell_type": "code",
      "execution_count": null,
      "metadata": {
        "id": "HD8EM5hAZ4Qh"
      },
      "outputs": [],
      "source": [
        "#finetuning here\n",
        "# feature extactor ----> classifier\n",
        "net = models.resnet18(pretrained = True)\n",
        "print(net)\n",
        "\n",
        "\n",
        "#freezing the network (backbone)\n",
        "for params in net.parameters():\n",
        "  params.requires_grad = False\n",
        "\n",
        "\n",
        "\n",
        "\n",
        "net.conv1 = nn.Conv2d(1, 64, kernel_size=(7, 7), stride=(2, 2), padding=(3, 3), bias=False)\n",
        "net.fc = nn.Linear(in_features=512, out_features=10, bias=True)\n",
        "\n",
        "\n",
        "for name, params in net.named_parameters():\n",
        "  print(name, params.requires_grad)\n",
        "\n"
      ]
    },
    {
      "cell_type": "code",
      "execution_count": null,
      "metadata": {
        "id": "GJpJLCKLjSRu"
      },
      "outputs": [],
      "source": [
        "#   ------>gard fc\n",
        "\n",
        "# opt.step() ---> negative gradient only all parameter"
      ]
    },
    {
      "cell_type": "code",
      "execution_count": null,
      "metadata": {
        "id": "r1kM3ahoZ4si"
      },
      "outputs": [],
      "source": [
        "\n",
        "#traininign the classifier (in our case due to the channel mismatch we are trianing hte first layer as well)\n",
        "device = torch.device(\"cuda:0\")\n",
        "net = net.to(device)\n",
        "\n",
        "lr = 0.1\n",
        "momentum = 0.5\n",
        "num_epochs = 2\n",
        "\n",
        "opt = torch.optim.SGD(net.parameter() , lr = lr, momentum = momentum)\n",
        "ls = []\n",
        "for i in range(num_epochs):\n",
        "  total_loss = 0\n",
        "  for batch in train_loader:\n",
        "    X, y = batch[0].to(device), batch[1].to(device)\n",
        "    logits = net(X)\n",
        "    loss = F.cross_entropy(logits, y)\n",
        "    opt.zero_grad()\n",
        "    loss.backward()\n",
        "    opt.step()\n",
        "    total_loss+=loss.item()\n",
        "\n",
        "  ls.append(total_loss)"
      ]
    },
    {
      "cell_type": "code",
      "execution_count": null,
      "metadata": {
        "colab": {
          "base_uri": "https://localhost:8080/",
          "height": 448
        },
        "id": "oAv_FFHefIfy",
        "outputId": "a72242c7-c5d8-44b7-8d99-c4d8984e85bd"
      },
      "outputs": [
        {
          "data": {
            "text/plain": [
              "[<matplotlib.lines.Line2D at 0x7f568280e860>]"
            ]
          },
          "execution_count": 16,
          "metadata": {},
          "output_type": "execute_result"
        },
        {
          "data": {
            "image/png": "[encoded data removed]",
            "text/plain": [
              "<Figure size 640x480 with 1 Axes>"
            ]
          },
          "metadata": {},
          "output_type": "display_data"
        }
      ],
      "source": [
        "plt.plot(ls)"
      ]
    },
    {
      "cell_type": "code",
      "execution_count": null,
      "metadata": {
        "id": "Bkt2Sty2eNuD"
      },
      "outputs": [],
      "source": [
        "summary(net, X.shape[1:],)"
      ]
    },
    {
      "cell_type": "code",
      "execution_count": null,
      "metadata": {
        "id": "77FXclxYefaC"
      },
      "outputs": [],
      "source": [
        "#unfreezing\n",
        "for params in net.parameters():\n",
        "  params.requires_grad = True"
      ]
    },
    {
      "cell_type": "code",
      "execution_count": null,
      "metadata": {
        "id": "NEvE5fmKemn0"
      },
      "outputs": [],
      "source": [
        "#fine tuning full network\n",
        "device = torch.device(\"cuda:0\")\n",
        "net = net.to(device)\n",
        "\n",
        "lr = 0.01\n",
        "momentum = 0.5\n",
        "num_epochs = 5\n",
        "\n",
        "opt = torch.optim.SGD(net.parameters() , lr = lr, momentum = momentum)\n",
        "ls = []\n",
        "for i in range(num_epochs):\n",
        "  total_loss = 0\n",
        "  for batch in train_loader:\n",
        "    X, y = batch[0].to(device), batch[1].to(device)\n",
        "    logits = net(X)\n",
        "    loss = F.cross_entropy(logits, y)\n",
        "    opt.zero_grad()\n",
        "    loss.backward()\n",
        "    opt.step()\n",
        "    total_loss+=loss.item()\n",
        "\n",
        "  ls.append(total_loss/len(train_loader))"
      ]
    },
    {
      "cell_type": "code",
      "execution_count": null,
      "metadata": {
        "colab": {
          "base_uri": "https://localhost:8080/",
          "height": 448
        },
        "id": "gkj3V7K3fo22",
        "outputId": "a35a12a7-89db-48fd-837e-dd7b5cb63159"
      },
      "outputs": [
        {
          "data": {
            "text/plain": [
              "[<matplotlib.lines.Line2D at 0x7f5682858ca0>]"
            ]
          },
          "execution_count": 19,
          "metadata": {},
          "output_type": "execute_result"
        },
        {
          "data": {
            "image/png": "[encoded data removed]",
            "text/plain": [
              "<Figure size 640x480 with 1 Axes>"
            ]
          },
          "metadata": {},
          "output_type": "display_data"
        }
      ],
      "source": [
        "plt.plot(ls)"
      ]
    },
    {
      "cell_type": "code",
      "execution_count": null,
      "metadata": {
        "id": "78PQGJv_gJwV"
      },
      "outputs": [],
      "source": [
        "# D1 ---> D2 ---> D3 ----> D4\n",
        "\n",
        "# M1 ----> M2----> M3 ---->M4\n",
        "\n",
        "# D1--->D2={D1, N2}---->D3 = {D2, N3} ---->D4 = {D3, N4}\n",
        "\n",
        "# Et \\subset D_{t-1}\n",
        "\n",
        "# L_{Nt} ---> without fogetting (L_{D_{t-1}}, should also be small)\n",
        "\n",
        "# min L_{Nt} s.t. |theta - theat_{t-1}|_2^2 < eps\n",
        "\n",
        "# min {L_{Nt_Et}} # Arslan Chaudary (Deepmind)"
      ]
    }
  ],
  "metadata": {
    "accelerator": "GPU",
    "colab": {
      "provenance": []
    },
    "kernelspec": {
      "display_name": "Python 3",
      "name": "python3"
    },
    "language_info": {
      "name": "python",
      "version": "3.10.11"
    }
  },
  "nbformat": 4,
  "nbformat_minor": 0
}
