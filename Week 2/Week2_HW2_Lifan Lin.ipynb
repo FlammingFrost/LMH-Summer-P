{
 "cells": [
  {
   "cell_type": "markdown",
   "source": [
    "# Q1. Predicting housing prices\n",
    "\n",
    "In this problem, you will generate models for predicting house prices from given house features. The file “house_prices.txt” contains the data.\n",
    "\n",
    "There are four features used in this regression:\n",
    "\n",
    "* one binary feature (whether or not the house has covered parking)\n",
    "* one numerical feature (size, measure in thousands of square meters)\n",
    "* two categorical features (architectural style and location)\n",
    "\n",
    "Each of the categorial features is represented as a vector of size 3. This gives us feature vectors of size 8 in total for each house. 200 examples are given in the training set."
   ],
   "metadata": {
    "collapsed": false
   }
  },
  {
   "cell_type": "code",
   "execution_count": 1,
   "outputs": [],
   "source": [
    "import pathlib\n",
    "\n",
    "import matplotlib.pyplot as plt\n",
    "import numpy as np\n",
    "import pandas as pd"
   ],
   "metadata": {
    "collapsed": false,
    "ExecuteTime": {
     "end_time": "2023-08-18T23:06:27.144463200Z",
     "start_time": "2023-08-18T23:06:25.899051300Z"
    }
   }
  },
  {
   "cell_type": "code",
   "execution_count": 2,
   "outputs": [],
   "source": [
    "DATA_DIR = pathlib.Path(\"./datasets\")#you may need to change this to find the data"
   ],
   "metadata": {
    "collapsed": false,
    "ExecuteTime": {
     "end_time": "2023-08-18T23:06:27.161418600Z",
     "start_time": "2023-08-18T23:06:27.145462Z"
    }
   }
  },
  {
   "cell_type": "code",
   "execution_count": 3,
   "outputs": [],
   "source": [
    "features = pd.read_csv(\n",
    "    DATA_DIR / \"house_prices.txt\",\n",
    "    delimiter = \"\\t\",\n",
    "    skiprows=[0, 1, 2, 3, 4],\n",
    "    header=None,\n",
    "    usecols=[0, 1, 2, 3, 4, 6, 7, 8],\n",
    "    names=[\"parking\", \"sq_meters\", \"art_deco\", \"bungalow\", \"colonial\", \"west\", \"east\", \"north\"],\n",
    "    dtype=np.float32\n",
    ")\n",
    "\n",
    "target = pd.read_csv(\n",
    "    DATA_DIR / \"house_prices.txt\",\n",
    "    delimiter = \"\\t\",\n",
    "    skiprows=[0, 1, 2, 3, 4],\n",
    "    header=None,\n",
    "    usecols=[5],\n",
    "    names=[\"price\"],\n",
    "    dtype=np.float32\n",
    ")\n"
   ],
   "metadata": {
    "collapsed": false,
    "ExecuteTime": {
     "end_time": "2023-08-18T23:06:27.201310Z",
     "start_time": "2023-08-18T23:06:27.164411600Z"
    }
   }
  },
  {
   "cell_type": "code",
   "execution_count": 4,
   "outputs": [
    {
     "data": {
      "text/plain": "   parking  sq_meters  art_deco  bungalow  colonial  west  east  north\n0     -1.0     0.1275       0.0       1.0       0.0   0.0   0.0    1.0\n1      1.0     0.1100       1.0       0.0       0.0   1.0   0.0    0.0\n2     -1.0     0.1375       0.0       0.0       1.0   0.0   1.0    0.0\n3      1.0     0.1975       0.0       1.0       0.0   0.0   0.0    1.0\n4     -1.0     0.1200       0.0       0.0       1.0   1.0   0.0    0.0",
      "text/html": "<div>\n<style scoped>\n    .dataframe tbody tr th:only-of-type {\n        vertical-align: middle;\n    }\n\n    .dataframe tbody tr th {\n        vertical-align: top;\n    }\n\n    .dataframe thead th {\n        text-align: right;\n    }\n</style>\n<table border=\"1\" class=\"dataframe\">\n  <thead>\n    <tr style=\"text-align: right;\">\n      <th></th>\n      <th>parking</th>\n      <th>sq_meters</th>\n      <th>art_deco</th>\n      <th>bungalow</th>\n      <th>colonial</th>\n      <th>west</th>\n      <th>east</th>\n      <th>north</th>\n    </tr>\n  </thead>\n  <tbody>\n    <tr>\n      <th>0</th>\n      <td>-1.0</td>\n      <td>0.1275</td>\n      <td>0.0</td>\n      <td>1.0</td>\n      <td>0.0</td>\n      <td>0.0</td>\n      <td>0.0</td>\n      <td>1.0</td>\n    </tr>\n    <tr>\n      <th>1</th>\n      <td>1.0</td>\n      <td>0.1100</td>\n      <td>1.0</td>\n      <td>0.0</td>\n      <td>0.0</td>\n      <td>1.0</td>\n      <td>0.0</td>\n      <td>0.0</td>\n    </tr>\n    <tr>\n      <th>2</th>\n      <td>-1.0</td>\n      <td>0.1375</td>\n      <td>0.0</td>\n      <td>0.0</td>\n      <td>1.0</td>\n      <td>0.0</td>\n      <td>1.0</td>\n      <td>0.0</td>\n    </tr>\n    <tr>\n      <th>3</th>\n      <td>1.0</td>\n      <td>0.1975</td>\n      <td>0.0</td>\n      <td>1.0</td>\n      <td>0.0</td>\n      <td>0.0</td>\n      <td>0.0</td>\n      <td>1.0</td>\n    </tr>\n    <tr>\n      <th>4</th>\n      <td>-1.0</td>\n      <td>0.1200</td>\n      <td>0.0</td>\n      <td>0.0</td>\n      <td>1.0</td>\n      <td>1.0</td>\n      <td>0.0</td>\n      <td>0.0</td>\n    </tr>\n  </tbody>\n</table>\n</div>"
     },
     "execution_count": 4,
     "metadata": {},
     "output_type": "execute_result"
    }
   ],
   "source": [
    "features.head()"
   ],
   "metadata": {
    "collapsed": false,
    "ExecuteTime": {
     "end_time": "2023-08-17T14:01:53.552576600Z",
     "start_time": "2023-08-17T14:01:53.523058900Z"
    }
   }
  },
  {
   "cell_type": "markdown",
   "source": [
    "## a) Split the dataset into training and testing sets\n",
    "\n",
    "Split the dataset into training and testing sets. Keep 80% of the data for training and 20% of the data for testing."
   ],
   "metadata": {
    "collapsed": false
   }
  },
  {
   "cell_type": "code",
   "execution_count": 5,
   "outputs": [
    {
     "name": "stdout",
     "output_type": "stream",
     "text": [
      "(200, 8)\n",
      "(200, 1)\n"
     ]
    }
   ],
   "source": [
    "# Print sizes\n",
    "print(features.shape)\n",
    "print(target.shape)\n",
    "\n",
    "# Split into training and testing sets\n",
    "idx = np.arange(features.shape[0])\n",
    "np.random.shuffle(idx)\n",
    "train_idx = idx[:int(0.8 * features.shape[0])]\n",
    "test_idx = idx[int(0.8 * features.shape[0]):]\n",
    "\n",
    "# Split feature\n",
    "X_train, X_test, y_train, y_test = (\n",
    "    features.iloc[train_idx],\n",
    "    features.iloc[test_idx],\n",
    "    target.iloc[train_idx],\n",
    "    target.iloc[test_idx]\n",
    ")"
   ],
   "metadata": {
    "collapsed": false,
    "ExecuteTime": {
     "end_time": "2023-08-17T14:01:53.568533900Z",
     "start_time": "2023-08-17T14:01:53.560556100Z"
    }
   }
  },
  {
   "cell_type": "markdown",
   "source": [
    "## b) Build a neural network to predict house prices\n",
    "\n",
    "Since we do not use pytorch to build a neural network, I don't want to use pytorch to import the data. Instead, I use pandas to import the data and then convert it to numpy array, which had been done in the previous cell."
   ],
   "metadata": {
    "collapsed": false
   }
  },
  {
   "cell_type": "markdown",
   "source": [
    "Here I define the basic components of a neural network, including the activation function, the loss function, and the forward and backward propagation."
   ],
   "metadata": {
    "collapsed": false
   }
  },
  {
   "cell_type": "markdown",
   "source": [
    "I want to realize the NN like pytorch or tensorflow, so I define a class for each component. Each type of layer is a class, storing the parameters and the gradients. The forward and backward propagation are also defined in the class.\n",
    "\n",
    "When training, I only need to call the forward and backward functions of each layer in order. When testing, I only need to call the forward function of each layer in order."
   ],
   "metadata": {
    "collapsed": false
   }
  },
  {
   "cell_type": "code",
   "execution_count": 6,
   "outputs": [],
   "source": [
    "class Linear:\n",
    "    \"\"\"\n",
    "    X input size: (batch, p)\n",
    "    \"\"\"\n",
    "    def __init__(self, in_features, out_features):\n",
    "        self.in_features = in_features\n",
    "        self.out_features = out_features\n",
    "        self.W = np.random.randn(in_features, out_features)\n",
    "        self.b = np.random.randn(out_features)\n",
    "        # forward: Z (batch, out_features) <- X (batch, in_features) * W (in_features, out_features) + b (out_features)\n",
    "        self.grad_W = None\n",
    "        self.grad_b = None\n",
    "        self.X = None\n",
    "        self.batchSize = None\n",
    "\n",
    "    def forward(self, X):\n",
    "        self.X = X\n",
    "        self.batchSize = X.shape[0]\n",
    "        Z = np.dot(X, self.W) + self.b\n",
    "        return Z\n",
    "\n",
    "    def backward(self, dZ):\n",
    "        # dZ (batch, out_features)\n",
    "        # dW (in_features, out_f) <- X.T (in_features, batch) * dZ (batch, out_features)\n",
    "        self.grad_W = np.dot(self.X.T, dZ)\n",
    "        self.grad_b = np.sum(dZ, axis=0)\n",
    "        dX = np.dot(dZ, self.W.T)\n",
    "        return dX\n",
    "\n",
    "    def update(self, lr):\n",
    "        self.W -= lr * self.grad_W\n",
    "        self.b -= lr * self.grad_b\n",
    "        self.grad_W = None\n",
    "        self.grad_b = None\n",
    "\n",
    "class ReLU:\n",
    "    def __init__(self):\n",
    "        self.Z = None\n",
    "\n",
    "    def forward(self, X):\n",
    "        self.Z = np.maximum(X, 0)\n",
    "        return self.Z\n",
    "\n",
    "    def backward(self, dZ):\n",
    "        dX = dZ * (self.Z > 0)\n",
    "        return dX\n",
    "\n",
    "class Sigmoid:\n",
    "    def __init__(self):\n",
    "        self.Z = None\n",
    "\n",
    "    def forward(self, X):\n",
    "        self.Z = 1/(1 + np.exp(-X))\n",
    "        return self.Z\n",
    "\n",
    "    def backward(self, dZ):\n",
    "        dX = dZ * self.Z * (1 - self.Z)\n",
    "        return dX\n",
    "\n",
    "class sigmoidCrossEntropy:\n",
    "    def __init__(self):\n",
    "        self.y = None\n",
    "        self.y_hat = None\n",
    "\n",
    "    def forward(self, y, y_hat):\n",
    "        self.y = y\n",
    "        self.y_hat = 1/(1 + np.exp(-y_hat))\n",
    "        return -np.mean(y * np.log(self.y_hat) + (1 - y) * np.log(1 - self.y_hat))\n",
    "\n",
    "    def backward(self):\n",
    "        return (self.y_hat - self.y)/self.y.shape[0]\n",
    "\n",
    "class MeanSquaredError:\n",
    "    def __init__(self):\n",
    "        self.y = None\n",
    "        self.y_hat = None\n",
    "\n",
    "    def forward(self, y_hat, y):\n",
    "        self.y = y\n",
    "        self.y_hat = y_hat\n",
    "        return np.mean((y - y_hat)**2)\n",
    "\n",
    "    def backward(self):\n",
    "        return 2*(self.y_hat - self.y)/self.y.shape[0]\n",
    "\n",
    "class SoftmaxCrossEntropy:\n",
    "    def __init__(self):\n",
    "        self.y = None\n",
    "        self.y_hat = None\n",
    "\n",
    "    def forward(self, z, y):\n",
    "        self.y = y\n",
    "        self.y_hat = np.exp(z)/np.sum(np.exp(z), axis=1, keepdims=True) # along the row\n",
    "        return -np.mean(np.sum(y * np.log(self.y_hat), axis=1))\n",
    "\n",
    "    def backward(self):\n",
    "        return (self.y_hat - self.y)/self.y.shape[0]\n",
    "\n",
    "    def accuracy(self):\n",
    "        return np.mean(np.argmax(self.y_hat, axis=1) == np.argmax(self.y, axis=1))\n",
    "    def predict(self):\n",
    "        return np.argmax(self.y_hat, axis=1)"
   ],
   "metadata": {
    "collapsed": false,
    "ExecuteTime": {
     "end_time": "2023-08-17T14:01:53.631365400Z",
     "start_time": "2023-08-17T14:01:53.581499100Z"
    }
   }
  },
  {
   "cell_type": "markdown",
   "source": [
    "## c) Train your neural network using gradient descent\n",
    "\n",
    "Using mean square loss, train the network with an appropriate optimizer for a few hundred epochs and plot the loss versus the number of training epochs.\n",
    "\n",
    "Here I simply used mini-batch gradient descent to train the network. More advanced optimizers like Adam or RMSProp can be used later."
   ],
   "metadata": {
    "collapsed": false
   }
  },
  {
   "cell_type": "code",
   "execution_count": 7,
   "outputs": [],
   "source": [
    "# define a iterator to output batches\n",
    "def batch_iterator(X, y, batch_size):\n",
    "    # shuffle the data\n",
    "    X, y = X.copy(), y.copy()\n",
    "    idx = np.arange(X.shape[0])\n",
    "    np.random.shuffle(idx)\n",
    "    X, y = X[idx], y[idx]\n",
    "    num_samples = X.shape[0]\n",
    "    num_batches = num_samples // batch_size\n",
    "    for i in range(num_batches):\n",
    "        start = i * batch_size\n",
    "        end = (i+1) * batch_size\n",
    "        yield X[start:end], y[start:end]"
   ],
   "metadata": {
    "collapsed": false,
    "ExecuteTime": {
     "end_time": "2023-08-17T14:01:53.675764700Z",
     "start_time": "2023-08-17T14:01:53.606439100Z"
    }
   }
  },
  {
   "cell_type": "code",
   "execution_count": 8,
   "outputs": [],
   "source": [
    "#setting hyperparameters\n",
    "batch_size = 20\n",
    "lr = 1e-2\n",
    "epochs = 200"
   ],
   "metadata": {
    "collapsed": false,
    "ExecuteTime": {
     "end_time": "2023-08-17T14:01:53.706681500Z",
     "start_time": "2023-08-17T14:01:53.618400500Z"
    }
   }
  },
  {
   "cell_type": "markdown",
   "source": [
    "Ensemble the layers and train the network."
   ],
   "metadata": {
    "collapsed": false
   }
  },
  {
   "cell_type": "code",
   "execution_count": 9,
   "outputs": [
    {
     "name": "stdout",
     "output_type": "stream",
     "text": [
      "0.2858670366192969\n",
      "0.3192766618488315\n",
      "0.22783607139214235\n",
      "0.2241022321887594\n",
      "0.16535474247802323\n",
      "0.18817840104710318\n",
      "0.13176182683310508\n",
      "0.1397485754644397\n",
      "0.11136413240739193\n",
      "0.10985493475499233\n",
      "0.0927227241650094\n",
      "0.09297506753227369\n",
      "0.08031998302927025\n",
      "0.07991572545948851\n",
      "0.0710369527198078\n",
      "0.0700974831363512\n",
      "0.06423895760430909\n",
      "0.06050239440425846\n",
      "0.058469124294105154\n",
      "0.054330355514638565\n",
      "0.05316020920888914\n",
      "0.05077535478864671\n",
      "0.05021446016904284\n",
      "0.045058266146536366\n",
      "0.046031490685051676\n",
      "0.04555919603661955\n",
      "0.04259209141000164\n",
      "0.039823928734177706\n",
      "0.04016347175121017\n",
      "0.036807203975124755\n",
      "0.03787306651922932\n",
      "0.036271562346321805\n",
      "0.036003821585385905\n",
      "0.031766137624769805\n",
      "0.03406662383302798\n",
      "0.03211644972967385\n",
      "0.03272444891945325\n",
      "0.02892807474774876\n",
      "0.030867281232432247\n",
      "0.02865156474543069\n",
      "0.030628452384281635\n",
      "0.026149100611541982\n",
      "0.028296355882047524\n",
      "0.025600554316718094\n",
      "0.02738447707169837\n",
      "0.02402746071296209\n",
      "0.026203070146716745\n",
      "0.02404816205689502\n",
      "0.026481912134154566\n",
      "0.022570538191279688\n",
      "0.02469231660067625\n",
      "0.021925891695729054\n",
      "0.023819211255887946\n",
      "0.020935656780765484\n",
      "0.023025836090162906\n",
      "0.02114166114652547\n",
      "0.02247970388383804\n",
      "0.02019403825272649\n",
      "0.022082171888787062\n",
      "0.020356216316348708\n",
      "0.021336824138114902\n",
      "0.020469444744420882\n",
      "0.020742770782177056\n",
      "0.01925495019990235\n",
      "0.020289183378904847\n",
      "0.019263649228495133\n",
      "0.020377181274760636\n",
      "0.019806648462778634\n",
      "0.019525272384082942\n",
      "0.018595646549050472\n",
      "0.019079146387495118\n",
      "0.017999443571393083\n",
      "0.01880209168936456\n",
      "0.016844903774622326\n",
      "0.019124256082923195\n",
      "0.019569074964320324\n",
      "0.018167482653274964\n",
      "0.017314840189834084\n",
      "0.01804392777031346\n",
      "0.016900233131249442\n",
      "0.018092027192903253\n",
      "0.01781931999289047\n",
      "0.01791390053102961\n",
      "0.015689838828049446\n",
      "0.01738709453285869\n",
      "0.016099172168538026\n",
      "0.017841375575790908\n",
      "0.015941015860150877\n",
      "0.01699727961235301\n",
      "0.01638134367913855\n",
      "0.017025155253130867\n",
      "0.015707244214171724\n",
      "0.016690604570044367\n",
      "0.016521498343531414\n",
      "0.017017843527003196\n",
      "0.015611553498548763\n",
      "0.01641905793474886\n",
      "0.01580197806996538\n",
      "0.016256348275827403\n",
      "0.016134649299899183\n",
      "0.01616805098064315\n",
      "0.01549748773231802\n",
      "0.016114230893198585\n",
      "0.016789320019151878\n",
      "0.016301240557238913\n",
      "0.014804692768338424\n",
      "0.016002294203872627\n",
      "0.01677040173868365\n",
      "0.015819385562054658\n",
      "0.014835069271139922\n",
      "0.01601165886340144\n",
      "0.017230087644449294\n",
      "0.015554042846797783\n",
      "0.015619118988646093\n",
      "0.015351098454027915\n",
      "0.015261303058261946\n",
      "0.015407822787535375\n",
      "0.014625739674185146\n",
      "0.015119711659578882\n",
      "0.015247208884230094\n",
      "0.015321996797567012\n",
      "0.01435699700360649\n",
      "0.014960505759457222\n",
      "0.015153838858720242\n",
      "0.015210158768526966\n",
      "0.01686452589904423\n",
      "0.015368087089589349\n",
      "0.01676100038708836\n",
      "0.014697618379846244\n",
      "0.014893032966564718\n",
      "0.015149312614151084\n",
      "0.01618711577948916\n",
      "0.014611784139203271\n",
      "0.01455263365680661\n",
      "0.014504200649262755\n",
      "0.014402756044408205\n",
      "0.015209698269075183\n",
      "0.016421721110303704\n",
      "0.015005599907402297\n",
      "0.017154560109322068\n",
      "0.014277867576527853\n",
      "0.01438099205290197\n",
      "0.014410319887250144\n",
      "0.013754479280084279\n",
      "0.014261154966826317\n",
      "0.015198404191045466\n",
      "0.014095591014272216\n",
      "0.01434223640313663\n",
      "0.014096138560314036\n",
      "0.013780285282969406\n",
      "0.014026673327959132\n",
      "0.013654384069269516\n",
      "0.014044214586469575\n",
      "0.01373163022733911\n",
      "0.014021029482388831\n",
      "0.01357378075646864\n",
      "0.013766374669803067\n",
      "0.014013509274905672\n",
      "0.015174305041695407\n",
      "0.013379181554742553\n",
      "0.013650878163051943\n",
      "0.013845032015681652\n",
      "0.013698000893239628\n",
      "0.014652460734223516\n",
      "0.013540866868253459\n",
      "0.013656652290389346\n",
      "0.013553037243144838\n",
      "0.013389264946690339\n",
      "0.013445008461642205\n",
      "0.013471996124623409\n",
      "0.013410621452523\n",
      "0.013469971912091283\n",
      "0.013501396293237178\n",
      "0.013703880563266366\n",
      "0.013286953899796783\n",
      "0.013777176192008517\n",
      "0.013304229516428285\n",
      "0.014350464181969492\n",
      "0.013231170727390006\n",
      "0.013228775315394969\n",
      "0.013281161132272016\n",
      "0.013609113377794756\n",
      "0.013961466750430964\n",
      "0.012911008062279027\n",
      "0.013100408270272224\n",
      "0.013693259403814485\n",
      "0.013054392721176386\n",
      "0.013146445164309633\n",
      "0.01323891135645256\n",
      "0.012895235276924197\n",
      "0.013027821071507273\n",
      "0.01291806375337334\n",
      "0.012976621448275221\n",
      "0.012855613337223825\n",
      "0.013018351413560109\n",
      "0.014194426799696694\n",
      "0.012808682827662576\n",
      "0.013480418258475336\n",
      "0.012808134937816944\n",
      "0.013438553472280707\n",
      "0.013052826647918256\n",
      "0.01457867930277286\n",
      "0.01300408859967328\n",
      "0.014088391812143802\n",
      "0.013095940329060363\n",
      "0.012221781755683952\n",
      "0.012698021118332542\n",
      "0.01293972119185248\n",
      "0.0126104642242408\n",
      "0.012522308339269456\n",
      "0.012679806608976291\n",
      "0.01342447009715001\n",
      "0.012911108257457454\n",
      "0.011951943285102731\n",
      "0.012471805057230233\n",
      "0.012718041175844696\n",
      "0.012623007551946664\n",
      "0.013653387333745414\n",
      "0.012685423043986224\n",
      "0.014060147844385884\n",
      "0.012411496170919481\n",
      "0.013045437802540357\n",
      "0.012396772438565592\n",
      "0.012871886743359536\n",
      "0.012373492464173953\n",
      "0.012309317860431846\n",
      "0.012312533516410835\n",
      "0.013115812432910883\n",
      "0.012285978261144132\n",
      "0.013086696305253723\n",
      "0.01227976108573298\n",
      "0.012808747401611018\n",
      "0.012226837094463202\n",
      "0.012359843517560065\n",
      "0.012209538064377143\n",
      "0.01191228478978711\n",
      "0.012111486489614314\n",
      "0.012505598328827994\n",
      "0.012173803534838957\n",
      "0.011939191415260078\n",
      "0.012199683436639379\n",
      "0.012483791011124179\n",
      "0.01220875879800063\n",
      "0.011600142153963955\n",
      "0.012086451320325365\n",
      "0.011713189027735365\n",
      "0.01208031929010561\n",
      "0.011532995778206993\n",
      "0.0118989402374615\n",
      "0.012067061863549836\n",
      "0.011900057877390638\n",
      "0.012141627264671623\n",
      "0.011845136335105814\n",
      "0.011856885728692285\n",
      "0.011965390156754695\n",
      "0.01279790830251774\n",
      "0.012249421320304953\n",
      "0.013810408139738866\n",
      "0.011769638658638833\n",
      "0.012234565175712902\n",
      "0.011771222914114069\n",
      "0.01219636653695846\n",
      "0.01172841416474514\n",
      "0.011881483993107995\n",
      "0.011921835627796662\n",
      "0.011099360737060183\n",
      "0.011634812444780625\n",
      "0.011584382975723626\n",
      "0.011750033793516418\n",
      "0.012246017112669136\n",
      "0.01174627053791654\n",
      "0.012501542934127951\n",
      "0.011629330682922503\n",
      "0.011507394253477785\n",
      "0.011566397160136646\n",
      "0.011593494463072437\n",
      "0.011743448139746326\n",
      "0.01273514936254892\n",
      "0.011516199723046702\n",
      "0.011455550936041347\n",
      "0.01146261746202237\n",
      "0.01161323099530182\n",
      "0.011481539596580364\n",
      "0.011575138631980553\n",
      "0.011450526047717298\n",
      "0.011088390704650612\n",
      "0.011428983984951416\n",
      "0.011108841173697842\n",
      "0.011439401201279589\n",
      "0.011917348372274723\n",
      "0.011605169502523079\n",
      "0.012677166887430952\n",
      "0.011336918437399219\n",
      "0.010859380836207074\n",
      "0.011421893871744235\n",
      "0.011393731899424829\n",
      "0.011245387190303695\n",
      "0.011446253946688887\n",
      "0.011306390657002532\n",
      "0.011853537384328103\n",
      "0.011237870049753105\n",
      "0.011439468409261093\n",
      "0.011490615622788868\n",
      "0.01240263683328936\n",
      "0.011873464917127879\n",
      "0.010741758734291626\n",
      "0.011490993978492195\n",
      "0.010963375469351633\n",
      "0.01115087948238691\n",
      "0.011538904672695773\n",
      "0.01113866147624715\n",
      "0.010741396812802173\n",
      "0.011081960183765584\n",
      "0.01102189951913611\n",
      "0.011224422860792631\n",
      "0.011802843049476904\n",
      "0.011029007410815486\n",
      "0.01074149893625309\n",
      "0.011265298189872533\n",
      "0.011645965958899026\n",
      "0.011008507177835634\n",
      "0.011255524040815215\n",
      "0.011096980522361485\n",
      "0.011745257176816756\n",
      "0.01107334897869797\n",
      "0.01033606771142927\n",
      "0.011110114037189743\n",
      "0.011837304849381955\n",
      "0.010892272213844287\n",
      "0.01060165365196757\n",
      "0.01111146943709664\n",
      "0.011660721955851164\n",
      "0.010923967735350513\n",
      "0.011181106638179469\n",
      "0.010924434528479044\n",
      "0.010273753352108719\n",
      "0.01089296268742457\n",
      "0.010256786284379605\n",
      "0.010806733919021285\n",
      "0.010482678374753788\n",
      "0.010817835395173895\n",
      "0.011000752597197743\n",
      "0.010805199592433878\n",
      "0.011043323816580174\n",
      "0.010773907326872209\n",
      "0.01042154811204352\n",
      "0.010802644892292265\n",
      "0.010217493883224186\n",
      "0.010780487272616771\n",
      "0.010865091855014105\n",
      "0.01073264103395977\n",
      "0.010127519203793433\n",
      "0.010842480382229657\n",
      "0.011300173253922574\n",
      "0.010689117905723073\n",
      "0.010770506309592292\n",
      "0.010635347889339484\n",
      "0.01022551020509704\n",
      "0.010657294863715541\n",
      "0.01074854375225438\n",
      "0.010672003683166223\n",
      "0.01079439028589602\n",
      "0.010578457310808396\n",
      "0.010341428703676433\n",
      "0.010859163186889464\n",
      "0.009800359302472672\n",
      "0.010599293919796684\n",
      "0.010476250673185309\n",
      "0.010534453361916732\n",
      "0.010027635668312126\n",
      "0.010612634874681387\n",
      "0.010055895908709969\n",
      "0.0105105131326729\n",
      "0.01041583637788876\n",
      "0.010528135677707178\n",
      "0.009678412375740852\n",
      "0.010587380333437025\n",
      "0.01101630929774235\n",
      "0.01047614466598339\n",
      "0.010579503039703238\n",
      "0.01055709730615267\n",
      "0.009748679906303731\n",
      "0.010434568452193902\n",
      "0.010433196825586888\n",
      "0.010701541290066114\n",
      "0.009413490170888121\n",
      "0.010659944307956009\n",
      "0.011246502689365372\n",
      "0.010471769972431565\n",
      "0.010812956478018304\n",
      "0.010346162064614342\n",
      "0.010097980188567505\n",
      "0.010320792057283638\n",
      "0.010181159337687639\n",
      "0.010307157929363254\n",
      "0.010245758345898534\n",
      "0.010330316990598146\n",
      "0.009583355380316835\n",
      "0.010456687931325986\n",
      "0.0094548101517037\n"
     ]
    },
    {
     "data": {
      "text/plain": "<Figure size 1000x500 with 1 Axes>",
      "image/png": "[encoded data removed]"
     },
     "metadata": {},
     "output_type": "display_data"
    }
   ],
   "source": [
    "# build the network\n",
    "losses = []\n",
    "losses_test = []\n",
    "model_reg = [\n",
    "    Linear(8,10),\n",
    "    ReLU(),\n",
    "    Linear(10, 10),\n",
    "    ReLU(),\n",
    "    Linear(10, 1),\n",
    "]\n",
    "loss = MeanSquaredError()\n",
    "# train the network\n",
    "loss_val = np.var(y_train.values)# initialize the loss by the variance of the training data\n",
    "for epoch in range(epochs):\n",
    "    iterator = batch_iterator(X_train.values, y_train.values, batch_size)\n",
    "    for X_batch, y_batch in iterator:\n",
    "        # forward\n",
    "        for layer in model_reg:\n",
    "            # forward propagation, one by one\n",
    "            X_batch = layer.forward(X_batch)\n",
    "        loss_val = loss.forward(X_batch, y_batch)\n",
    "        # backward\n",
    "        dX = loss.backward()\n",
    "        for layer in model_reg[::-1]:\n",
    "            # in my design, the grad is stored in the layer itself\n",
    "            dX = layer.backward(dX)\n",
    "        # update\n",
    "        for layer in model_reg:\n",
    "            # used the stored grad to update the parameters\n",
    "            if hasattr(layer, 'update'):\n",
    "                layer.update(lr)\n",
    "    # print(f'epoch {epoch}, loss {loss_val}')\n",
    "    X = X_train.values\n",
    "    for layer in model_reg:\n",
    "        X = layer.forward(X)\n",
    "    loss_val = loss.forward(X,y_train.values)\n",
    "    losses.append(loss_val)\n",
    "    print(loss_val)\n",
    "    X = X_test.values\n",
    "    for layer in model_reg:\n",
    "        X = layer.forward(X)\n",
    "    loss_val_test = loss.forward(X,y_test.values)\n",
    "    losses_test.append(loss_val_test)\n",
    "    print(loss_val_test)\n",
    "\n",
    "\n",
    "plt.figure(figsize=(10, 5))\n",
    "plt.plot(losses, label='train')\n",
    "plt.plot(losses_test, label='test')\n",
    "plt.xlabel('epoch - batch')\n",
    "plt.ylabel('loss')\n",
    "plt.title('loss vs. batch')\n",
    "plt.legend()\n",
    "plt.ylim(0, 0.1)\n",
    "plt.show()\n",
    "\n",
    "# plt.figure(figsize=(10, 5))\n",
    "# plt.plot(losses)\n",
    "# plt.xlabel('epoch - batch')\n",
    "# plt.ylabel('loss')\n",
    "# plt.title('loss vs. batch')\n",
    "# plt.ylim(0, 0.1)\n",
    "# plt.show()"
   ],
   "metadata": {
    "collapsed": false,
    "ExecuteTime": {
     "end_time": "2023-08-17T14:01:54.217020400Z",
     "start_time": "2023-08-17T14:01:53.639347400Z"
    }
   }
  },
  {
   "cell_type": "markdown",
   "source": [
    "## d) Assess the performance of your neural network\n",
    "\n",
    "Assess the performance of your neural network on the training data and the testing data. Comment on the results."
   ],
   "metadata": {
    "collapsed": false
   }
  },
  {
   "cell_type": "markdown",
   "source": [
    "#### Some comments\n",
    "- The loss is decreasing as the number of epochs increases, which is a good sign. Our model is learning.\n",
    "- We don't need to train too many epochs, since the loss is already small enough.\n",
    "- Let's see how the model performs on the test set.\n",
    "\n",
    "However, if we look closely at the training loss, we still find it fluctuates a lot. A adaptive learning rate can be used to improve the performance. However, this may also cause the model to overfit the training data. **So I will try it after question d).**"
   ],
   "metadata": {
    "collapsed": false
   }
  },
  {
   "cell_type": "code",
   "execution_count": 10,
   "outputs": [
    {
     "name": "stdout",
     "output_type": "stream",
     "text": [
      "test loss 0.0094548101517037\n"
     ]
    }
   ],
   "source": [
    "# test the model\n",
    "X = X_test.values\n",
    "for layer in model_reg:\n",
    "    X = layer.forward(X)\n",
    "loss_val = loss.forward(y_test.values, X)\n",
    "print(f'test loss {loss_val}')"
   ],
   "metadata": {
    "collapsed": false,
    "ExecuteTime": {
     "end_time": "2023-08-17T14:01:54.325242400Z",
     "start_time": "2023-08-17T14:01:54.221010500Z"
    }
   }
  },
  {
   "cell_type": "markdown",
   "source": [
    "This result is pretty good. The loss on the test set is not much larger than the loss on the training set. This means that our model is not overfitting."
   ],
   "metadata": {
    "collapsed": false
   }
  },
  {
   "cell_type": "markdown",
   "source": [
    "## e) adaptive learning rate"
   ],
   "metadata": {
    "collapsed": false
   }
  },
  {
   "cell_type": "code",
   "execution_count": 11,
   "outputs": [],
   "source": [
    "# set a scheduler to adjust the learning rate\n",
    "## This is a simple decay scheduler\n",
    "class Scheduler:\n",
    "    def __init__(self, lr, decay):\n",
    "        self.lr = lr\n",
    "        self.decay = decay\n",
    "\n",
    "    def learning_rate(self, e):\n",
    "        return self.lr * self.decay**e"
   ],
   "metadata": {
    "collapsed": false,
    "ExecuteTime": {
     "end_time": "2023-08-17T14:01:54.325242400Z",
     "start_time": "2023-08-17T14:01:54.234974700Z"
    }
   }
  },
  {
   "cell_type": "code",
   "execution_count": 12,
   "outputs": [
    {
     "name": "stdout",
     "output_type": "stream",
     "text": [
      "0.32256870649792135\n",
      "0.23905850178660537\n",
      "0.17350629071798498\n",
      "0.14467927904367076\n",
      "0.12470101205421699\n",
      "0.11708576938835091\n",
      "0.10112960224360719\n",
      "0.10504421050900317\n",
      "0.08696115777705728\n",
      "0.09686623692722689\n",
      "0.07693847144422583\n",
      "0.08979283540719743\n",
      "0.06980989784328692\n",
      "0.08266420165986041\n",
      "0.06465547371808786\n",
      "0.07802426192851213\n",
      "0.06028609914615039\n",
      "0.0740242214672165\n",
      "0.05675727928116457\n",
      "0.06945993346416154\n",
      "0.0537578156664831\n",
      "0.06611682699345645\n",
      "0.0510633594916704\n",
      "0.06304925383935944\n",
      "0.04883881672627016\n",
      "0.060143120300135425\n",
      "0.046606612737838296\n",
      "0.058140278712359716\n",
      "0.04450996337472516\n",
      "0.05485683743911761\n",
      "0.043094681113859126\n",
      "0.05374639447513132\n",
      "0.04155429875034816\n",
      "0.051861759990432334\n",
      "0.04014353510897364\n",
      "0.04930317632761947\n",
      "0.0391031974389656\n",
      "0.048948788148660424\n",
      "0.03779846621564069\n",
      "0.04617749126900961\n",
      "0.037105929255762914\n",
      "0.0447200699767443\n",
      "0.03593864830421001\n",
      "0.04330208339483991\n",
      "0.03544233806845515\n",
      "0.044180088820101646\n",
      "0.03428618926006619\n",
      "0.0426113241514652\n",
      "0.03323501246838242\n",
      "0.04047170439392714\n",
      "0.03244952022123816\n",
      "0.03918250707669911\n",
      "0.031928106484765115\n",
      "0.03911774298069679\n",
      "0.031138903815063824\n",
      "0.03712280868066355\n",
      "0.030596518731519827\n",
      "0.03620550014224467\n",
      "0.029814405088916075\n",
      "0.03565418657187807\n",
      "0.0293940631621726\n",
      "0.03467695070840482\n",
      "0.028732203007780538\n",
      "0.03418553527725432\n",
      "0.028233797410451823\n",
      "0.03373545160116874\n",
      "0.027779335741465693\n",
      "0.03308524534220444\n",
      "0.027434547740650156\n",
      "0.03270793146803131\n",
      "0.026978992198285666\n",
      "0.032170315609327683\n",
      "0.026532677230097463\n",
      "0.031242941931987945\n",
      "0.026194855393256465\n",
      "0.030905814621114504\n",
      "0.02582755810002607\n",
      "0.030479515776162768\n",
      "0.025673536025107257\n",
      "0.030664298951240388\n",
      "0.025235648174724335\n",
      "0.029827663570134492\n",
      "0.024927014501994426\n",
      "0.02932817430669824\n",
      "0.024571452857198767\n",
      "0.028526681264198227\n",
      "0.024320611331712063\n",
      "0.027919035344844034\n",
      "0.024031245514128646\n",
      "0.027720125921274357\n",
      "0.023814409481004568\n",
      "0.0271698112298731\n",
      "0.023540458949231083\n",
      "0.027185945559035196\n",
      "0.02329643999251147\n",
      "0.0269075123852179\n",
      "0.023051049672649374\n",
      "0.02625388475631313\n",
      "0.02299706097019899\n",
      "0.02686029446407197\n",
      "0.022594243551168024\n",
      "0.025563323462234815\n",
      "0.0224091156946848\n",
      "0.025861881764112415\n",
      "0.022118993390884627\n",
      "0.025145821132776275\n",
      "0.02191619037873096\n",
      "0.024850324787326246\n",
      "0.02177350881389015\n",
      "0.024304716361579513\n",
      "0.021562479325457278\n",
      "0.024079678987674106\n",
      "0.021506245645605424\n",
      "0.02371344576129284\n",
      "0.02117804481219486\n",
      "0.02364034965774302\n",
      "0.02110073483127748\n",
      "0.024236067878255742\n",
      "0.020904927834506412\n",
      "0.02390327080560297\n",
      "0.020666900673466614\n",
      "0.0232327642019828\n",
      "0.020525960449770453\n",
      "0.02289487772695059\n",
      "0.020373909383391155\n",
      "0.022774025833635476\n",
      "0.02023622459291976\n",
      "0.02265294140345171\n",
      "0.020107139092902952\n",
      "0.02237764030201882\n",
      "0.019978162578988417\n",
      "0.02222528819390195\n",
      "0.019873954580114324\n",
      "0.02195458776194554\n",
      "0.019830118605359232\n",
      "0.021662850209026942\n",
      "0.01962279678193056\n",
      "0.021834339134036134\n",
      "0.019510465153198136\n",
      "0.02165198721929845\n",
      "0.019406350384055897\n",
      "0.021483766446615548\n",
      "0.019323908193568586\n",
      "0.021638728743093343\n",
      "0.0192293201596826\n",
      "0.021537161490223604\n",
      "0.019125901489002575\n",
      "0.021360139725065907\n",
      "0.019068213287970433\n",
      "0.020759970857700503\n",
      "0.01902647417139077\n",
      "0.020569072978688586\n",
      "0.018834319246509905\n",
      "0.020803534450678597\n",
      "0.018743858733863555\n",
      "0.02069461996133005\n",
      "0.018659487393113475\n",
      "0.020509066653832658\n",
      "0.018597220583203494\n",
      "0.020296851843242984\n",
      "0.01851368791807504\n",
      "0.02018539944888332\n",
      "0.01841718603898599\n",
      "0.020212962653718955\n",
      "0.018354603236738164\n",
      "0.01998764081254125\n",
      "0.018278078865549413\n",
      "0.01991441261233739\n",
      "0.01825477931130772\n",
      "0.019670352155633626\n",
      "0.018133049491365617\n",
      "0.01976326236731935\n",
      "0.018064200006572387\n",
      "0.019811002351092993\n",
      "0.018003912967225102\n",
      "0.019781820638094742\n",
      "0.01794983172251991\n",
      "0.019781477591146915\n",
      "0.01787203651355343\n",
      "0.01954259902714795\n",
      "0.01781383655037314\n",
      "0.019355312396091978\n",
      "0.017756145034389544\n",
      "0.019453274184649944\n",
      "0.017699800885886845\n",
      "0.01939823823868013\n",
      "0.01763900387843854\n",
      "0.019138572424566187\n",
      "0.01759191961644215\n",
      "0.019001099126588806\n",
      "0.017526134597581646\n",
      "0.01914138514326342\n",
      "0.017472079191344508\n",
      "0.01903375893572848\n",
      "0.01742433545630629\n",
      "0.01902318658756518\n",
      "0.01737681451283207\n",
      "0.018791782078157702\n",
      "0.017330370776269713\n",
      "0.018935162309397586\n",
      "0.017278836253458447\n",
      "0.01868744545114568\n",
      "0.017229552823175735\n",
      "0.018697402986971794\n",
      "0.017184453140961196\n",
      "0.01863668737696389\n",
      "0.01715012265001497\n",
      "0.01847335413035612\n",
      "0.01712794752499522\n",
      "0.018328819717527277\n",
      "0.0171017243681632\n",
      "0.01824246765359065\n",
      "0.017048515773026872\n",
      "0.018230065129853305\n",
      "0.016982178304836178\n",
      "0.018288248550189092\n",
      "0.016947847672635817\n",
      "0.018231585263976856\n",
      "0.016908643917468477\n",
      "0.018414679994263626\n",
      "0.016870625487065527\n",
      "0.01835145341610142\n",
      "0.01683483891260486\n",
      "0.01829290272075227\n",
      "0.01680153439457403\n",
      "0.018250794737375203\n",
      "0.01676231260599042\n",
      "0.018124724872213106\n",
      "0.01673023361932103\n",
      "0.01802514137414706\n",
      "0.01669856559739155\n",
      "0.01796262813551478\n",
      "0.016671815140953696\n",
      "0.01787987552407644\n",
      "0.01663459401084401\n",
      "0.01792893700345675\n",
      "0.016604762151272965\n",
      "0.01786633872731152\n",
      "0.01657455365690242\n",
      "0.017844166916101176\n",
      "0.016559886414749054\n",
      "0.017696004598749197\n",
      "0.01651945212773313\n",
      "0.01786466002816433\n",
      "0.016490700271441477\n",
      "0.01782116345578909\n",
      "0.01647231540137853\n",
      "0.01760450432121604\n",
      "0.016440236977377433\n",
      "0.01759431889811076\n",
      "0.01640996439271364\n",
      "0.017590576568526306\n",
      "0.01638114248082568\n",
      "0.017584170753445844\n",
      "0.01635776969281069\n",
      "0.017680373468632323\n",
      "0.01633532117883583\n",
      "0.017683638150102387\n",
      "0.016303215311217648\n",
      "0.017490613326142573\n",
      "0.01627691113709729\n",
      "0.01747495138080773\n",
      "0.016252746984353587\n",
      "0.0174165136740085\n",
      "0.016226095119294206\n",
      "0.0174337733730141\n",
      "0.016202295618178198\n",
      "0.017374686876569033\n",
      "0.016181563826830815\n",
      "0.017306083064633153\n",
      "0.016159941557532566\n",
      "0.017271174926435012\n",
      "0.016141239624170255\n",
      "0.017215153969358587\n",
      "0.016109840583187526\n",
      "0.017250476036211944\n",
      "0.01609788633311959\n",
      "0.017144519329625192\n",
      "0.01607329367269562\n",
      "0.01713668043608328\n",
      "0.016046957972252605\n",
      "0.017142937527780584\n",
      "0.016025211099094615\n",
      "0.017132718486833697\n",
      "0.016001276827840184\n",
      "0.017136999007578257\n",
      "0.015979637698636494\n",
      "0.017127438215044696\n",
      "0.01595930604310948\n",
      "0.017139053531037104\n",
      "0.015940334581808283\n",
      "0.017072575570423038\n",
      "0.015920059233494748\n",
      "0.017094274576847257\n",
      "0.015901763627531606\n",
      "0.017095931521849406\n",
      "0.015884654732078656\n",
      "0.01711188567517164\n",
      "0.015866404628719376\n",
      "0.017094447301959463\n",
      "0.015848263547594072\n",
      "0.01707258185505587\n",
      "0.015831462592798568\n",
      "0.01706508656035625\n",
      "0.015810084465332386\n",
      "0.01695363836075949\n",
      "0.015792679025589135\n",
      "0.016945432833437413\n",
      "0.015777935541187522\n",
      "0.016983890851426653\n",
      "0.015759704752227648\n",
      "0.01694192621354964\n",
      "0.01574633152645776\n",
      "0.01696904586249454\n",
      "0.015726800657048047\n",
      "0.016894671836723378\n",
      "0.015710928863781247\n",
      "0.016879418809671143\n",
      "0.015694792060267918\n",
      "0.016842727271994727\n",
      "0.01567937404775109\n",
      "0.016821637850182317\n",
      "0.015664256327992822\n",
      "0.016780473740924135\n",
      "0.01564969110968137\n",
      "0.016749296930732554\n",
      "0.015634816184002025\n",
      "0.016741295838297136\n",
      "0.015620085118941252\n",
      "0.016760458828489554\n",
      "0.015606054417480766\n",
      "0.01670717183468931\n",
      "0.015591545685900762\n",
      "0.01670905458875132\n",
      "0.015577852143346468\n",
      "0.016682586026413416\n",
      "0.015564897231026716\n",
      "0.01664629576850063\n",
      "0.015550805884136671\n",
      "0.016655330590641466\n",
      "0.015537705947860584\n",
      "0.016634470209238285\n",
      "0.015525380546210252\n",
      "0.016668213440539942\n",
      "0.015511775793211325\n",
      "0.016610464157917143\n",
      "0.015499165733068995\n",
      "0.016605274712154266\n",
      "0.015486794358722019\n",
      "0.016579447563264467\n",
      "0.015474565813240432\n",
      "0.01656877497573927\n",
      "0.015462578056395296\n",
      "0.016567739753306304\n",
      "0.015450917280497934\n",
      "0.01656269556925159\n",
      "0.015439223951507305\n",
      "0.01655254728182688\n",
      "0.01542816234497547\n",
      "0.016550024383201627\n",
      "0.015416198109653816\n",
      "0.01652142359611188\n",
      "0.015404733191734687\n",
      "0.01648490567201683\n",
      "0.015393739396523342\n",
      "0.01646701234088289\n",
      "0.015383044240370753\n",
      "0.01644488013859103\n",
      "0.01537302616925545\n",
      "0.01641475493645308\n",
      "0.01536159308955718\n",
      "0.016429664414462683\n",
      "0.015351210812865269\n",
      "0.016437305723845202\n",
      "0.015340863558126253\n",
      "0.0164225276146138\n",
      "0.01533074006862221\n",
      "0.016400614729683634\n",
      "0.015320830226856338\n",
      "0.016406504617898048\n",
      "0.015312921153590328\n",
      "0.01643765025725071\n",
      "0.015302352556179288\n",
      "0.01641385349710754\n",
      "0.015292610814093294\n",
      "0.016401874812471094\n",
      "0.015282266320961805\n",
      "0.016373921442935868\n",
      "0.015272268288967172\n",
      "0.016331566323734382\n",
      "0.015262969282997094\n",
      "0.016329561496603705\n",
      "0.015253899711879512\n",
      "0.01629714912693637\n",
      "0.015245037739380296\n",
      "0.016278522357326658\n",
      "0.015236489497102842\n",
      "0.016258243999054324\n",
      "0.015227084707810118\n",
      "0.016265379845210808\n"
     ]
    },
    {
     "data": {
      "text/plain": "<Figure size 1000x500 with 1 Axes>",
      "image/png": "[encoded data removed]"
     },
     "metadata": {},
     "output_type": "display_data"
    }
   ],
   "source": [
    "# build the network\n",
    "model_reg = [\n",
    "    Linear(8,10),\n",
    "    ReLU(),\n",
    "    Linear(10, 10),\n",
    "    ReLU(),\n",
    "    Linear(10, 1),\n",
    "]\n",
    "loss = MeanSquaredError()\n",
    "\n",
    "#setting hyperparameters\n",
    "batch_size = 20\n",
    "lr = 1e-2\n",
    "epochs = 200\n",
    "losses = []\n",
    "losses_test = []\n",
    "scheduler = Scheduler(lr, 0.99)\n",
    "# train the network\n",
    "loss_val = np.var(y_train.values)# initialize the loss by the variance of the training data\n",
    "for epoch in range(epochs):\n",
    "    iterator = batch_iterator(X_train.values, y_train.values, batch_size)\n",
    "    for X_batch, y_batch in iterator:\n",
    "        # forward\n",
    "        for layer in model_reg:\n",
    "            # forward propagation, one by one\n",
    "            X_batch = layer.forward(X_batch)\n",
    "        loss_val = loss.forward(X_batch, y_batch)\n",
    "        # backward\n",
    "        dX = loss.backward()\n",
    "        for layer in model_reg[::-1]:\n",
    "            # in my design, the grad is stored in the layer itself\n",
    "            dX = layer.backward(dX)\n",
    "        # update\n",
    "        for layer in model_reg:\n",
    "            # used the stored grad to update the parameters\n",
    "            if hasattr(layer, 'update'):\n",
    "                layer.update(scheduler.learning_rate(epoch))\n",
    "    # print(f'epoch {epoch}, loss {loss_val}')\n",
    "    X = X_train.values\n",
    "    for layer in model_reg:\n",
    "        X = layer.forward(X)\n",
    "    loss_val = loss.forward(X,y_train.values)\n",
    "    losses.append(loss_val)\n",
    "    print(loss_val)\n",
    "    X = X_test.values\n",
    "    for layer in model_reg:\n",
    "        X = layer.forward(X)\n",
    "    loss_val_test = loss.forward(X,y_test.values)\n",
    "    losses_test.append(loss_val_test)\n",
    "    print(loss_val_test)\n",
    "\n",
    "\n",
    "plt.figure(figsize=(10, 5))\n",
    "plt.plot(losses, label='train')\n",
    "plt.plot(losses_test, label='test')\n",
    "plt.xlabel('epoch - batch')\n",
    "plt.ylabel('loss')\n",
    "plt.title('loss vs. batch')\n",
    "plt.legend()\n",
    "plt.ylim(0, 0.1)\n",
    "plt.show()"
   ],
   "metadata": {
    "collapsed": false,
    "ExecuteTime": {
     "end_time": "2023-08-17T14:01:54.707561100Z",
     "start_time": "2023-08-17T14:01:54.256426500Z"
    }
   }
  },
  {
   "cell_type": "code",
   "execution_count": 13,
   "outputs": [
    {
     "name": "stdout",
     "output_type": "stream",
     "text": [
      "test loss 0.016265379845210808\n"
     ]
    }
   ],
   "source": [
    "# test the model\n",
    "X = X_test.values\n",
    "for layer in model_reg:\n",
    "    X = layer.forward(X)\n",
    "loss_val = loss.forward(y_test.values, X)\n",
    "print(f'test loss {loss_val}')"
   ],
   "metadata": {
    "collapsed": false,
    "ExecuteTime": {
     "end_time": "2023-08-17T14:01:54.812798800Z",
     "start_time": "2023-08-17T14:01:54.708558300Z"
    }
   }
  },
  {
   "cell_type": "markdown",
   "source": [
    "Sadly, the adaptive learning rate does not improve the performance of the model. The loss is still fluctuating a lot, and the loss on the test set is even larger than the loss on the training set. This means that the model is overfitting the training data."
   ],
   "metadata": {
    "collapsed": false
   }
  },
  {
   "cell_type": "markdown",
   "source": [
    "# Q2. Classification\n",
    "\n",
    "Consider the following simulated classification dataset with N = 300 samples labeled with one of three class labels."
   ],
   "metadata": {
    "collapsed": false
   }
  },
  {
   "cell_type": "code",
   "execution_count": 14,
   "outputs": [
    {
     "data": {
      "text/plain": "<Figure size 640x480 with 1 Axes>",
      "image/png": "[encoded data removed]"
     },
     "metadata": {},
     "output_type": "display_data"
    }
   ],
   "source": [
    "features = (np.load(DATA_DIR / \"spiral_features.npy\")\n",
    "              .astype(np.float32))\n",
    "target = np.load(DATA_DIR / \"spiral_target.npy\")\n",
    "\n",
    "# visualize the data\n",
    "plt.scatter(features[:, 0], features[:, 1], c=target, s=20)\n",
    "plt.show()"
   ],
   "metadata": {
    "collapsed": false,
    "ExecuteTime": {
     "end_time": "2023-08-17T14:01:54.909059500Z",
     "start_time": "2023-08-17T14:01:54.729503600Z"
    }
   }
  },
  {
   "cell_type": "markdown",
   "source": [
    "## a) Split the dataset into training and testing sets\n",
    "\n",
    "Split the dataset into training and testing sets. Keep 80% of the data for training and 20% of the data for testing."
   ],
   "metadata": {
    "collapsed": false
   }
  },
  {
   "cell_type": "code",
   "execution_count": 15,
   "outputs": [
    {
     "name": "stdout",
     "output_type": "stream",
     "text": [
      "(300, 2)\n",
      "(300,)\n",
      "(240, 2)\n",
      "(60, 2)\n",
      "(240, 3)\n",
      "(60, 3)\n"
     ]
    }
   ],
   "source": [
    "# Print sizes\n",
    "print(features.shape)\n",
    "print(target.shape)\n",
    "\n",
    "# Split into training and testing sets\n",
    "idx = np.arange(features.shape[0])\n",
    "np.random.shuffle(idx)\n",
    "train_idx = idx[:int(0.8 * features.shape[0])]\n",
    "test_idx = idx[int(0.8 * features.shape[0]):]\n",
    "\n",
    "# to one-hot\n",
    "y = np.eye(3)[target.astype(np.int8)] #this is so elegant!!!!\n",
    "\n",
    "# Split feature\n",
    "X_train, X_test, y_train, y_test = (\n",
    "    features[train_idx],\n",
    "    features[test_idx],\n",
    "    y[train_idx],\n",
    "    y[test_idx]\n",
    ")\n",
    "\n",
    "print(X_train.shape)\n",
    "print(X_test.shape)\n",
    "print(y_train.shape)\n",
    "print(y_test.shape)"
   ],
   "metadata": {
    "collapsed": false,
    "ExecuteTime": {
     "end_time": "2023-08-17T14:01:55.012302600Z",
     "start_time": "2023-08-17T14:01:54.914048200Z"
    }
   }
  },
  {
   "cell_type": "markdown",
   "source": [
    "## b) Train a logistic regression model\n",
    "\n",
    "Not using Pytorch here. Load the dataset, and train a logistic regression for multi-class classification. Use the softmax function as the activation function."
   ],
   "metadata": {
    "collapsed": false
   }
  },
  {
   "cell_type": "markdown",
   "source": [
    "#### The Logistic Regression for multi-class classification is equivalent to the a fully connected neural network with softmax activation function.\n",
    "\n",
    "Let's see why the two are equivalent. The logistic regression model out put a vector $z$ with three elements, and the softmax function is defined as\n",
    "$$\n",
    "\\sigma(z)_i = \\frac{e^{z_i}}{\\sum_{j=1}^3 e^{z_j}}\n",
    "$$\n",
    "where $i = 1, 2, 3$. The output of the softmax function is a vector with three elements, and the sum of the elements is 1. This is exactly the same as the output of the logistic regression model. So the logistic regression model is equivalent to a fully connected neural network with softmax activation function."
   ],
   "metadata": {
    "collapsed": false
   }
  },
  {
   "cell_type": "markdown",
   "source": [
    "Now we can easily build the logistic regression model via the neural network framework defined in question 1."
   ],
   "metadata": {
    "collapsed": false
   }
  },
  {
   "cell_type": "code",
   "execution_count": 15,
   "outputs": [],
   "source": [],
   "metadata": {
    "collapsed": false,
    "ExecuteTime": {
     "end_time": "2023-08-17T14:01:55.034243100Z",
     "start_time": "2023-08-17T14:01:54.928008600Z"
    }
   }
  },
  {
   "cell_type": "code",
   "execution_count": 16,
   "outputs": [
    {
     "name": "stdout",
     "output_type": "stream",
     "text": [
      "epoch 0, accuracy 0.3125\n",
      "epoch 10, accuracy 0.3541666666666667\n",
      "epoch 20, accuracy 0.42083333333333334\n",
      "epoch 30, accuracy 0.475\n",
      "epoch 40, accuracy 0.48333333333333334\n",
      "epoch 50, accuracy 0.5\n",
      "epoch 60, accuracy 0.525\n",
      "epoch 70, accuracy 0.5041666666666667\n",
      "epoch 80, accuracy 0.49166666666666664\n",
      "epoch 90, accuracy 0.49166666666666664\n",
      "epoch 100, accuracy 0.4875\n",
      "epoch 110, accuracy 0.4875\n",
      "epoch 120, accuracy 0.4875\n",
      "epoch 130, accuracy 0.49166666666666664\n",
      "epoch 140, accuracy 0.5\n",
      "epoch 150, accuracy 0.5083333333333333\n",
      "epoch 160, accuracy 0.5083333333333333\n",
      "epoch 170, accuracy 0.5083333333333333\n",
      "epoch 180, accuracy 0.5083333333333333\n",
      "epoch 190, accuracy 0.5083333333333333\n"
     ]
    },
    {
     "data": {
      "text/plain": "<Figure size 1000x500 with 1 Axes>",
      "image/png": "[encoded data removed]"
     },
     "metadata": {},
     "output_type": "display_data"
    }
   ],
   "source": [
    "# build the network\n",
    "logi_reg = [\n",
    "    Linear(2, 3),\n",
    "]\n",
    "loss = SoftmaxCrossEntropy()\n",
    "\n",
    "#setting hyperparameters\n",
    "batch_size = 60\n",
    "lr = 1e-1\n",
    "epochs = 200\n",
    "losses = []\n",
    "# train the network\n",
    "loss_val = np.var(y_train)# initialize the loss by the variance of the training data\n",
    "\n",
    "for epoch in range(epochs):\n",
    "    iterator = batch_iterator(X_train, y_train, batch_size)\n",
    "    for X_batch, y_batch in iterator:\n",
    "        # forward\n",
    "        for layer in logi_reg:\n",
    "            # forward propagation, one by one\n",
    "            X_batch = layer.forward(X_batch)\n",
    "        loss_val = loss.forward(X_batch, y_batch)\n",
    "        # backward\n",
    "        dX = loss.backward()\n",
    "        for layer in logi_reg[::-1]:\n",
    "            # in my design, the grad is stored in the layer itself\n",
    "            dX = layer.backward(dX)\n",
    "        # update\n",
    "        for layer in logi_reg:\n",
    "            # used the stored grad to update the parameters\n",
    "            if hasattr(layer, 'update'):\n",
    "                layer.update(lr)\n",
    "    #print(f'epoch {epoch}, loss {loss_val}')\n",
    "    # calculate the accuracy on the training set\n",
    "    X_train_e = X_train\n",
    "    for layer in logi_reg:\n",
    "        X_train_e = layer.forward(X_train_e)\n",
    "    loss_val = loss.forward(X_train_e, y_train)\n",
    "    losses.append(loss.accuracy())\n",
    "    if epoch % 10 == 0:\n",
    "        print(f'epoch {epoch}, accuracy {loss.accuracy()}')\n",
    "\n",
    "plt.figure(figsize=(10, 5))\n",
    "plt.plot(losses)\n",
    "plt.xlabel('epoch - batch')\n",
    "plt.ylabel('accuracy')\n",
    "plt.title('loss vs. batch')\n",
    "#plt.ylim(0, 1)\n",
    "plt.show()\n"
   ],
   "metadata": {
    "collapsed": false,
    "ExecuteTime": {
     "end_time": "2023-08-17T14:01:55.238809100Z",
     "start_time": "2023-08-17T14:01:54.948956Z"
    }
   }
  },
  {
   "cell_type": "markdown",
   "source": [
    "## c) Assess the performance of your logistic regression model\n",
    "\n",
    "Assess the performance of your model on the training data and the testing data in terms of both loss and accuracy. Comment on the results."
   ],
   "metadata": {
    "collapsed": false
   }
  },
  {
   "cell_type": "code",
   "execution_count": 17,
   "outputs": [
    {
     "name": "stdout",
     "output_type": "stream",
     "text": [
      "test loss 0.7167318302484047\n",
      "test accuracy 0.55\n"
     ]
    }
   ],
   "source": [
    "# test the model\n",
    "X = X_test\n",
    "for layer in logi_reg:\n",
    "    X = layer.forward(X)\n",
    "loss_val = loss.forward(X, y_test)\n",
    "print(f'test loss {loss_val}')\n",
    "print(f'test accuracy {loss.accuracy()}')"
   ],
   "metadata": {
    "collapsed": false,
    "ExecuteTime": {
     "end_time": "2023-08-17T14:01:55.243782500Z",
     "start_time": "2023-08-17T14:01:55.229815600Z"
    }
   }
  },
  {
   "cell_type": "markdown",
   "source": [
    "#### Comment\n",
    "Without any feature engineering, the performance of the logistic regression model is not very good, though it is better than random guess.\n",
    "This can be easily explained by the fact that the spiral dataset is not linearly separable. The logistic regression model is a linear model, so it cannot our swirl-shaped data."
   ],
   "metadata": {
    "collapsed": false
   }
  },
  {
   "cell_type": "markdown",
   "source": [
    "## d) Build a neural network classifier\n",
    "\n",
    "Build a 3-class classifier using a neural network with one hidden layer of 100 units and a ReLU activation. Train the network with a gradient descent algorithm and for 2000 iterations."
   ],
   "metadata": {
    "collapsed": false
   }
  },
  {
   "cell_type": "code",
   "execution_count": 18,
   "outputs": [],
   "source": [
    "# Split into training and testing sets\n",
    "idx = np.arange(features.shape[0])\n",
    "np.random.shuffle(idx)\n",
    "train_idx = idx[:int(0.8 * features.shape[0])]\n",
    "test_idx = idx[int(0.8 * features.shape[0]):]\n",
    "\n",
    "# to one-hot\n",
    "y = np.eye(3)[target.astype(np.int8)] #this is so elegant!!!!\n",
    "\n",
    "# Split feature\n",
    "X_train, X_test, y_train, y_test = (\n",
    "    features[train_idx],\n",
    "    features[test_idx],\n",
    "    y[train_idx],\n",
    "    y[test_idx]\n",
    ")"
   ],
   "metadata": {
    "collapsed": false,
    "ExecuteTime": {
     "end_time": "2023-08-17T14:01:55.383456200Z",
     "start_time": "2023-08-17T14:01:55.247771900Z"
    }
   }
  },
  {
   "cell_type": "code",
   "execution_count": 19,
   "outputs": [
    {
     "name": "stdout",
     "output_type": "stream",
     "text": [
      "epoch 0, accuracy 0.2833333333333333\n",
      "epoch 100, accuracy 0.6166666666666667\n",
      "epoch 200, accuracy 0.6833333333333333\n",
      "epoch 300, accuracy 0.7\n",
      "epoch 400, accuracy 0.7166666666666667\n",
      "epoch 500, accuracy 0.7333333333333333\n",
      "epoch 600, accuracy 0.75\n",
      "epoch 700, accuracy 0.7666666666666667\n",
      "epoch 800, accuracy 0.8\n",
      "epoch 900, accuracy 0.8166666666666667\n",
      "epoch 1000, accuracy 0.8166666666666667\n",
      "epoch 1100, accuracy 0.8166666666666667\n",
      "epoch 1200, accuracy 0.85\n",
      "epoch 1300, accuracy 0.9\n",
      "epoch 1400, accuracy 0.9166666666666666\n",
      "epoch 1500, accuracy 0.95\n",
      "epoch 1600, accuracy 0.95\n",
      "epoch 1700, accuracy 0.95\n",
      "epoch 1800, accuracy 0.95\n",
      "epoch 1900, accuracy 0.95\n"
     ]
    },
    {
     "data": {
      "text/plain": "<Figure size 1000x500 with 1 Axes>",
      "image/png": "[encoded data removed]"
     },
     "metadata": {},
     "output_type": "display_data"
    }
   ],
   "source": [
    "# build the network\n",
    "NN_cls = [\n",
    "    Linear(2, 100),\n",
    "    ReLU(),\n",
    "    Linear(100, 3)\n",
    "]\n",
    "loss = SoftmaxCrossEntropy()\n",
    "\n",
    "#setting hyperparameters\n",
    "batch_size = 20\n",
    "lr = 1e-3\n",
    "epochs = 2000\n",
    "losses = []\n",
    "losses_test = []\n",
    "# train the network\n",
    "\n",
    "for epoch in range(epochs):\n",
    "    iterator = batch_iterator(X_train, y_train, batch_size)\n",
    "    for X_batch, y_batch in iterator:\n",
    "        # forward\n",
    "        for layer in NN_cls:\n",
    "            # forward propagation, one by one\n",
    "            X_batch = layer.forward(X_batch)\n",
    "        loss_val = loss.forward(X_batch, y_batch)\n",
    "        # backward\n",
    "        dX = loss.backward()\n",
    "        for layer in NN_cls[::-1]:\n",
    "            # in my design, the grad is stored in the layer itself\n",
    "            dX = layer.backward(dX)\n",
    "        # update\n",
    "        for layer in NN_cls:\n",
    "            # used the stored grad to update the parameters\n",
    "            if hasattr(layer, 'update'):\n",
    "                layer.update(lr)\n",
    "    #print(f'epoch {epoch}, loss {loss_val}')\n",
    "    # calculate the accuracy on the training set\n",
    "    X = X_train\n",
    "    for layer in NN_cls:\n",
    "        X = layer.forward(X)\n",
    "    loss_val = loss.forward(X, y_train)\n",
    "    losses.append(loss.accuracy())\n",
    "    X = X_test\n",
    "    for layer in NN_cls:\n",
    "        X = layer.forward(X)\n",
    "    loss_val_test = loss.forward(X, y_test)\n",
    "    losses_test.append(loss.accuracy())\n",
    "    if epoch % 100 == 0:\n",
    "        print(f'epoch {epoch}, accuracy {loss.accuracy()}')\n",
    "\n",
    "plt.figure(figsize=(10, 5))\n",
    "plt.plot(losses, label='train')\n",
    "plt.plot(losses_test, label='test')\n",
    "plt.xlabel('epoch - batch')\n",
    "plt.ylabel('accuracy')\n",
    "plt.title('loss vs. batch')\n",
    "#plt.ylim(0, 1)\n",
    "plt.show()\n",
    "\n",
    "\n"
   ],
   "metadata": {
    "collapsed": false,
    "ExecuteTime": {
     "end_time": "2023-08-17T14:01:59.833819300Z",
     "start_time": "2023-08-17T14:01:55.264256800Z"
    }
   }
  },
  {
   "cell_type": "markdown",
   "source": [
    "## e) Assess the performance of your neural network\n",
    "\n",
    "Assess the performance of your neural network on the training data and the testing data in terms of both loss and accuracy. Comment on the results."
   ],
   "metadata": {
    "collapsed": false
   }
  },
  {
   "cell_type": "code",
   "execution_count": 20,
   "outputs": [
    {
     "name": "stdout",
     "output_type": "stream",
     "text": [
      "test loss 0.2937938398127657\n",
      "test accuracy 0.95\n"
     ]
    }
   ],
   "source": [
    "# test the model\n",
    "X = X_test\n",
    "for layer in NN_cls:\n",
    "    X = layer.forward(X)\n",
    "loss_val = loss.forward(X, y_test)\n",
    "print(f'test loss {loss_val}')\n",
    "print(f'test accuracy {loss.accuracy()}')"
   ],
   "metadata": {
    "collapsed": false,
    "ExecuteTime": {
     "end_time": "2023-08-17T14:01:59.959743600Z",
     "start_time": "2023-08-17T14:01:59.838806200Z"
    }
   }
  },
  {
   "cell_type": "markdown",
   "source": [
    "#### Comment\n",
    "Neural network works much better than logistic regression model. The accuracy on the test set is about 0.94. This is because the neural network is a non-linear model, so it can fit the swirl-shaped data better than the linear model.\n",
    "\n",
    "Another good sign is that the accuracy on the training set is also high, which means the model is not overfitting."
   ],
   "metadata": {
    "collapsed": false
   }
  },
  {
   "cell_type": "code",
   "execution_count": 21,
   "outputs": [
    {
     "data": {
      "text/plain": "<Figure size 640x480 with 1 Axes>",
      "image/png": "[encoded data removed]"
     },
     "metadata": {},
     "output_type": "display_data"
    },
    {
     "data": {
      "text/plain": "<Figure size 640x480 with 1 Axes>",
      "image/png": "[encoded data removed]"
     },
     "metadata": {},
     "output_type": "display_data"
    }
   ],
   "source": [
    "# # visualize the data\n",
    "plt.scatter(X_train[:, 0], X_train[:, 1], c=np.argmax(y_train, axis=1))\n",
    "plt.title('Ground Truth')\n",
    "plt.show()\n",
    "\n",
    "# visualize the prediction\n",
    "X = X_train\n",
    "for layer in NN_cls:\n",
    "    X = layer.forward(X)\n",
    "loss.forward(X, y_train)\n",
    "plt.scatter(X_train[:, 0], X_train[:, 1], c=loss.predict())\n",
    "plt.title('Prediction')\n",
    "plt.show()"
   ],
   "metadata": {
    "collapsed": false,
    "ExecuteTime": {
     "end_time": "2023-08-17T14:02:00.278920600Z",
     "start_time": "2023-08-17T14:01:59.851857100Z"
    }
   }
  },
  {
   "cell_type": "markdown",
   "source": [
    "From the above two plots, we can see that the neural network can fit the data very well. It only makes mistakes at the conjunction of the three classes. In all other places, the prediction fit the distribution of the ground truth very well.\n",
    "\n",
    "To further improve the performance, a new optimizer can be used to find a better minimum."
   ],
   "metadata": {
    "collapsed": false
   }
  },
  {
   "cell_type": "markdown",
   "source": [
    "## f) Interpret the confusion matrix\n",
    "\n",
    "Compute the confusion matrix for your classifier on both the training and testing data and interpret the results. You may either code your own confusion matrix or use the following function from Scikit-Learn."
   ],
   "metadata": {
    "collapsed": false
   }
  },
  {
   "cell_type": "code",
   "execution_count": 22,
   "outputs": [],
   "source": [
    "from sklearn import metrics"
   ],
   "metadata": {
    "collapsed": false,
    "ExecuteTime": {
     "end_time": "2023-08-17T14:02:01.688259300Z",
     "start_time": "2023-08-17T14:02:00.280914200Z"
    }
   }
  },
  {
   "cell_type": "code",
   "execution_count": 23,
   "outputs": [
    {
     "name": "stdout",
     "output_type": "stream",
     "text": [
      "[[19  0  0]\n",
      " [ 0 15  3]\n",
      " [ 0  0 23]]\n"
     ]
    }
   ],
   "source": [
    "X = X_test\n",
    "for layer in NN_cls:\n",
    "    X = layer.forward(X)\n",
    "loss.forward(X, y_test)\n",
    "y_pred = loss.predict()\n",
    "y_true = np.argmax(y_test, axis=1)\n",
    "print(metrics.confusion_matrix(y_true, y_pred))"
   ],
   "metadata": {
    "collapsed": false,
    "ExecuteTime": {
     "end_time": "2023-08-17T14:02:01.704216800Z",
     "start_time": "2023-08-17T14:02:01.693244800Z"
    }
   }
  },
  {
   "cell_type": "markdown",
   "source": [
    "#### Comment\n",
    "The confusion matrix shows how well our model classifies each class. The diagonal elements are the number of correct predictions. The off-diagonal elements are the number of incorrect predictions.\n",
    "The rows means the ground truth, and the columns means the prediction.\n",
    "In one output of my model, the confusion matrix is:\n",
    "```\n",
    "[[ 21  3  0]\n",
    " [ 0 14  1]\n",
    " [ 1  0  20]]\n",
    "```\n",
    "This means that the model classify class 1 and class 2 very well, but it makes some mistakes in class 0. It misclassifies 3 class 0 data as class 1.\n",
    "\n",
    "Additionally, I found that the testing set is imbalance. I think it ought to be balanced to work out a fair confusion matrix."
   ],
   "metadata": {
    "collapsed": false
   }
  },
  {
   "cell_type": "markdown",
   "source": [
    "## g) Create your own deep neural network!\n",
    "\n",
    "Create your own deep neural network and try to get as high an accuracy score on the test set as possible. Be creative: this is an opportunity for you to demonstrate what you can do!"
   ],
   "metadata": {
    "collapsed": false
   }
  },
  {
   "cell_type": "markdown",
   "source": [
    "Here the 1-st design is a deeper network with 3 hidden layers. For I believe that the previous model cannot capture the fined boundary at the conjunction of the three classes. So I add more layers to the model.\n",
    "However, I realize the model is at the risk of overfitting. So I keep the total number of hidden units the same as the previous model."
   ],
   "metadata": {
    "collapsed": false
   }
  },
  {
   "cell_type": "code",
   "execution_count": 24,
   "outputs": [
    {
     "name": "stdout",
     "output_type": "stream",
     "text": [
      "epoch 0, accuracy 0.42916666666666664\n",
      "epoch 100, accuracy 0.8833333333333333\n",
      "epoch 200, accuracy 0.9291666666666667\n",
      "epoch 300, accuracy 0.9416666666666667\n",
      "epoch 400, accuracy 0.9583333333333334\n",
      "epoch 500, accuracy 0.9583333333333334\n",
      "epoch 600, accuracy 0.9666666666666667\n",
      "epoch 700, accuracy 0.9708333333333333\n",
      "epoch 800, accuracy 0.9833333333333333\n",
      "epoch 900, accuracy 0.9833333333333333\n",
      "epoch 1000, accuracy 0.9833333333333333\n",
      "epoch 1100, accuracy 0.9875\n",
      "epoch 1200, accuracy 0.9875\n",
      "epoch 1300, accuracy 0.9916666666666667\n",
      "epoch 1400, accuracy 0.9875\n",
      "epoch 1500, accuracy 0.9916666666666667\n",
      "epoch 1600, accuracy 0.9875\n",
      "epoch 1700, accuracy 0.9916666666666667\n",
      "epoch 1800, accuracy 0.9916666666666667\n",
      "epoch 1900, accuracy 0.9958333333333333\n"
     ]
    },
    {
     "data": {
      "text/plain": "<Figure size 1000x500 with 1 Axes>",
      "image/png": "[encoded data removed]"
     },
     "metadata": {},
     "output_type": "display_data"
    }
   ],
   "source": [
    "\n",
    "# Split into training and testing sets\n",
    "idx = np.arange(features.shape[0])\n",
    "np.random.shuffle(idx)\n",
    "train_idx = idx[:int(0.8 * features.shape[0])]\n",
    "test_idx = idx[int(0.8 * features.shape[0]):]\n",
    "\n",
    "# to one-hot\n",
    "y = np.eye(3)[target.astype(np.int8)] #this is so elegant!!!!\n",
    "\n",
    "# Split feature\n",
    "X_train, X_test, y_train, y_test = (\n",
    "    features[train_idx],\n",
    "    features[test_idx],\n",
    "    y[train_idx],\n",
    "    y[test_idx]\n",
    ")\n",
    "\n",
    "# build the network\n",
    "NN_cls = [\n",
    "    Linear(2, 50),\n",
    "    ReLU(),\n",
    "    Linear(50, 50),\n",
    "    ReLU(),\n",
    "    Linear(50, 3)\n",
    "]\n",
    "loss = SoftmaxCrossEntropy()\n",
    "\n",
    "#setting hyperparameters\n",
    "batch_size = 20\n",
    "lr = 1e-3\n",
    "epochs = 2000\n",
    "losses = []\n",
    "# train the network\n",
    "\n",
    "for epoch in range(epochs):\n",
    "    iterator = batch_iterator(X_train, y_train, batch_size)\n",
    "    for X_batch, y_batch in iterator:\n",
    "        # forward\n",
    "        for layer in NN_cls:\n",
    "            # forward propagation, one by one\n",
    "            X_batch = layer.forward(X_batch)\n",
    "        loss_val = loss.forward(X_batch, y_batch)\n",
    "        # backward\n",
    "        dX = loss.backward()\n",
    "        for layer in NN_cls[::-1]:\n",
    "            # in my design, the grad is stored in the layer itself\n",
    "            dX = layer.backward(dX)\n",
    "        # update\n",
    "        for layer in NN_cls:\n",
    "            # used the stored grad to update the parameters\n",
    "            if hasattr(layer, 'update'):\n",
    "                layer.update(lr)\n",
    "    #print(f'epoch {epoch}, loss {loss_val}')\n",
    "    # calculate the accuracy on the training set\n",
    "    X_train_e = X_train\n",
    "    for layer in NN_cls:\n",
    "        X_train_e = layer.forward(X_train_e)\n",
    "    loss_val = loss.forward(X_train_e, y_train)\n",
    "    losses.append(loss.accuracy())\n",
    "    if epoch % 100 == 0:\n",
    "        print(f'epoch {epoch}, accuracy {loss.accuracy()}')\n",
    "\n",
    "plt.figure(figsize=(10, 5))\n",
    "plt.plot(losses)\n",
    "plt.xlabel('epoch - batch')\n",
    "plt.ylabel('accuracy')\n",
    "plt.title('loss vs. batch')\n",
    "#plt.ylim(0, 1)\n",
    "plt.show()\n",
    "\n",
    "\n"
   ],
   "metadata": {
    "collapsed": false,
    "ExecuteTime": {
     "end_time": "2023-08-17T14:02:07.495267800Z",
     "start_time": "2023-08-17T14:02:01.711198800Z"
    }
   }
  },
  {
   "cell_type": "code",
   "execution_count": 25,
   "outputs": [
    {
     "name": "stdout",
     "output_type": "stream",
     "text": [
      "test loss 0.11625447985840957\n",
      "test accuracy 0.95\n",
      "[[20  0  1]\n",
      " [ 0 15  2]\n",
      " [ 0  0 22]]\n"
     ]
    }
   ],
   "source": [
    "# test the model\n",
    "X = X_test\n",
    "for layer in NN_cls:\n",
    "    X = layer.forward(X)\n",
    "loss_val = loss.forward(X, y_test)\n",
    "print(f'test loss {loss_val}')\n",
    "print(f'test accuracy {loss.accuracy()}')\n",
    "\n",
    "# confusion matrix\n",
    "X = X_test\n",
    "for layer in NN_cls:\n",
    "    X = layer.forward(X)\n",
    "loss.forward(X, y_test)\n",
    "y_pred = loss.predict()\n",
    "y_true = np.argmax(y_test, axis=1)\n",
    "print(metrics.confusion_matrix(y_true, y_pred))\n"
   ],
   "metadata": {
    "collapsed": false,
    "ExecuteTime": {
     "end_time": "2023-08-17T14:02:07.602496400Z",
     "start_time": "2023-08-17T14:02:07.498258500Z"
    }
   }
  },
  {
   "cell_type": "markdown",
   "source": [
    "#### Comment\n",
    "My deeper model achieve a higher accuracy on both the training set and the testing set. The accuracy on the testing set is about 0.97(sometimes even 100%). I think this result has been good enough."
   ],
   "metadata": {
    "collapsed": false
   }
  },
  {
   "cell_type": "markdown",
   "source": [
    "## h) Regularization in neural networks\n",
    "I have achieve a satisfying result in previous model. However, the model should have the possibility of overfitting, if we keep adding layers to the model.\n",
    "So I want to experiment with some regularization methods to see if I can improve the model. I used dropout as the regularization method.\n",
    "\n",
    "In document, a dropout layer should be added after each hidden layer, except the last one. The dropout layer will randomly drop some neurons( set to 0) when training. And while testing, the dropout layer should be closed."
   ],
   "metadata": {
    "collapsed": false
   }
  },
  {
   "cell_type": "code",
   "execution_count": 26,
   "outputs": [],
   "source": [
    "class Dropout:\n",
    "    def __init__(self, p=0.8):\n",
    "        self.p = p\n",
    "        self.mask = None\n",
    "\n",
    "    def forward(self, X, dropout=True):\n",
    "        if dropout:\n",
    "            self.mask = np.random.binomial(1, self.p, size=X.shape) / self.p\n",
    "            return X * self.mask\n",
    "        else:\n",
    "            return X\n",
    "\n",
    "    def backward(self, dX):\n",
    "        return dX * self.mask"
   ],
   "metadata": {
    "collapsed": false,
    "ExecuteTime": {
     "end_time": "2023-08-17T14:02:07.633414100Z",
     "start_time": "2023-08-17T14:02:07.511224400Z"
    }
   }
  },
  {
   "cell_type": "code",
   "execution_count": 27,
   "outputs": [
    {
     "name": "stdout",
     "output_type": "stream",
     "text": [
      "epoch 0, accuracy 0.38333333333333336\n",
      "epoch 100, accuracy 0.8583333333333333\n",
      "epoch 200, accuracy 0.9416666666666667\n",
      "epoch 300, accuracy 0.95\n",
      "epoch 400, accuracy 0.9583333333333334\n",
      "epoch 500, accuracy 0.9625\n",
      "epoch 600, accuracy 0.9583333333333334\n",
      "epoch 700, accuracy 0.9583333333333334\n",
      "epoch 800, accuracy 0.9666666666666667\n",
      "epoch 900, accuracy 0.9708333333333333\n",
      "epoch 1000, accuracy 0.9708333333333333\n",
      "epoch 1100, accuracy 0.9708333333333333\n",
      "epoch 1200, accuracy 0.9708333333333333\n",
      "epoch 1300, accuracy 0.975\n",
      "epoch 1400, accuracy 0.975\n",
      "epoch 1500, accuracy 0.9791666666666666\n",
      "epoch 1600, accuracy 0.975\n",
      "epoch 1700, accuracy 0.9791666666666666\n",
      "epoch 1800, accuracy 0.975\n",
      "epoch 1900, accuracy 0.9791666666666666\n"
     ]
    },
    {
     "data": {
      "text/plain": "<Figure size 1000x500 with 1 Axes>",
      "image/png": "[encoded data removed]"
     },
     "metadata": {},
     "output_type": "display_data"
    }
   ],
   "source": [
    "\n",
    "# Split into training and testing sets\n",
    "idx = np.arange(features.shape[0])\n",
    "np.random.shuffle(idx)\n",
    "train_idx = idx[:int(0.8 * features.shape[0])]\n",
    "test_idx = idx[int(0.8 * features.shape[0]):]\n",
    "\n",
    "# to one-hot\n",
    "y = np.eye(3)[target.astype(np.int8)] #this is so elegant!!!!\n",
    "\n",
    "# Split feature\n",
    "X_train, X_test, y_train, y_test = (\n",
    "    features[train_idx],\n",
    "    features[test_idx],\n",
    "    y[train_idx],\n",
    "    y[test_idx]\n",
    ")\n",
    "\n",
    "# build the network\n",
    "NN_cls = [\n",
    "    Linear(2, 100),\n",
    "    ReLU(),\n",
    "    Dropout(),\n",
    "    Linear(100, 100),\n",
    "    ReLU(),\n",
    "    Dropout(),\n",
    "    Linear(100, 3)\n",
    "]\n",
    "loss = SoftmaxCrossEntropy()\n",
    "\n",
    "#setting hyperparameters\n",
    "batch_size = 20\n",
    "lr = 1e-3\n",
    "epochs = 2000\n",
    "losses = []\n",
    "# train the network\n",
    "\n",
    "for epoch in range(epochs):\n",
    "    iterator = batch_iterator(X_train, y_train, batch_size)\n",
    "    for X_batch, y_batch in iterator:\n",
    "        # forward\n",
    "        for layer in NN_cls:\n",
    "            # forward propagation, one by one\n",
    "            X_batch = layer.forward(X_batch)\n",
    "        loss_val = loss.forward(X_batch, y_batch)\n",
    "        # backward\n",
    "        dX = loss.backward()\n",
    "        for layer in NN_cls[::-1]:\n",
    "            # in my design, the grad is stored in the layer itself\n",
    "            dX = layer.backward(dX)\n",
    "        # update\n",
    "        for layer in NN_cls:\n",
    "            # used the stored grad to update the parameters\n",
    "            if hasattr(layer, 'update'):\n",
    "                layer.update(lr)\n",
    "    #print(f'epoch {epoch}, loss {loss_val}')\n",
    "    # calculate the accuracy on the training set\n",
    "    X_train_e = X_train\n",
    "    for layer in NN_cls:\n",
    "        # if the layer is dropout, then we should not use dropout\n",
    "        if isinstance(layer, Dropout):\n",
    "            X_train_e = layer.forward(X_train_e, dropout=False)\n",
    "        else:\n",
    "            X_train_e = layer.forward(X_train_e)\n",
    "    loss_val = loss.forward(X_train_e, y_train)\n",
    "    losses.append(loss.accuracy())\n",
    "    if epoch % 100 == 0:\n",
    "        print(f'epoch {epoch}, accuracy {loss.accuracy()}')\n",
    "\n",
    "plt.figure(figsize=(10, 5))\n",
    "plt.plot(losses)\n",
    "plt.xlabel('epoch - batch')\n",
    "plt.ylabel('accuracy')\n",
    "plt.title('loss vs. batch')\n",
    "#plt.ylim(0, 1)\n",
    "plt.show()\n",
    "\n",
    "\n"
   ],
   "metadata": {
    "collapsed": false,
    "ExecuteTime": {
     "end_time": "2023-08-17T14:02:17.855900700Z",
     "start_time": "2023-08-17T14:02:07.538152700Z"
    }
   }
  },
  {
   "cell_type": "code",
   "execution_count": 28,
   "outputs": [
    {
     "name": "stdout",
     "output_type": "stream",
     "text": [
      "test loss 0.08477400986102004\n",
      "test accuracy 0.9666666666666667\n",
      "[[11  0  0]\n",
      " [ 0 20  1]\n",
      " [ 1  0 27]]\n"
     ]
    }
   ],
   "source": [
    "# test the model\n",
    "X = X_test\n",
    "for layer in NN_cls:\n",
    "        # if the layer is dropout, then we should not use dropout\n",
    "        if isinstance(layer, Dropout):\n",
    "            X = layer.forward(X, dropout=False)\n",
    "        else:\n",
    "            X = layer.forward(X)\n",
    "loss_val = loss.forward(X, y_test)\n",
    "print(f'test loss {loss_val}')\n",
    "print(f'test accuracy {loss.accuracy()}')\n",
    "\n",
    "# confusion matrix\n",
    "X = X_test\n",
    "y_pred = loss.predict()\n",
    "y_true = np.argmax(y_test, axis=1)\n",
    "print(metrics.confusion_matrix(y_true, y_pred))\n"
   ],
   "metadata": {
    "collapsed": false,
    "ExecuteTime": {
     "end_time": "2023-08-17T14:02:17.871859500Z",
     "start_time": "2023-08-17T14:02:17.858893200Z"
    }
   }
  },
  {
   "cell_type": "markdown",
   "source": [
    "When I browse some paper, I found a method called ablation study. It is a method to find out which part of the model is the most important. So I want to try this method on my model.\n",
    "I will remove the dropout layer and see if the model can still achieve a good result."
   ],
   "metadata": {
    "collapsed": false
   }
  },
  {
   "cell_type": "code",
   "execution_count": 29,
   "outputs": [
    {
     "name": "stdout",
     "output_type": "stream",
     "text": [
      "epoch 0, accuracy 0.48333333333333334\n"
     ]
    },
    {
     "name": "stderr",
     "output_type": "stream",
     "text": [
      "C:\\Users\\Lifan Lin\\AppData\\Local\\Temp\\ipykernel_16624\\2028683401.py:94: RuntimeWarning: divide by zero encountered in log\n",
      "  return -np.mean(np.sum(y * np.log(self.y_hat), axis=1))\n",
      "C:\\Users\\Lifan Lin\\AppData\\Local\\Temp\\ipykernel_16624\\2028683401.py:94: RuntimeWarning: invalid value encountered in multiply\n",
      "  return -np.mean(np.sum(y * np.log(self.y_hat), axis=1))\n"
     ]
    },
    {
     "name": "stdout",
     "output_type": "stream",
     "text": [
      "epoch 100, accuracy 0.975\n",
      "epoch 200, accuracy 0.9958333333333333\n",
      "epoch 300, accuracy 0.9958333333333333\n",
      "epoch 400, accuracy 0.9958333333333333\n",
      "epoch 500, accuracy 0.9958333333333333\n",
      "epoch 600, accuracy 0.9958333333333333\n",
      "epoch 700, accuracy 0.9833333333333333\n",
      "epoch 800, accuracy 0.9833333333333333\n",
      "epoch 900, accuracy 0.9625\n",
      "epoch 1000, accuracy 0.9875\n",
      "epoch 1100, accuracy 0.9833333333333333\n",
      "epoch 1200, accuracy 0.9958333333333333\n",
      "epoch 1300, accuracy 0.9916666666666667\n",
      "epoch 1400, accuracy 0.9916666666666667\n",
      "epoch 1500, accuracy 0.9916666666666667\n",
      "epoch 1600, accuracy 0.9958333333333333\n",
      "epoch 1700, accuracy 0.9958333333333333\n",
      "epoch 1800, accuracy 0.9958333333333333\n",
      "epoch 1900, accuracy 0.9958333333333333\n"
     ]
    },
    {
     "data": {
      "text/plain": "<Figure size 1000x500 with 1 Axes>",
      "image/png": "[encoded data removed]"
     },
     "metadata": {},
     "output_type": "display_data"
    }
   ],
   "source": [
    "\n",
    "# Split into training and testing sets\n",
    "idx = np.arange(features.shape[0])\n",
    "np.random.shuffle(idx)\n",
    "train_idx = idx[:int(0.8 * features.shape[0])]\n",
    "test_idx = idx[int(0.8 * features.shape[0]):]\n",
    "\n",
    "# to one-hot\n",
    "y = np.eye(3)[target.astype(np.int8)] #this is so elegant!!!!\n",
    "\n",
    "# Split feature\n",
    "X_train, X_test, y_train, y_test = (\n",
    "    features[train_idx],\n",
    "    features[test_idx],\n",
    "    y[train_idx],\n",
    "    y[test_idx]\n",
    ")\n",
    "\n",
    "# build the network\n",
    "NN_cls = [\n",
    "    Linear(2, 100),\n",
    "    ReLU(),\n",
    "    # Dropout(),\n",
    "    Linear(100, 100),\n",
    "    ReLU(),\n",
    "    # Dropout(),\n",
    "    Linear(100, 100),\n",
    "    ReLU(),\n",
    "    Linear(100, 3)\n",
    "]\n",
    "loss = SoftmaxCrossEntropy()\n",
    "\n",
    "#setting hyperparameters\n",
    "batch_size = 20\n",
    "lr = 1e-3\n",
    "epochs = 2000\n",
    "losses = []\n",
    "# train the network\n",
    "\n",
    "for epoch in range(epochs):\n",
    "    iterator = batch_iterator(X_train, y_train, batch_size)\n",
    "    for X_batch, y_batch in iterator:\n",
    "        # forward\n",
    "        for layer in NN_cls:\n",
    "            # forward propagation, one by one\n",
    "            X_batch = layer.forward(X_batch)\n",
    "        loss_val = loss.forward(X_batch, y_batch)\n",
    "        # backward\n",
    "        dX = loss.backward()\n",
    "        for layer in NN_cls[::-1]:\n",
    "            # in my design, the grad is stored in the layer itself\n",
    "            dX = layer.backward(dX)\n",
    "        # update\n",
    "        for layer in NN_cls:\n",
    "            # used the stored grad to update the parameters\n",
    "            if hasattr(layer, 'update'):\n",
    "                layer.update(lr)\n",
    "    #print(f'epoch {epoch}, loss {loss_val}')\n",
    "    # calculate the accuracy on the training set\n",
    "    X_train_e = X_train\n",
    "    for layer in NN_cls:\n",
    "        # if the layer is dropout, then we should not use dropout\n",
    "        if isinstance(layer, Dropout):\n",
    "            X_train_e = layer.forward(X_train_e, dropout=False)\n",
    "        else:\n",
    "            X_train_e = layer.forward(X_train_e)\n",
    "    loss_val = loss.forward(X_train_e, y_train)\n",
    "    losses.append(loss.accuracy())\n",
    "    if epoch % 100 == 0:\n",
    "        print(f'epoch {epoch}, accuracy {loss.accuracy()}')\n",
    "\n",
    "plt.figure(figsize=(10, 5))\n",
    "plt.plot(losses)\n",
    "plt.xlabel('epoch - batch')\n",
    "plt.ylabel('accuracy')\n",
    "plt.title('loss vs. batch')\n",
    "#plt.ylim(0, 1)\n",
    "plt.show()\n",
    "\n",
    "\n"
   ],
   "metadata": {
    "collapsed": false,
    "ExecuteTime": {
     "end_time": "2023-08-17T14:02:28.078322Z",
     "start_time": "2023-08-17T14:02:17.880834Z"
    }
   }
  },
  {
   "cell_type": "code",
   "execution_count": 30,
   "outputs": [
    {
     "name": "stdout",
     "output_type": "stream",
     "text": [
      "test loss 0.9675156497645306\n",
      "test accuracy 0.9333333333333333\n",
      "[[26  0  1]\n",
      " [ 0 15  3]\n",
      " [ 0  0 15]]\n"
     ]
    }
   ],
   "source": [
    "# test the model\n",
    "X = X_test\n",
    "for layer in NN_cls:\n",
    "        # if the layer is dropout, then we should not use dropout\n",
    "        if isinstance(layer, Dropout):\n",
    "            X = layer.forward(X, dropout=False)\n",
    "        else:\n",
    "            X = layer.forward(X)\n",
    "loss_val = loss.forward(X, y_test)\n",
    "print(f'test loss {loss_val}')\n",
    "print(f'test accuracy {loss.accuracy()}')\n",
    "\n",
    "# confusion matrix\n",
    "X = X_test\n",
    "y_pred = loss.predict()\n",
    "y_true = np.argmax(y_test, axis=1)\n",
    "print(metrics.confusion_matrix(y_true, y_pred))\n"
   ],
   "metadata": {
    "collapsed": false,
    "ExecuteTime": {
     "end_time": "2023-08-17T14:02:28.095276100Z",
     "start_time": "2023-08-17T14:02:28.077324800Z"
    }
   }
  },
  {
   "cell_type": "markdown",
   "source": [
    "## Experiment conclusion"
   ],
   "metadata": {
    "collapsed": false
   }
  },
  {
   "cell_type": "markdown",
   "source": [
    "When I add the dropout layer for the model, the accuracy do not increase, this is because the model is not likely to overfit on our swirly dataset. So the dropout layer is not necessary for this model.\n",
    "\n",
    "However, the addition of dropout layer stabilizes the training. For a model with 3 100-hidden-layer, the model without dropout layer can sometimes not improve at all, keeping the accuracy at 0.33. But the model with dropout layer can always train normally, and reach a accuracy of over 0.9."
   ],
   "metadata": {
    "collapsed": false
   }
  },
  {
   "cell_type": "markdown",
   "source": [
    "### For the submission of the Homework, if I need to select one of them as my final model, I will choose the 1-st model, a model without dropout and with 2 500-hidden-layer. Because it is the simplest model, and it can achieve a good result on the dataset."
   ],
   "metadata": {
    "collapsed": false
   }
  },
  {
   "cell_type": "code",
   "execution_count": 30,
   "outputs": [],
   "source": [],
   "metadata": {
    "collapsed": false,
    "ExecuteTime": {
     "end_time": "2023-08-17T14:02:28.198514500Z",
     "start_time": "2023-08-17T14:02:28.093282400Z"
    }
   }
  }
 ],
 "metadata": {
  "kernelspec": {
   "display_name": "Python 3",
   "language": "python",
   "name": "python3"
  },
  "language_info": {
   "codemirror_mode": {
    "name": "ipython",
    "version": 2
   },
   "file_extension": ".py",
   "mimetype": "text/x-python",
   "name": "python",
   "nbconvert_exporter": "python",
   "pygments_lexer": "ipython2",
   "version": "2.7.6"
  }
 },
 "nbformat": 4,
 "nbformat_minor": 0
}
