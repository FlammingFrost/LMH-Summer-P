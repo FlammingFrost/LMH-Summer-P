{
 "cells": [
  {
   "cell_type": "markdown",
   "metadata": {
    "id": "tg8OMZQ5vu6J"
   },
   "source": [
    "###Neural Networks in Numpy\n",
    "\n",
    "We will design and train a 2 layer Neural Network with Numpy and use it classify MNIST digits."
   ]
  },
  {
   "cell_type": "code",
   "execution_count": 1,
   "metadata": {
    "id": "0r_ygPkBTdKu",
    "ExecuteTime": {
     "end_time": "2023-08-16T15:42:28.269640700Z",
     "start_time": "2023-08-16T15:42:21.318014400Z"
    }
   },
   "outputs": [],
   "source": [
    "import numpy as np\n",
    "import matplotlib.pyplot as plt\n",
    "\n",
    "#PyTorch Libraries\n",
    "import torch\n",
    "from torchvision import models,transforms\n",
    "from torchvision.datasets import MNIST\n",
    "from torch.utils.data.sampler import SubsetRandomSampler\n",
    "%matplotlib inline\n",
    "\n",
    "### Data Loading\n"
   ]
  },
  {
   "cell_type": "markdown",
   "metadata": {
    "id": "i3CuAyZnssR7"
   },
   "source": [
    "Helper function for loading data and creating dataLoaders for MNIST dataset."
   ]
  },
  {
   "cell_type": "code",
   "execution_count": 2,
   "metadata": {
    "id": "BmUFRZICVpJY",
    "ExecuteTime": {
     "end_time": "2023-08-16T15:42:30.059598100Z",
     "start_time": "2023-08-16T15:42:29.991455700Z"
    }
   },
   "outputs": [],
   "source": [
    "# MNIST\n",
    "def mnist(batch_sz, valid_size=0, shuffle=True, random_seed=2000):\n",
    "    num_classes = 10\n",
    "    transform_train = transforms.Compose([\n",
    "                        transforms.ToTensor(),\n",
    "                    ])\n",
    "\n",
    "    transform_valid = transforms.Compose([\n",
    "                        transforms.ToTensor(),\n",
    "                    ])\n",
    "\n",
    "    transform_test = transforms.Compose([\n",
    "                        transforms.ToTensor(),\n",
    "                    ])\n",
    "\n",
    "\n",
    "    # Training dataset\n",
    "    train_data = MNIST(root='./datasets', train=True, download=True, transform=transform_train)\n",
    "    valid_data = MNIST(root='./datasets', train=True, download=True, transform=transform_valid)\n",
    "    num_train = len(train_data)\n",
    "    indices = list(range(num_train))\n",
    "    split = int(np.floor(valid_size * num_train))\n",
    "    if shuffle == True:\n",
    "        np.random.seed(random_seed)\n",
    "        np.random.shuffle(indices)\n",
    "    train_idx, valid_idx = indices[split:], indices[:split]\n",
    "\n",
    "    train_sampler = SubsetRandomSampler(train_idx)\n",
    "    valid_sampler = SubsetRandomSampler(valid_idx)\n",
    "    train_loader = torch.utils.data.DataLoader(train_data, batch_size=batch_sz, sampler=train_sampler,pin_memory=True, shuffle=False)\n",
    "    valid_loader = torch.utils.data.DataLoader(valid_data, batch_size=batch_sz, sampler=valid_sampler,pin_memory=True, shuffle=False)\n",
    "\n",
    "    # Test dataset\n",
    "    test_data = MNIST(root='./datasets', train=False, download=True, transform=transform_test)\n",
    "    test_loader = torch.utils.data.DataLoader(test_data,\n",
    "                                              batch_size=batch_sz, shuffle=False, pin_memory=True)\n",
    "\n",
    "    return train_loader, valid_loader, test_loader\n",
    "\n"
   ]
  },
  {
   "cell_type": "markdown",
   "metadata": {
    "id": "7o4-i2FVs18y"
   },
   "source": [
    "creating train, val and test dataloaders for MNIST dataset."
   ]
  },
  {
   "cell_type": "code",
   "execution_count": 3,
   "metadata": {
    "id": "cU08-68JVuT_",
    "ExecuteTime": {
     "end_time": "2023-08-16T15:42:38.679585900Z",
     "start_time": "2023-08-16T15:42:38.481548800Z"
    }
   },
   "outputs": [],
   "source": [
    "batch_sz=64 # this is batch size i.e. the number of rows in a batch of data\n",
    "train_loader, val_loader, test_loader=mnist(batch_sz)"
   ]
  },
  {
   "cell_type": "markdown",
   "metadata": {
    "id": "xgRKNEd_m3OR"
   },
   "source": [
    "Training and networks parameters and hyperparamters and network initialization"
   ]
  },
  {
   "cell_type": "markdown",
   "metadata": {
    "id": "rrEV5Snamb2S"
   },
   "source": [
    "We will implement the forward pass and backward  propagation equations that we derived in the lecture on Day 1. Variable \"m\" in the back propagation equation is the batch size."
   ]
  },
  {
   "cell_type": "code",
   "source": [
    "batch = next(iter(train_loader))\n",
    "print(batch[0].shape)\n",
    "\n",
    "for i in range(1):\n",
    "  plt.figure()\n",
    "  plt.imshow(batch[0][i,0,:,:],cmap='gray')\n",
    "  plt.title(batch[1][i].item())\n",
    "\n",
    "print(len(batch[0]))\n",
    "batch[1]"
   ],
   "metadata": {
    "colab": {
     "base_uri": "https://localhost:8080/"
    },
    "id": "PVCcNhYBgtge",
    "outputId": "23adee88-687b-4f83-8c29-3e511377d8a1",
    "ExecuteTime": {
     "end_time": "2023-08-16T15:42:46.605430700Z",
     "start_time": "2023-08-16T15:42:45.286528400Z"
    }
   },
   "execution_count": 4,
   "outputs": [
    {
     "name": "stdout",
     "output_type": "stream",
     "text": [
      "torch.Size([64, 1, 28, 28])\n",
      "64\n"
     ]
    },
    {
     "data": {
      "text/plain": "tensor([7, 2, 4, 8, 6, 6, 9, 7, 5, 9, 9, 0, 8, 6, 2, 1, 7, 1, 5, 8, 0, 3, 1, 8,\n        2, 7, 0, 2, 2, 9, 4, 8, 9, 3, 3, 4, 5, 3, 2, 2, 3, 8, 5, 3, 5, 6, 1, 9,\n        7, 1, 2, 5, 0, 7, 0, 0, 3, 9, 1, 5, 5, 0, 9, 9])"
     },
     "execution_count": 4,
     "metadata": {},
     "output_type": "execute_result"
    },
    {
     "data": {
      "text/plain": "<Figure size 640x480 with 1 Axes>",
      "image/png": "[encoded data removed]"
     },
     "metadata": {},
     "output_type": "display_data"
    }
   ]
  },
  {
   "cell_type": "markdown",
   "metadata": {
    "id": "8u_e7ldrtHh1"
   },
   "source": [
    "The main training loop, with batch gradient decent."
   ]
  },
  {
   "cell_type": "code",
   "execution_count": 10,
   "outputs": [],
   "source": [
    "class Linear:\n",
    "    \"\"\"\n",
    "    X input size: (batch, p)\n",
    "    \"\"\"\n",
    "    def __init__(self, in_features, out_features):\n",
    "        self.in_features = in_features\n",
    "        self.out_features = out_features\n",
    "        self.W = np.random.randn(in_features, out_features)\n",
    "        self.b = np.random.randn(out_features)\n",
    "        # forward: Z (batch, out_features) <- X (batch, in_features) * W (in_features, out_features) + b (out_features)\n",
    "        self.grad_W = None\n",
    "        self.grad_b = None\n",
    "        self.X = None\n",
    "        self.batchSize = None\n",
    "\n",
    "    def forward(self, X):\n",
    "        self.X = X\n",
    "        self.batchSize = X.shape[0]\n",
    "        Z = np.dot(X, self.W) + self.b\n",
    "        return Z\n",
    "\n",
    "    def backward(self, dZ):\n",
    "        # dZ (batch, out_features)\n",
    "        # dW (in_features, out_f) <- X.T (in_features, batch) * dZ (batch, out_features)\n",
    "        self.grad_W = np.dot(self.X.T, dZ)\n",
    "        self.grad_b = np.sum(dZ, axis=0)\n",
    "        dX = np.dot(dZ, self.W.T)\n",
    "        return dX\n",
    "\n",
    "    def update(self, lr):\n",
    "        self.W -= lr * self.grad_W\n",
    "        self.b -= lr * self.grad_b\n",
    "        self.grad_W = None\n",
    "        self.grad_b = None\n",
    "\n",
    "class ReLU:\n",
    "    def __init__(self):\n",
    "        self.Z = None\n",
    "\n",
    "    def forward(self, X):\n",
    "        self.Z = np.maximum(X, 0)\n",
    "        return self.Z\n",
    "\n",
    "    def backward(self, dZ):\n",
    "        dX = dZ * (self.Z > 0)\n",
    "        return dX\n",
    "\n",
    "class sigmoid:\n",
    "    def __init__(self):\n",
    "        self.Z = None\n",
    "\n",
    "    def forward(self, X):\n",
    "        self.Z = 1/(1+np.exp(-X))\n",
    "        return self.Z\n",
    "\n",
    "    def backward(self, dZ):\n",
    "        dX = dZ * self.Z * (1-self.Z)\n",
    "        return dX\n",
    "\n",
    "class MSE:\n",
    "    def __init__(self):\n",
    "        self.y = None\n",
    "        self.y_hat = None\n",
    "\n",
    "    def forward(self, y, y_hat):\n",
    "        self.y = y\n",
    "        self.y_hat = y_hat\n",
    "        return np.mean((y - y_hat)**2)\n",
    "\n",
    "    def backward(self):\n",
    "        return 2*(self.y_hat - self.y)/self.y.shape[0]\n",
    "\n",
    "class crossEntropy:\n",
    "    \"\"\"\n",
    "    cross entropy loss for multi-class classification, y is one-hot encoded\n",
    "    \"\"\"\n",
    "    def __init__(self):\n",
    "        self.num_classes = None\n",
    "        self.y = None\n",
    "        self.y_hat = None\n",
    "\n",
    "    def forward(self, y, y_hat):\n",
    "        self.y = y\n",
    "        self.y_hat = y_hat\n",
    "        self.num_classes = y.shape[1]\n",
    "        return -np.sum(y*np.log(y_hat))/y.shape[0] #expectation CrossEntropy\n",
    "\n",
    "    def backward(self):\n",
    "        return -self.y/self.y_hat/self.y.shape[0] #expectation CrossEntropy\n",
    "\n",
    "def accuracy(y, y_hat):\n",
    "    \"\"\"\n",
    "    :param y: (batch, num_classes)\n",
    "    :param y_hat: (batch, num_classes)\n",
    "    \"\"\"\n",
    "    return np.mean(np.argmax(y, axis=1) == np.argmax(y_hat, axis=1), axis=0)\n"
   ],
   "metadata": {
    "collapsed": false,
    "ExecuteTime": {
     "end_time": "2023-08-16T15:48:48.118246800Z",
     "start_time": "2023-08-16T15:48:48.103289700Z"
    }
   }
  },
  {
   "cell_type": "code",
   "execution_count": 18,
   "outputs": [],
   "source": [
    "model = [\n",
    "    Linear(28*28, 50),\n",
    "    sigmoid(),\n",
    "    Linear(50, 10),\n",
    "    sigmoid(),\n",
    "    crossEntropy()\n",
    "]\n",
    "batch_size = 256\n",
    "lr = 1e-1\n",
    "epochs = 10\n",
    "losses = []"
   ],
   "metadata": {
    "collapsed": false,
    "ExecuteTime": {
     "end_time": "2023-08-16T15:58:34.396981700Z",
     "start_time": "2023-08-16T15:58:34.375935800Z"
    }
   }
  },
  {
   "cell_type": "code",
   "execution_count": 22,
   "outputs": [
    {
     "name": "stdout",
     "output_type": "stream",
     "text": [
      "epoch 0, loss 0.00018641529793587822\n",
      "epoch 0, training accuracy 0.09375\n"
     ]
    },
    {
     "name": "stderr",
     "output_type": "stream",
     "text": [
      "C:\\Users\\Lifan Lin\\AppData\\Local\\Temp\\ipykernel_6080\\4151497030.py:53: RuntimeWarning: overflow encountered in exp\n",
      "  self.Z = 1/(1+np.exp(-X))\n"
     ]
    },
    {
     "name": "stdout",
     "output_type": "stream",
     "text": [
      "epoch 0, test accuracy 0.12668333333333334\n",
      "epoch 1, loss 0.00013265489260334663\n",
      "epoch 1, training accuracy 0.1875\n",
      "epoch 1, test accuracy 0.12703333333333333\n",
      "epoch 2, loss 0.0001723838249918556\n",
      "epoch 2, training accuracy 0.15625\n",
      "epoch 2, test accuracy 0.12728333333333333\n",
      "epoch 3, loss 0.0003796147358027925\n",
      "epoch 3, training accuracy 0.125\n",
      "epoch 3, test accuracy 0.12736666666666666\n",
      "epoch 4, loss 4.9270496467936695e-05\n",
      "epoch 4, training accuracy 0.125\n",
      "epoch 4, test accuracy 0.12775\n"
     ]
    },
    {
     "ename": "KeyboardInterrupt",
     "evalue": "",
     "output_type": "error",
     "traceback": [
      "\u001B[1;31m---------------------------------------------------------------------------\u001B[0m",
      "\u001B[1;31mKeyboardInterrupt\u001B[0m                         Traceback (most recent call last)",
      "Cell \u001B[1;32mIn[22], line 4\u001B[0m\n\u001B[0;32m      1\u001B[0m \u001B[38;5;66;03m# let me try whether it works\u001B[39;00m\n\u001B[0;32m      3\u001B[0m \u001B[38;5;28;01mfor\u001B[39;00m epoch \u001B[38;5;129;01min\u001B[39;00m \u001B[38;5;28mrange\u001B[39m(epochs):\n\u001B[1;32m----> 4\u001B[0m     \u001B[38;5;28;01mfor\u001B[39;00m X_batch, y_batch \u001B[38;5;129;01min\u001B[39;00m train_loader:\n\u001B[0;32m      5\u001B[0m         \u001B[38;5;66;03m# transform X_batch to (batch, 28*28)\u001B[39;00m\n\u001B[0;32m      6\u001B[0m         X_batch \u001B[38;5;241m=\u001B[39m X_batch\u001B[38;5;241m.\u001B[39mview(X_batch\u001B[38;5;241m.\u001B[39mshape[\u001B[38;5;241m0\u001B[39m], \u001B[38;5;241m-\u001B[39m\u001B[38;5;241m1\u001B[39m)\n\u001B[0;32m      7\u001B[0m         \u001B[38;5;66;03m# transform y_batch to one-hot encoding\u001B[39;00m\n",
      "File \u001B[1;32m~\\.conda\\envs\\dataOpr\\lib\\site-packages\\torch\\utils\\data\\dataloader.py:633\u001B[0m, in \u001B[0;36m_BaseDataLoaderIter.__next__\u001B[1;34m(self)\u001B[0m\n\u001B[0;32m    630\u001B[0m \u001B[38;5;28;01mif\u001B[39;00m \u001B[38;5;28mself\u001B[39m\u001B[38;5;241m.\u001B[39m_sampler_iter \u001B[38;5;129;01mis\u001B[39;00m \u001B[38;5;28;01mNone\u001B[39;00m:\n\u001B[0;32m    631\u001B[0m     \u001B[38;5;66;03m# TODO(https://github.com/pytorch/pytorch/issues/76750)\u001B[39;00m\n\u001B[0;32m    632\u001B[0m     \u001B[38;5;28mself\u001B[39m\u001B[38;5;241m.\u001B[39m_reset()  \u001B[38;5;66;03m# type: ignore[call-arg]\u001B[39;00m\n\u001B[1;32m--> 633\u001B[0m data \u001B[38;5;241m=\u001B[39m \u001B[38;5;28;43mself\u001B[39;49m\u001B[38;5;241;43m.\u001B[39;49m\u001B[43m_next_data\u001B[49m\u001B[43m(\u001B[49m\u001B[43m)\u001B[49m\n\u001B[0;32m    634\u001B[0m \u001B[38;5;28mself\u001B[39m\u001B[38;5;241m.\u001B[39m_num_yielded \u001B[38;5;241m+\u001B[39m\u001B[38;5;241m=\u001B[39m \u001B[38;5;241m1\u001B[39m\n\u001B[0;32m    635\u001B[0m \u001B[38;5;28;01mif\u001B[39;00m \u001B[38;5;28mself\u001B[39m\u001B[38;5;241m.\u001B[39m_dataset_kind \u001B[38;5;241m==\u001B[39m _DatasetKind\u001B[38;5;241m.\u001B[39mIterable \u001B[38;5;129;01mand\u001B[39;00m \\\n\u001B[0;32m    636\u001B[0m         \u001B[38;5;28mself\u001B[39m\u001B[38;5;241m.\u001B[39m_IterableDataset_len_called \u001B[38;5;129;01mis\u001B[39;00m \u001B[38;5;129;01mnot\u001B[39;00m \u001B[38;5;28;01mNone\u001B[39;00m \u001B[38;5;129;01mand\u001B[39;00m \\\n\u001B[0;32m    637\u001B[0m         \u001B[38;5;28mself\u001B[39m\u001B[38;5;241m.\u001B[39m_num_yielded \u001B[38;5;241m>\u001B[39m \u001B[38;5;28mself\u001B[39m\u001B[38;5;241m.\u001B[39m_IterableDataset_len_called:\n",
      "File \u001B[1;32m~\\.conda\\envs\\dataOpr\\lib\\site-packages\\torch\\utils\\data\\dataloader.py:677\u001B[0m, in \u001B[0;36m_SingleProcessDataLoaderIter._next_data\u001B[1;34m(self)\u001B[0m\n\u001B[0;32m    675\u001B[0m \u001B[38;5;28;01mdef\u001B[39;00m \u001B[38;5;21m_next_data\u001B[39m(\u001B[38;5;28mself\u001B[39m):\n\u001B[0;32m    676\u001B[0m     index \u001B[38;5;241m=\u001B[39m \u001B[38;5;28mself\u001B[39m\u001B[38;5;241m.\u001B[39m_next_index()  \u001B[38;5;66;03m# may raise StopIteration\u001B[39;00m\n\u001B[1;32m--> 677\u001B[0m     data \u001B[38;5;241m=\u001B[39m \u001B[38;5;28;43mself\u001B[39;49m\u001B[38;5;241;43m.\u001B[39;49m\u001B[43m_dataset_fetcher\u001B[49m\u001B[38;5;241;43m.\u001B[39;49m\u001B[43mfetch\u001B[49m\u001B[43m(\u001B[49m\u001B[43mindex\u001B[49m\u001B[43m)\u001B[49m  \u001B[38;5;66;03m# may raise StopIteration\u001B[39;00m\n\u001B[0;32m    678\u001B[0m     \u001B[38;5;28;01mif\u001B[39;00m \u001B[38;5;28mself\u001B[39m\u001B[38;5;241m.\u001B[39m_pin_memory:\n\u001B[0;32m    679\u001B[0m         data \u001B[38;5;241m=\u001B[39m _utils\u001B[38;5;241m.\u001B[39mpin_memory\u001B[38;5;241m.\u001B[39mpin_memory(data, \u001B[38;5;28mself\u001B[39m\u001B[38;5;241m.\u001B[39m_pin_memory_device)\n",
      "File \u001B[1;32m~\\.conda\\envs\\dataOpr\\lib\\site-packages\\torch\\utils\\data\\_utils\\fetch.py:51\u001B[0m, in \u001B[0;36m_MapDatasetFetcher.fetch\u001B[1;34m(self, possibly_batched_index)\u001B[0m\n\u001B[0;32m     49\u001B[0m         data \u001B[38;5;241m=\u001B[39m \u001B[38;5;28mself\u001B[39m\u001B[38;5;241m.\u001B[39mdataset\u001B[38;5;241m.\u001B[39m__getitems__(possibly_batched_index)\n\u001B[0;32m     50\u001B[0m     \u001B[38;5;28;01melse\u001B[39;00m:\n\u001B[1;32m---> 51\u001B[0m         data \u001B[38;5;241m=\u001B[39m [\u001B[38;5;28mself\u001B[39m\u001B[38;5;241m.\u001B[39mdataset[idx] \u001B[38;5;28;01mfor\u001B[39;00m idx \u001B[38;5;129;01min\u001B[39;00m possibly_batched_index]\n\u001B[0;32m     52\u001B[0m \u001B[38;5;28;01melse\u001B[39;00m:\n\u001B[0;32m     53\u001B[0m     data \u001B[38;5;241m=\u001B[39m \u001B[38;5;28mself\u001B[39m\u001B[38;5;241m.\u001B[39mdataset[possibly_batched_index]\n",
      "File \u001B[1;32m~\\.conda\\envs\\dataOpr\\lib\\site-packages\\torch\\utils\\data\\_utils\\fetch.py:51\u001B[0m, in \u001B[0;36m<listcomp>\u001B[1;34m(.0)\u001B[0m\n\u001B[0;32m     49\u001B[0m         data \u001B[38;5;241m=\u001B[39m \u001B[38;5;28mself\u001B[39m\u001B[38;5;241m.\u001B[39mdataset\u001B[38;5;241m.\u001B[39m__getitems__(possibly_batched_index)\n\u001B[0;32m     50\u001B[0m     \u001B[38;5;28;01melse\u001B[39;00m:\n\u001B[1;32m---> 51\u001B[0m         data \u001B[38;5;241m=\u001B[39m [\u001B[38;5;28;43mself\u001B[39;49m\u001B[38;5;241;43m.\u001B[39;49m\u001B[43mdataset\u001B[49m\u001B[43m[\u001B[49m\u001B[43midx\u001B[49m\u001B[43m]\u001B[49m \u001B[38;5;28;01mfor\u001B[39;00m idx \u001B[38;5;129;01min\u001B[39;00m possibly_batched_index]\n\u001B[0;32m     52\u001B[0m \u001B[38;5;28;01melse\u001B[39;00m:\n\u001B[0;32m     53\u001B[0m     data \u001B[38;5;241m=\u001B[39m \u001B[38;5;28mself\u001B[39m\u001B[38;5;241m.\u001B[39mdataset[possibly_batched_index]\n",
      "File \u001B[1;32m~\\.conda\\envs\\dataOpr\\lib\\site-packages\\torchvision\\datasets\\mnist.py:145\u001B[0m, in \u001B[0;36mMNIST.__getitem__\u001B[1;34m(self, index)\u001B[0m\n\u001B[0;32m    142\u001B[0m img \u001B[38;5;241m=\u001B[39m Image\u001B[38;5;241m.\u001B[39mfromarray(img\u001B[38;5;241m.\u001B[39mnumpy(), mode\u001B[38;5;241m=\u001B[39m\u001B[38;5;124m\"\u001B[39m\u001B[38;5;124mL\u001B[39m\u001B[38;5;124m\"\u001B[39m)\n\u001B[0;32m    144\u001B[0m \u001B[38;5;28;01mif\u001B[39;00m \u001B[38;5;28mself\u001B[39m\u001B[38;5;241m.\u001B[39mtransform \u001B[38;5;129;01mis\u001B[39;00m \u001B[38;5;129;01mnot\u001B[39;00m \u001B[38;5;28;01mNone\u001B[39;00m:\n\u001B[1;32m--> 145\u001B[0m     img \u001B[38;5;241m=\u001B[39m \u001B[38;5;28;43mself\u001B[39;49m\u001B[38;5;241;43m.\u001B[39;49m\u001B[43mtransform\u001B[49m\u001B[43m(\u001B[49m\u001B[43mimg\u001B[49m\u001B[43m)\u001B[49m\n\u001B[0;32m    147\u001B[0m \u001B[38;5;28;01mif\u001B[39;00m \u001B[38;5;28mself\u001B[39m\u001B[38;5;241m.\u001B[39mtarget_transform \u001B[38;5;129;01mis\u001B[39;00m \u001B[38;5;129;01mnot\u001B[39;00m \u001B[38;5;28;01mNone\u001B[39;00m:\n\u001B[0;32m    148\u001B[0m     target \u001B[38;5;241m=\u001B[39m \u001B[38;5;28mself\u001B[39m\u001B[38;5;241m.\u001B[39mtarget_transform(target)\n",
      "File \u001B[1;32m~\\.conda\\envs\\dataOpr\\lib\\site-packages\\torchvision\\transforms\\transforms.py:95\u001B[0m, in \u001B[0;36mCompose.__call__\u001B[1;34m(self, img)\u001B[0m\n\u001B[0;32m     93\u001B[0m \u001B[38;5;28;01mdef\u001B[39;00m \u001B[38;5;21m__call__\u001B[39m(\u001B[38;5;28mself\u001B[39m, img):\n\u001B[0;32m     94\u001B[0m     \u001B[38;5;28;01mfor\u001B[39;00m t \u001B[38;5;129;01min\u001B[39;00m \u001B[38;5;28mself\u001B[39m\u001B[38;5;241m.\u001B[39mtransforms:\n\u001B[1;32m---> 95\u001B[0m         img \u001B[38;5;241m=\u001B[39m \u001B[43mt\u001B[49m\u001B[43m(\u001B[49m\u001B[43mimg\u001B[49m\u001B[43m)\u001B[49m\n\u001B[0;32m     96\u001B[0m     \u001B[38;5;28;01mreturn\u001B[39;00m img\n",
      "File \u001B[1;32m~\\.conda\\envs\\dataOpr\\lib\\site-packages\\torchvision\\transforms\\transforms.py:137\u001B[0m, in \u001B[0;36mToTensor.__call__\u001B[1;34m(self, pic)\u001B[0m\n\u001B[0;32m    129\u001B[0m \u001B[38;5;28;01mdef\u001B[39;00m \u001B[38;5;21m__call__\u001B[39m(\u001B[38;5;28mself\u001B[39m, pic):\n\u001B[0;32m    130\u001B[0m \u001B[38;5;250m    \u001B[39m\u001B[38;5;124;03m\"\"\"\u001B[39;00m\n\u001B[0;32m    131\u001B[0m \u001B[38;5;124;03m    Args:\u001B[39;00m\n\u001B[0;32m    132\u001B[0m \u001B[38;5;124;03m        pic (PIL Image or numpy.ndarray): Image to be converted to tensor.\u001B[39;00m\n\u001B[1;32m   (...)\u001B[0m\n\u001B[0;32m    135\u001B[0m \u001B[38;5;124;03m        Tensor: Converted image.\u001B[39;00m\n\u001B[0;32m    136\u001B[0m \u001B[38;5;124;03m    \"\"\"\u001B[39;00m\n\u001B[1;32m--> 137\u001B[0m     \u001B[38;5;28;01mreturn\u001B[39;00m \u001B[43mF\u001B[49m\u001B[38;5;241;43m.\u001B[39;49m\u001B[43mto_tensor\u001B[49m\u001B[43m(\u001B[49m\u001B[43mpic\u001B[49m\u001B[43m)\u001B[49m\n",
      "File \u001B[1;32m~\\.conda\\envs\\dataOpr\\lib\\site-packages\\torchvision\\transforms\\functional.py:172\u001B[0m, in \u001B[0;36mto_tensor\u001B[1;34m(pic)\u001B[0m\n\u001B[0;32m    170\u001B[0m img \u001B[38;5;241m=\u001B[39m img\u001B[38;5;241m.\u001B[39mview(pic\u001B[38;5;241m.\u001B[39msize[\u001B[38;5;241m1\u001B[39m], pic\u001B[38;5;241m.\u001B[39msize[\u001B[38;5;241m0\u001B[39m], F_pil\u001B[38;5;241m.\u001B[39mget_image_num_channels(pic))\n\u001B[0;32m    171\u001B[0m \u001B[38;5;66;03m# put it from HWC to CHW format\u001B[39;00m\n\u001B[1;32m--> 172\u001B[0m img \u001B[38;5;241m=\u001B[39m \u001B[43mimg\u001B[49m\u001B[38;5;241;43m.\u001B[39;49m\u001B[43mpermute\u001B[49m\u001B[43m(\u001B[49m\u001B[43m(\u001B[49m\u001B[38;5;241;43m2\u001B[39;49m\u001B[43m,\u001B[49m\u001B[43m \u001B[49m\u001B[38;5;241;43m0\u001B[39;49m\u001B[43m,\u001B[49m\u001B[43m \u001B[49m\u001B[38;5;241;43m1\u001B[39;49m\u001B[43m)\u001B[49m\u001B[43m)\u001B[49m\u001B[38;5;241m.\u001B[39mcontiguous()\n\u001B[0;32m    173\u001B[0m \u001B[38;5;28;01mif\u001B[39;00m \u001B[38;5;28misinstance\u001B[39m(img, torch\u001B[38;5;241m.\u001B[39mByteTensor):\n\u001B[0;32m    174\u001B[0m     \u001B[38;5;28;01mreturn\u001B[39;00m img\u001B[38;5;241m.\u001B[39mto(dtype\u001B[38;5;241m=\u001B[39mdefault_float_dtype)\u001B[38;5;241m.\u001B[39mdiv(\u001B[38;5;241m255\u001B[39m)\n",
      "\u001B[1;31mKeyboardInterrupt\u001B[0m: "
     ]
    }
   ],
   "source": [
    "# let me try whether it works\n",
    "\n",
    "for epoch in range(epochs):\n",
    "    for X_batch, y_batch in train_loader:\n",
    "        # transform X_batch to (batch, 28*28)\n",
    "        X_batch = X_batch.view(X_batch.shape[0], -1)\n",
    "        # transform y_batch to one-hot encoding\n",
    "        vec = y_batch.numpy()\n",
    "        y_batch = np.zeros((y_batch.shape[0], 10))\n",
    "        y_batch[np.arange(y_batch.shape[0]), vec] = 1\n",
    "        # forward\n",
    "        for layer in model[:-1]: # the last layer is the loss function, and it needs 2 inputs, so we don't forward it here\n",
    "            X_batch = layer.forward(X_batch)\n",
    "            # X_batch is the output of the layer, its size changes to the output size of the layer\n",
    "\n",
    "        loss = model[-1].forward(y_batch, X_batch) # here we record the loss in the last layer(loss function)\n",
    "        losses.append(loss)\n",
    "\n",
    "        # backward\n",
    "        ## In my torch-like design, the gradient is stored in the layer itself, so we need to backward from the last layer to the first layer\n",
    "        dX = model[-1].backward()\n",
    "        # dX is not the \"gradient of X\", but the gradient of current layer's input.\n",
    "        for layer in model[-2::-1]: # from the second last layer to the first layer, because the last layer is the loss function\n",
    "            dX = layer.backward(dX)\n",
    "\n",
    "        ## after backward, the gradient is stored in the layer itself, so we can update the parameters\n",
    "\n",
    "        # update\n",
    "        ## should be just simple addition.\n",
    "        for layer in model:\n",
    "            # If it has func update, then update\n",
    "            if hasattr(layer, \"update\"): # this looks like a powerful function\n",
    "                layer.update(lr)\n",
    "    print(f\"epoch {epoch}, loss {loss}\")\n",
    "    print(f\"epoch {epoch}, training accuracy {accuracy(y_batch, X_batch)}\")\n",
    "    # evaluate on test set\n",
    "    X_test = val_loader.dataset.data.view(val_loader.dataset.data.shape[0], -1).numpy()\n",
    "    y_test = np.zeros((val_loader.dataset.targets.shape[0], 10))\n",
    "    y_test[np.arange(y_test.shape[0]), val_loader.dataset.targets.numpy()] = 1\n",
    "    for layer in model[:-1]:\n",
    "        X_test = layer.forward(X_test)\n",
    "    print(f\"epoch {epoch}, test accuracy {accuracy(y_test, X_test)}\")\n",
    "\n",
    "# plot loss\n",
    "plt.plot(losses)\n",
    "plt.title(\"loss\")\n",
    "plt.show()"
   ],
   "metadata": {
    "collapsed": false,
    "ExecuteTime": {
     "end_time": "2023-08-16T16:05:52.576685200Z",
     "start_time": "2023-08-16T16:04:55.015466Z"
    }
   }
  },
  {
   "cell_type": "code",
   "execution_count": null,
   "outputs": [],
   "source": [],
   "metadata": {
    "collapsed": false
   }
  },
  {
   "cell_type": "code",
   "execution_count": null,
   "outputs": [],
   "source": [],
   "metadata": {
    "collapsed": false
   }
  },
  {
   "cell_type": "code",
   "source": [
    "def get_z(X, W, b):\n",
    "  return W@X+b\n",
    "\n",
    "def sigmoid(Z):\n",
    "  return 1/(1+np.exp(-Z))\n",
    "\n",
    "def loss(yhat,y):\n",
    "  l = np.mean (np.sum(-y*np.log(yhat), axis = 0))\n",
    "  return l"
   ],
   "metadata": {
    "id": "322w1n_LiZ39"
   },
   "execution_count": null,
   "outputs": []
  },
  {
   "cell_type": "code",
   "source": [
    "ni = 28*28 # no of input feature\n",
    "nh = 50   # no of hidden units/nodes\n",
    "no = 10   #no of out channel (has to be equal ot the number of classes)\n",
    "\n",
    "W1 = np.random.randn(nh,ni) # the number of rows of w1 has to equal teh of hidden untis na dhte numbero fcolumsn have ot equal the numebrof rows of X\n",
    "b1 = np.zeros((nh , 1)) # b1 is a column vector and the rows have to match z1\n",
    "\n",
    "W2 = np.random.randn(no ,nh) # the number of rows have to be equal to out channels nad the no of columsn eaul to the number of rows of A1\n",
    "b2 = np.zeros((no, 1)) # column vector, rows equal to z2\n",
    "\n",
    "num_epochs = 8\n",
    "lr = 0.1\n",
    "\n",
    "# X [x_1, x_2, x_3, ...  x_N]\n",
    "ls = []\n",
    "for i in range(num_epochs):\n",
    "  error = 0\n",
    "  num_images = 0\n",
    "  correct = 0\n",
    "  total = 0\n",
    "  total_loss = 0\n",
    "  for batch in train_loader:\n",
    "    X = batch[0]\n",
    "    labels = batch[1]\n",
    "    X = batch[0].numpy().reshape(-1,28*28).T\n",
    "    y = np.zeros((no, X.shape[1]))\n",
    "    y[labels, np.arange(y.shape[1])] = 1\n",
    "\n",
    "    # y[[2, 9,4,7],[0,1,2,3]]\n",
    "    #y[2,0]=1\n",
    "    #y[9,1] =1\n",
    "    #y[4,2]=1\n",
    "    #y[7,3] =1\n",
    "\n",
    "    #forward pass\n",
    "    Z1 = W1@X + b1 ##nn.Linear (layer 1)\n",
    "    A1 = sigmoid(Z1) #torch.sigmoid\n",
    "\n",
    "    Z2 = W2@A1 + b2  ##nn.Linear (layer 2)\n",
    "    yhat = sigmoid(Z2) #\n",
    "\n",
    "    #backward pass\n",
    "    dZ2 = yhat - y\n",
    "\n",
    "    dW2 = dZ2 @ A1.T\n",
    "    db2 = np.sum(dZ2, axis =1 , keepdims = True)\n",
    "\n",
    "    dZ1 = W2.T @ dZ2 * A1*(1-A1)\n",
    "\n",
    "    dW1 = dZ1 @ X.T\n",
    "    db1 = np.sum(dZ1, axis =1 , keepdims = True)\n",
    "\n",
    "\n",
    "    #optimzation step\n",
    "    #print(np.max(W1), np.max(dW1), np.max(W2), np.max(dW2))\n",
    "    # optimization step\n",
    "    W2 -= lr*dW2\n",
    "    b2 -= lr*db2\n",
    "    W1 -= lr*dW1\n",
    "    b1 -= lr*db1\n",
    "\n",
    "\n",
    "\n",
    "    #calcuating classification error\n",
    "    num_images += X.shape[1]\n",
    "    error += np.sum(( np.argmax(yhat, axis = 0)!= labels.numpy())*1)\n",
    "    #calcuating classification error\n",
    "    pred = np.argmax(yhat, axis = 0)\n",
    "    correct+= np.sum(labels.numpy() == pred)\n",
    "    total+=yhat.shape[1]\n",
    "\n",
    "  print(f\"Accuray is {correct/total}\")\n",
    "  print(f\"{error} out of {num_images} are incorreclty labeled\")\n",
    "\n",
    "\n",
    "plt.plot(ls)\n",
    "\n",
    "\n",
    "\n",
    "\n",
    "\n",
    "\n"
   ],
   "metadata": {
    "colab": {
     "base_uri": "https://localhost:8080/"
    },
    "id": "xPau6DPohn4Z",
    "outputId": "ad178899-ebac-42dc-8c56-79a4f3c721db"
   },
   "execution_count": null,
   "outputs": [
    {
     "output_type": "stream",
     "name": "stdout",
     "text": [
      "Accuray is 0.8276333333333333\n",
      "10342 out of 60000 are incorreclty labeled\n",
      "Accuray is 0.9227\n",
      "4638 out of 60000 are incorreclty labeled\n",
      "Accuray is 0.9338666666666666\n",
      "3968 out of 60000 are incorreclty labeled\n",
      "Accuray is 0.9406166666666667\n",
      "3563 out of 60000 are incorreclty labeled\n",
      "Accuray is 0.94455\n",
      "3327 out of 60000 are incorreclty labeled\n",
      "Accuray is 0.9479\n",
      "3126 out of 60000 are incorreclty labeled\n",
      "Accuray is 0.9503833333333334\n",
      "2977 out of 60000 are incorreclty labeled\n",
      "Accuray is 0.9509833333333333\n",
      "2941 out of 60000 are incorreclty labeled\n"
     ]
    },
    {
     "output_type": "execute_result",
     "data": {
      "text/plain": [
       "[<matplotlib.lines.Line2D at 0x7f05c62f4880>]"
      ]
     },
     "metadata": {},
     "execution_count": 23
    },
    {
     "output_type": "display_data",
     "data": {
      "text/plain": [
       "<Figure size 640x480 with 1 Axes>"
      ],
      "image/png": "[encoded data removed]"
     },
     "metadata": {}
    }
   ]
  },
  {
   "cell_type": "code",
   "source": [
    "#yhat ---> column 1 (1 data point) ---[[0],[0.1],[0],[0.5],[0.3],[0]...]\n",
    "# y ---> colum 1 (1 data point)----> 2 --->[[0],[0],[1],[0],[0],...] --> one hot encoding\n"
   ],
   "metadata": {
    "id": "ksMutMN8kh1V"
   },
   "execution_count": null,
   "outputs": []
  },
  {
   "cell_type": "code",
   "source": [
    "y"
   ],
   "metadata": {
    "id": "4z2teb3Nvemf"
   },
   "execution_count": null,
   "outputs": []
  },
  {
   "cell_type": "code",
   "source": [
    "labels==y"
   ],
   "metadata": {
    "id": "Trymwh9EvhzM"
   },
   "execution_count": null,
   "outputs": []
  },
  {
   "cell_type": "code",
   "source": [
    "plt.imshow(X[:,0].reshape(28,28))\n"
   ],
   "metadata": {
    "id": "ntdTFfkhnlYf"
   },
   "execution_count": null,
   "outputs": []
  },
  {
   "cell_type": "code",
   "source": [
    "dW2"
   ],
   "metadata": {
    "id": "CVmYwvaoqDzc"
   },
   "execution_count": null,
   "outputs": []
  },
  {
   "cell_type": "code",
   "source": [],
   "metadata": {
    "id": "Jtaq-nooqSj9"
   },
   "execution_count": null,
   "outputs": []
  }
 ],
 "metadata": {
  "colab": {
   "provenance": []
  },
  "kernelspec": {
   "display_name": "Python 3 (ipykernel)",
   "language": "python",
   "name": "python3"
  },
  "language_info": {
   "codemirror_mode": {
    "name": "ipython",
    "version": 3
   },
   "file_extension": ".py",
   "mimetype": "text/x-python",
   "name": "python",
   "nbconvert_exporter": "python",
   "pygments_lexer": "ipython3",
   "version": "3.9.7"
  }
 },
 "nbformat": 4,
 "nbformat_minor": 0
}
