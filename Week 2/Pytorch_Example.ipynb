{
 "nbformat": 4,
 "nbformat_minor": 0,
 "metadata": {
  "colab": {
   "provenance": [],
   "gpuType": "T4"
  },
  "kernelspec": {
   "name": "python3",
   "language": "python",
   "display_name": "Python 3 (ipykernel)"
  },
  "language_info": {
   "name": "python"
  },
  "accelerator": "GPU"
 },
 "cells": [
  {
   "cell_type": "code",
   "source": [
    "import torch\n",
    "import torch.nn as nn\n",
    "import torch.optim as optim\n",
    "import torchvision\n",
    "import torchvision.transforms as transforms\n",
    "import matplotlib.pyplot as plt\n"
   ],
   "metadata": {
    "id": "HK-RSL3eSh0U",
    "ExecuteTime": {
     "end_time": "2023-08-17T14:16:21.529793Z",
     "start_time": "2023-08-17T14:16:15.238563500Z"
    }
   },
   "execution_count": 1,
   "outputs": []
  },
  {
   "cell_type": "code",
   "source": [
    "# Hyperparameters\n",
    "batch_size = 64\n",
    "learning_rate = 0.001\n",
    "num_epochs = 10\n"
   ],
   "metadata": {
    "id": "B7UJdXAPSjTy",
    "ExecuteTime": {
     "end_time": "2023-08-17T14:16:46.098019500Z",
     "start_time": "2023-08-17T14:16:46.074259800Z"
    }
   },
   "execution_count": 2,
   "outputs": []
  },
  {
   "cell_type": "code",
   "source": [
    "# Download and prepare the MNIST dataset\n",
    "transform = transforms.Compose([\n",
    "    transforms.ToTensor(),\n",
    "])\n",
    "\n",
    "train_dataset = torchvision.datasets.MNIST(root='./data', train=True, transform=transform, download=True)\n",
    "train_loader = torch.utils.data.DataLoader(dataset=train_dataset, batch_size=batch_size, shuffle=True)\n",
    "\n",
    "test_dataset = torchvision.datasets.MNIST(root='./data', train=False, transform=transform, download=True)\n",
    "test_loader = torch.utils.data.DataLoader(dataset=test_dataset, batch_size=batch_size, shuffle=False)"
   ],
   "metadata": {
    "colab": {
     "base_uri": "https://localhost:8080/"
    },
    "id": "GPmM8F2HSmq5",
    "outputId": "1edc29b4-fe90-4e2a-def8-561920af9b4b",
    "ExecuteTime": {
     "end_time": "2023-08-17T14:16:48.390680200Z",
     "start_time": "2023-08-17T14:16:46.876977200Z"
    }
   },
   "execution_count": 3,
   "outputs": [
    {
     "name": "stderr",
     "output_type": "stream",
     "text": [
      "8.3%"
     ]
    },
    {
     "name": "stdout",
     "output_type": "stream",
     "text": [
      "Downloading http://yann.lecun.com/exdb/mnist/train-images-idx3-ubyte.gz\n",
      "Downloading http://yann.lecun.com/exdb/mnist/train-images-idx3-ubyte.gz to ./data\\MNIST\\raw\\train-images-idx3-ubyte.gz\n"
     ]
    },
    {
     "name": "stderr",
     "output_type": "stream",
     "text": [
      "100.0%\n"
     ]
    },
    {
     "name": "stdout",
     "output_type": "stream",
     "text": [
      "Extracting ./data\\MNIST\\raw\\train-images-idx3-ubyte.gz to ./data\\MNIST\\raw\n"
     ]
    },
    {
     "name": "stderr",
     "output_type": "stream",
     "text": [
      "100.0%"
     ]
    },
    {
     "name": "stdout",
     "output_type": "stream",
     "text": [
      "\n",
      "Downloading http://yann.lecun.com/exdb/mnist/train-labels-idx1-ubyte.gz\n",
      "Downloading http://yann.lecun.com/exdb/mnist/train-labels-idx1-ubyte.gz to ./data\\MNIST\\raw\\train-labels-idx1-ubyte.gz\n",
      "Extracting ./data\\MNIST\\raw\\train-labels-idx1-ubyte.gz to ./data\\MNIST\\raw\n",
      "\n",
      "Downloading http://yann.lecun.com/exdb/mnist/t10k-images-idx3-ubyte.gz\n",
      "Downloading http://yann.lecun.com/exdb/mnist/t10k-images-idx3-ubyte.gz to ./data\\MNIST\\raw\\t10k-images-idx3-ubyte.gz\n"
     ]
    },
    {
     "name": "stderr",
     "output_type": "stream",
     "text": [
      "\n",
      "100.0%\n",
      "100.0%\n"
     ]
    },
    {
     "name": "stdout",
     "output_type": "stream",
     "text": [
      "Extracting ./data\\MNIST\\raw\\t10k-images-idx3-ubyte.gz to ./data\\MNIST\\raw\n",
      "\n",
      "Downloading http://yann.lecun.com/exdb/mnist/t10k-labels-idx1-ubyte.gz\n",
      "Downloading http://yann.lecun.com/exdb/mnist/t10k-labels-idx1-ubyte.gz to ./data\\MNIST\\raw\\t10k-labels-idx1-ubyte.gz\n",
      "Extracting ./data\\MNIST\\raw\\t10k-labels-idx1-ubyte.gz to ./data\\MNIST\\raw\n",
      "\n"
     ]
    }
   ]
  },
  {
   "cell_type": "code",
   "source": [
    "# Define the 2-layer fully connected neural network\n",
    "class Net(nn.Module):\n",
    "    def __init__(self, number_inputs, hidden_size, number_outputs):\n",
    "        super(Net, self).__init__()\n",
    "        self.fc1 = nn.Linear(number_inputs, hidden_size)  # Input size: 28x28, Output size: 128\n",
    "        self.fc2 = nn.Linear(hidden_size, number_outputs)       # Input size: 128, Output size: 10 (num_classes)\n",
    "\n",
    "    def forward(self, x):\n",
    "        x = x.view(-1, 28 * 28)  # Flatten the input images\n",
    "        x = torch.relu(self.fc1(x))\n",
    "        x = torch.relu(self.fc2(x))\n",
    "        return x"
   ],
   "metadata": {
    "id": "jXbywgx-SpBp",
    "ExecuteTime": {
     "end_time": "2023-08-17T14:17:02.547671100Z",
     "start_time": "2023-08-17T14:17:02.534329500Z"
    }
   },
   "execution_count": 4,
   "outputs": []
  },
  {
   "cell_type": "code",
   "source": [
    "# Initialize the network and define loss function and optimizer\n",
    "net = Net(number_inputs= 28*28, hidden_size=128, number_outputs=10)\n",
    "\n",
    "criterion = nn.CrossEntropyLoss() #loss\n",
    "optimizer = optim.Adam(net.parameters(), lr=learning_rate) #optimizer\n",
    "scheduler = optim.lr_scheduler.StepLR(optimizer, step_size=3, gamma=0.1)  # Learning rate scheduler"
   ],
   "metadata": {
    "id": "U5BTHXiaTfMj",
    "ExecuteTime": {
     "end_time": "2023-08-17T14:17:03.993808500Z",
     "start_time": "2023-08-17T14:17:03.974131100Z"
    }
   },
   "execution_count": 5,
   "outputs": []
  },
  {
   "cell_type": "code",
   "source": [
    "# Training function\n",
    "def train_epoch():\n",
    "    net.train()\n",
    "    running_loss = 0.0\n",
    "    for i, data in enumerate(train_loader):\n",
    "        inputs, labels = data\n",
    "        optimizer.zero_grad()\n",
    "\n",
    "        outputs = net(inputs)\n",
    "        loss = criterion(outputs, labels)\n",
    "        loss.backward()\n",
    "        optimizer.step()\n",
    "\n",
    "        running_loss += loss.item()\n",
    "        if i % 100 == 99:\n",
    "            print(f'Training Batch [{i+1}/{len(train_loader)}], Loss: {running_loss/100:.4f}')\n",
    "            running_loss = 0.0\n",
    "\n",
    "    return running_loss / len(train_loader)"
   ],
   "metadata": {
    "id": "17W6zaQETiCZ",
    "ExecuteTime": {
     "end_time": "2023-08-17T14:17:05.953477500Z",
     "start_time": "2023-08-17T14:17:05.935139800Z"
    }
   },
   "execution_count": 6,
   "outputs": []
  },
  {
   "cell_type": "code",
   "source": [
    "# Test function\n",
    "def test():\n",
    "    net.eval()\n",
    "    correct = 0\n",
    "    total = 0\n",
    "    with torch.no_grad():\n",
    "        for data in test_loader:\n",
    "            inputs, labels = data\n",
    "            outputs = net(inputs)\n",
    "            _, predicted = torch.max(outputs.data, 1)\n",
    "            total += labels.size(0)\n",
    "            correct += (predicted == labels).sum().item()\n",
    "\n",
    "    accuracy = 100 * correct / total\n",
    "    print(f'Accuracy on the test set: {accuracy:.2f}%')\n",
    "    return accuracy"
   ],
   "metadata": {
    "id": "QIN8K80PTjYS",
    "ExecuteTime": {
     "end_time": "2023-08-17T14:17:06.556669500Z",
     "start_time": "2023-08-17T14:17:06.510988800Z"
    }
   },
   "execution_count": 7,
   "outputs": []
  },
  {
   "cell_type": "code",
   "execution_count": 8,
   "metadata": {
    "colab": {
     "base_uri": "https://localhost:8080/",
     "height": 1000
    },
    "id": "9TX7e9dQSZUG",
    "outputId": "98ceff03-35e0-4b35-e165-4b8f4f351a4b",
    "ExecuteTime": {
     "end_time": "2023-08-17T14:19:05.923974900Z",
     "start_time": "2023-08-17T14:17:07.175011200Z"
    }
   },
   "outputs": [
    {
     "name": "stdout",
     "output_type": "stream",
     "text": [
      "Epoch [1/10]\n",
      "Training Batch [100/938], Loss: 1.6462\n",
      "Training Batch [200/938], Loss: 1.3821\n",
      "Training Batch [300/938], Loss: 1.3399\n",
      "Training Batch [400/938], Loss: 1.3162\n",
      "Training Batch [500/938], Loss: 1.3009\n",
      "Training Batch [600/938], Loss: 1.3354\n",
      "Training Batch [700/938], Loss: 1.2987\n",
      "Training Batch [800/938], Loss: 1.2839\n",
      "Training Batch [900/938], Loss: 1.2831\n",
      "Accuracy on the test set: 48.36%\n",
      "Epoch [2/10]\n",
      "Training Batch [100/938], Loss: 1.2815\n",
      "Training Batch [200/938], Loss: 1.2853\n",
      "Training Batch [300/938], Loss: 1.2568\n",
      "Training Batch [400/938], Loss: 1.2617\n",
      "Training Batch [500/938], Loss: 1.2364\n",
      "Training Batch [600/938], Loss: 1.2508\n",
      "Training Batch [700/938], Loss: 1.2334\n",
      "Training Batch [800/938], Loss: 1.2382\n",
      "Training Batch [900/938], Loss: 1.2167\n",
      "Accuracy on the test set: 48.87%\n",
      "Epoch [3/10]\n",
      "Training Batch [100/938], Loss: 1.2401\n",
      "Training Batch [200/938], Loss: 1.2242\n",
      "Training Batch [300/938], Loss: 1.2341\n",
      "Training Batch [400/938], Loss: 1.2117\n",
      "Training Batch [500/938], Loss: 1.2146\n",
      "Training Batch [600/938], Loss: 1.2290\n",
      "Training Batch [700/938], Loss: 1.2294\n",
      "Training Batch [800/938], Loss: 1.2226\n",
      "Training Batch [900/938], Loss: 1.1933\n",
      "Accuracy on the test set: 49.19%\n",
      "Epoch [4/10]\n",
      "Training Batch [100/938], Loss: 1.2058\n",
      "Training Batch [200/938], Loss: 1.2034\n",
      "Training Batch [300/938], Loss: 1.2174\n",
      "Training Batch [400/938], Loss: 1.2032\n",
      "Training Batch [500/938], Loss: 1.2119\n",
      "Training Batch [600/938], Loss: 1.1966\n",
      "Training Batch [700/938], Loss: 1.1901\n",
      "Training Batch [800/938], Loss: 1.1914\n",
      "Training Batch [900/938], Loss: 1.2083\n",
      "Accuracy on the test set: 49.28%\n",
      "Epoch [5/10]\n",
      "Training Batch [100/938], Loss: 1.2096\n",
      "Training Batch [200/938], Loss: 1.2041\n",
      "Training Batch [300/938], Loss: 1.2021\n",
      "Training Batch [400/938], Loss: 1.1996\n",
      "Training Batch [500/938], Loss: 1.1818\n",
      "Training Batch [600/938], Loss: 1.1836\n",
      "Training Batch [700/938], Loss: 1.2023\n",
      "Training Batch [800/938], Loss: 1.2183\n",
      "Training Batch [900/938], Loss: 1.2019\n",
      "Accuracy on the test set: 49.34%\n",
      "Epoch [6/10]\n",
      "Training Batch [100/938], Loss: 1.1895\n",
      "Training Batch [200/938], Loss: 1.1992\n",
      "Training Batch [300/938], Loss: 1.1869\n",
      "Training Batch [400/938], Loss: 1.2113\n",
      "Training Batch [500/938], Loss: 1.1846\n",
      "Training Batch [600/938], Loss: 1.2033\n",
      "Training Batch [700/938], Loss: 1.1954\n",
      "Training Batch [800/938], Loss: 1.2172\n",
      "Training Batch [900/938], Loss: 1.2009\n",
      "Accuracy on the test set: 49.34%\n",
      "Epoch [7/10]\n",
      "Training Batch [100/938], Loss: 1.1690\n",
      "Training Batch [200/938], Loss: 1.2005\n",
      "Training Batch [300/938], Loss: 1.2143\n",
      "Training Batch [400/938], Loss: 1.2060\n",
      "Training Batch [500/938], Loss: 1.2194\n",
      "Training Batch [600/938], Loss: 1.1842\n",
      "Training Batch [700/938], Loss: 1.1926\n",
      "Training Batch [800/938], Loss: 1.1770\n",
      "Training Batch [900/938], Loss: 1.2173\n",
      "Accuracy on the test set: 49.33%\n",
      "Epoch [8/10]\n",
      "Training Batch [100/938], Loss: 1.2272\n",
      "Training Batch [200/938], Loss: 1.1929\n",
      "Training Batch [300/938], Loss: 1.2080\n",
      "Training Batch [400/938], Loss: 1.1737\n",
      "Training Batch [500/938], Loss: 1.1994\n",
      "Training Batch [600/938], Loss: 1.1897\n",
      "Training Batch [700/938], Loss: 1.1888\n",
      "Training Batch [800/938], Loss: 1.1855\n",
      "Training Batch [900/938], Loss: 1.1921\n",
      "Accuracy on the test set: 49.33%\n",
      "Epoch [9/10]\n",
      "Training Batch [100/938], Loss: 1.1923\n",
      "Training Batch [200/938], Loss: 1.1981\n",
      "Training Batch [300/938], Loss: 1.2026\n",
      "Training Batch [400/938], Loss: 1.2066\n",
      "Training Batch [500/938], Loss: 1.2048\n",
      "Training Batch [600/938], Loss: 1.1939\n",
      "Training Batch [700/938], Loss: 1.1994\n",
      "Training Batch [800/938], Loss: 1.1979\n",
      "Training Batch [900/938], Loss: 1.1595\n",
      "Accuracy on the test set: 49.33%\n",
      "Epoch [10/10]\n",
      "Training Batch [100/938], Loss: 1.1778\n",
      "Training Batch [200/938], Loss: 1.2036\n",
      "Training Batch [300/938], Loss: 1.1883\n",
      "Training Batch [400/938], Loss: 1.2083\n",
      "Training Batch [500/938], Loss: 1.1725\n",
      "Training Batch [600/938], Loss: 1.2056\n",
      "Training Batch [700/938], Loss: 1.1934\n",
      "Training Batch [800/938], Loss: 1.2122\n",
      "Training Batch [900/938], Loss: 1.1985\n",
      "Accuracy on the test set: 49.33%\n",
      "Training finished\n"
     ]
    },
    {
     "data": {
      "text/plain": "<Figure size 640x480 with 1 Axes>",
      "image/png": "[encoded data removed]"
     },
     "metadata": {},
     "output_type": "display_data"
    }
   ],
   "source": [
    "# Training loop\n",
    "train_losses = []\n",
    "for epoch in range(num_epochs):\n",
    "    print(f'Epoch [{epoch+1}/{num_epochs}]')\n",
    "    train_loss = train_epoch()\n",
    "    train_losses.append(train_loss)\n",
    "    test_accuracy = test()\n",
    "    scheduler.step()  # Step the learning rate scheduler\n",
    "\n",
    "print('Training finished')\n",
    "\n",
    "# Plot the loss over epochs\n",
    "plt.plot(train_losses)\n",
    "plt.xlabel('Epoch')\n",
    "plt.ylabel('Loss')\n",
    "plt.title('Training Loss')\n",
    "plt.show()\n"
   ]
  },
  {
   "cell_type": "code",
   "execution_count": null,
   "outputs": [],
   "source": [],
   "metadata": {
    "collapsed": false
   }
  }
 ]
}
