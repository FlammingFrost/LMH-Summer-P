{
 "cells": [
  {
   "cell_type": "code",
   "execution_count": 2,
   "metadata": {
    "collapsed": true,
    "ExecuteTime": {
     "end_time": "2023-08-08T10:53:49.242218300Z",
     "start_time": "2023-08-08T10:53:48.573361400Z"
    }
   },
   "outputs": [],
   "source": [
    "import numpy as np\n",
    "import matplotlib.pyplot as plt"
   ]
  },
  {
   "cell_type": "code",
   "execution_count": 25,
   "outputs": [],
   "source": [
    "class World:\n",
    "    def __init__(self, limits):\n",
    "        \"\"\"\n",
    "        :param limits: the limits of all the dimensions, given by a list of tuples\n",
    "        \"\"\"\n",
    "        self._limits = np.array(limits)\n",
    "        self.dimensions = len(limits)\n",
    "        self.spheres = []\n",
    "\n",
    "    def add_sphere(self, sphere):\n",
    "        def trespasses_limits(sphere):\n",
    "            upper_limits = self._limits[:, 1]\n",
    "            lower_limits = self._limits[:, 0]\n",
    "\n",
    "            distances2upper_edge = upper_limits - sphere.center - sphere.radii\n",
    "            distances2lower_edge = sphere.center - lower_limits - sphere.radii\n",
    "\n",
    "            if np.any(distances2upper_edge < 0) or np.any(distances2lower_edge < 0):\n",
    "                return True\n",
    "            else:\n",
    "                return False\n",
    "\n",
    "        def contact_with_other_spheres(sphere):\n",
    "            for other_sphere in self.spheres:\n",
    "                if sphere.contact(other_sphere):\n",
    "                    return True\n",
    "            return False\n",
    "\n",
    "        # now check if both conditions are satisfied\n",
    "        if trespasses_limits(sphere) or contact_with_other_spheres(sphere):\n",
    "            return False\n",
    "        else:\n",
    "            self.spheres.append(sphere)\n",
    "            return True\n",
    "\n",
    "    def clear(self):\n",
    "        self.spheres = []\n",
    "\n",
    "\n",
    "    def draw(self):\n",
    "        def plt_sphere(self):\n",
    "            \"\"\"\n",
    "            Copied from seminar 2\n",
    "            \"\"\"\n",
    "            counter = 0\n",
    "            fig = plt.figure()\n",
    "            for s in self.spheres:\n",
    "                c, r = s.center, s.radii\n",
    "                ax = fig.gca(projection='3d')\n",
    "\n",
    "                # draw sphere\n",
    "                u, v = np.mgrid[0:2*np.pi:50j, 0:np.pi:50j]\n",
    "                x = r*np.cos(u)*np.sin(v)\n",
    "                y = r*np.sin(u)*np.sin(v)\n",
    "                z = r*np.cos(v)\n",
    "\n",
    "\n",
    "                ax.plot_surface(x+c[0], y+c[1], z+c[2], color='b', alpha=0.3)\n",
    "                ax.set_xlim(0,1)\n",
    "                ax.set_ylim(0,1)\n",
    "                ax.set_zlim(0,1)\n",
    "        if self.dimensions == 2:\n",
    "            fig, ax = plt.subplots()\n",
    "            for idx, sphere in enumerate(self.spheres):\n",
    "                circle = plt.Circle(sphere.center, sphere.radii, color='r')\n",
    "                ax.annotate('Sphere'+str(idx), xy=sphere.center, xytext=(sphere.center[0]+sphere.radii, sphere.center[1]+sphere.radii),\n",
    "                            arrowprops=dict(facecolor='black', shrink=0.05))\n",
    "                ax.add_artist(circle)\n",
    "            ax.set_xlim(self._limits[0])\n",
    "            ax.set_ylim(self._limits[1])\n",
    "            plt.title('World in 2D')\n",
    "            plt.show()\n",
    "        else:\n",
    "            if self.dimensions == 3:\n",
    "                plt_sphere([sphere.center for sphere in self.spheres], [sphere.radii for sphere in self.spheres])\n",
    "            else:\n",
    "                print('Cannot draw world with more than 3 dimensions')\n",
    "\n",
    "\n",
    "\n",
    "\n",
    "class Sphere:\n",
    "    def __init__(self, center, radii):\n",
    "        \"\"\"\n",
    "        Initializes a sphere\n",
    "        :param center: Center of the sphere.\n",
    "        :param radii: Radii of the sphere.\n",
    "        \"\"\"\n",
    "        self.center = center\n",
    "        self.radii = radii\n",
    "    def contact(self, sphere):\n",
    "        return np.linalg.norm(self.center - sphere.center) < self.radii + sphere.radii"
   ],
   "metadata": {
    "collapsed": false,
    "ExecuteTime": {
     "end_time": "2023-08-08T20:10:14.497253600Z",
     "start_time": "2023-08-08T20:10:14.466336900Z"
    }
   }
  },
  {
   "cell_type": "code",
   "execution_count": 26,
   "outputs": [
    {
     "ename": "NameError",
     "evalue": "name 'plt_sphere' is not defined",
     "output_type": "error",
     "traceback": [
      "\u001B[1;31m---------------------------------------------------------------------------\u001B[0m",
      "\u001B[1;31mNameError\u001B[0m                                 Traceback (most recent call last)",
      "Cell \u001B[1;32mIn[26], line 4\u001B[0m\n\u001B[0;32m      2\u001B[0m world\u001B[38;5;241m.\u001B[39madd_sphere(Sphere(np\u001B[38;5;241m.\u001B[39marray([\u001B[38;5;241m0\u001B[39m, \u001B[38;5;241m0\u001B[39m, \u001B[38;5;241m0\u001B[39m]), \u001B[38;5;241m1\u001B[39m))\n\u001B[0;32m      3\u001B[0m world\u001B[38;5;241m.\u001B[39madd_sphere(Sphere(np\u001B[38;5;241m.\u001B[39marray([\u001B[38;5;241m2\u001B[39m,\u001B[38;5;241m2\u001B[39m,\u001B[38;5;241m2\u001B[39m]), \u001B[38;5;241m2\u001B[39m))\n\u001B[1;32m----> 4\u001B[0m \u001B[43mworld\u001B[49m\u001B[38;5;241;43m.\u001B[39;49m\u001B[43mdraw\u001B[49m\u001B[43m(\u001B[49m\u001B[43m)\u001B[49m\n",
      "Cell \u001B[1;32mIn[25], line 75\u001B[0m, in \u001B[0;36mWorld.draw\u001B[1;34m(self)\u001B[0m\n\u001B[0;32m     73\u001B[0m \u001B[38;5;28;01melse\u001B[39;00m:\n\u001B[0;32m     74\u001B[0m     \u001B[38;5;28;01mif\u001B[39;00m \u001B[38;5;28mself\u001B[39m\u001B[38;5;241m.\u001B[39mdimensions \u001B[38;5;241m==\u001B[39m \u001B[38;5;241m3\u001B[39m:\n\u001B[1;32m---> 75\u001B[0m         \u001B[43mplt_sphere\u001B[49m([sphere\u001B[38;5;241m.\u001B[39mcenter \u001B[38;5;28;01mfor\u001B[39;00m sphere \u001B[38;5;129;01min\u001B[39;00m \u001B[38;5;28mself\u001B[39m\u001B[38;5;241m.\u001B[39mspheres], [sphere\u001B[38;5;241m.\u001B[39mradii \u001B[38;5;28;01mfor\u001B[39;00m sphere \u001B[38;5;129;01min\u001B[39;00m \u001B[38;5;28mself\u001B[39m\u001B[38;5;241m.\u001B[39mspheres])\n\u001B[0;32m     76\u001B[0m     \u001B[38;5;28;01melse\u001B[39;00m:\n\u001B[0;32m     77\u001B[0m         \u001B[38;5;28mprint\u001B[39m(\u001B[38;5;124m'\u001B[39m\u001B[38;5;124mCannot draw world with more than 3 dimensions\u001B[39m\u001B[38;5;124m'\u001B[39m)\n",
      "\u001B[1;31mNameError\u001B[0m: name 'plt_sphere' is not defined"
     ]
    }
   ],
   "source": [
    "world = World([(-4, 4), (-4, 4), (-4, 4)])\n",
    "world.add_sphere(Sphere(np.array([0, 0, 0]), 1))\n",
    "world.add_sphere(Sphere(np.array([2,2,2]), 2))\n",
    "world.draw()\n"
   ],
   "metadata": {
    "collapsed": false,
    "ExecuteTime": {
     "end_time": "2023-08-08T20:10:15.520503900Z",
     "start_time": "2023-08-08T20:10:15.452132400Z"
    }
   }
  },
  {
   "cell_type": "code",
   "execution_count": 18,
   "outputs": [
    {
     "data": {
      "text/plain": "<Figure size 640x480 with 1 Axes>",
      "image/png": "[encoded data removed]"
     },
     "metadata": {},
     "output_type": "display_data"
    }
   ],
   "source": [
    "# 2d example\n",
    "world = World([(-4, 4), (-4, 4)])\n",
    "world.add_sphere(Sphere(np.array([0, 0]), 0.5))\n",
    "world.add_sphere(Sphere(np.array([2,2]), 1))\n",
    "world.draw()"
   ],
   "metadata": {
    "collapsed": false,
    "ExecuteTime": {
     "end_time": "2023-08-08T11:03:47.721262400Z",
     "start_time": "2023-08-08T11:03:47.378955500Z"
    }
   }
  },
  {
   "cell_type": "code",
   "execution_count": null,
   "outputs": [],
   "source": [],
   "metadata": {
    "collapsed": false
   }
  }
 ],
 "metadata": {
  "kernelspec": {
   "display_name": "Python 3",
   "language": "python",
   "name": "python3"
  },
  "language_info": {
   "codemirror_mode": {
    "name": "ipython",
    "version": 2
   },
   "file_extension": ".py",
   "mimetype": "text/x-python",
   "name": "python",
   "nbconvert_exporter": "python",
   "pygments_lexer": "ipython2",
   "version": "2.7.6"
  }
 },
 "nbformat": 4,
 "nbformat_minor": 0
}
