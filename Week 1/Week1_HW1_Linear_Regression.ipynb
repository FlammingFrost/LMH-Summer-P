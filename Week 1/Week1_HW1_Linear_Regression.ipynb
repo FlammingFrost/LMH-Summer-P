{
 "nbformat": 4,
 "nbformat_minor": 0,
 "metadata": {
  "colab": {
   "provenance": []
  },
  "kernelspec": {
   "name": "python3",
   "language": "python",
   "display_name": "Python 3 (ipykernel)"
  },
  "language_info": {
   "name": "python"
  }
 },
 "cells": [
  {
   "cell_type": "markdown",
   "source": [
    "Week1 - Homework1 - `Lifan Lin`"
   ],
   "metadata": {
    "collapsed": false
   }
  },
  {
   "cell_type": "markdown",
   "source": [
    "Let's take a look at whether we can predict the number of bicycle trips across Seattle's Fremont Bridge based on weather, season, and other factors. We have a dataset with number of bikers that crossed the bridge on a particular day and some accompanying data for that day. We will perform a simple linear regression to relate weather and other information to bicycle counts, in order to estimate how a change in any one of these parameters affects the number of riders on a given day."
   ],
   "metadata": {
    "id": "2YX_utHD_s3h"
   }
  },
  {
   "cell_type": "markdown",
   "source": [
    "Let's download the dataset and have a look at it."
   ],
   "metadata": {
    "id": "bAhCNW61AOWO"
   }
  },
  {
   "cell_type": "code",
   "source": [
    "# !gdown 12OEFoq_65x6Sy4doc24FwHu1ujKpbXSn"
   ],
   "metadata": {
    "colab": {
     "base_uri": "https://localhost:8080/"
    },
    "id": "7frjiXeo8p7M",
    "outputId": "1713baeb-ce03-4b9f-f05b-0c319a6173fd"
   },
   "execution_count": null,
   "outputs": [
    {
     "output_type": "stream",
     "name": "stdout",
     "text": [
      "Downloading...\n",
      "From: https://drive.google.com/uc?id=12OEFoq_65x6Sy4doc24FwHu1ujKpbXSn\n",
      "To: /content/bikers_data.csv\n",
      "\r  0% 0.00/213k [00:00<?, ?B/s]\r100% 213k/213k [00:00<00:00, 83.3MB/s]\n"
     ]
    }
   ]
  },
  {
   "cell_type": "markdown",
   "source": [
    "Here I run the notebook locally, so I just load the data from my local directory."
   ],
   "metadata": {
    "collapsed": false
   }
  },
  {
   "cell_type": "code",
   "source": [
    "import pandas as pd\n",
    "import numpy as np\n",
    "import matplotlib.pyplot as plt"
   ],
   "metadata": {
    "id": "h_zsvUmV-RGu",
    "ExecuteTime": {
     "end_time": "2023-08-11T10:41:55.992956100Z",
     "start_time": "2023-08-11T10:41:53.944707100Z"
    }
   },
   "execution_count": 2,
   "outputs": []
  },
  {
   "cell_type": "markdown",
   "source": [
    "Examine the columns in the dataset."
   ],
   "metadata": {
    "id": "1jH8ceoxAWWN"
   }
  },
  {
   "cell_type": "code",
   "source": [
    "# Load Data\n",
    "data = pd.read_csv(\"bikers_data.csv\", index_col=\"Date\")\n",
    "data"
   ],
   "metadata": {
    "colab": {
     "base_uri": "https://localhost:8080/",
     "height": 455
    },
    "id": "5xykcINg-Evc",
    "outputId": "59e8c080-ee69-46ec-f97f-abfafa680aa6",
    "ExecuteTime": {
     "end_time": "2023-08-11T10:41:56.099526600Z",
     "start_time": "2023-08-11T10:41:55.997616200Z"
    }
   },
   "execution_count": 3,
   "outputs": [
    {
     "data": {
      "text/plain": "            Number of bikers  Mon  Tue  Wed  Thu  Fri  Sat  Sun  holiday  \\\nDate                                                                       \n2012-10-03           14084.0  0.0  0.0  1.0  0.0  0.0  0.0  0.0      0.0   \n2012-10-04           13900.0  0.0  0.0  0.0  1.0  0.0  0.0  0.0      0.0   \n2012-10-05           12592.0  0.0  0.0  0.0  0.0  1.0  0.0  0.0      0.0   \n2012-10-06            8024.0  0.0  0.0  0.0  0.0  0.0  1.0  0.0      0.0   \n2012-10-07            8568.0  0.0  0.0  0.0  0.0  0.0  0.0  1.0      0.0   \n...                      ...  ...  ...  ...  ...  ...  ...  ...      ...   \n2019-12-27            4552.0  0.0  0.0  0.0  0.0  1.0  0.0  0.0      0.0   \n2019-12-28            3352.0  0.0  0.0  0.0  0.0  0.0  1.0  0.0      0.0   \n2019-12-29            3692.0  0.0  0.0  0.0  0.0  0.0  0.0  1.0      0.0   \n2019-12-30            7212.0  1.0  0.0  0.0  0.0  0.0  0.0  0.0      0.0   \n2019-12-31            4568.0  0.0  1.0  0.0  0.0  0.0  0.0  0.0      0.0   \n\n            daylight_hrs  Rainfall (in)  Temp (F)  dry day  \nDate                                                        \n2012-10-03     11.277359           0.00      56.0        1  \n2012-10-04     11.219142           0.00      56.5        1  \n2012-10-05     11.161038           0.00      59.5        1  \n2012-10-06     11.103056           0.00      60.5        1  \n2012-10-07     11.045208           0.00      60.5        1  \n...                  ...            ...       ...      ...  \n2019-12-27      8.237706           0.01      41.0        0  \n2019-12-28      8.245532           0.00      44.0        1  \n2019-12-29      8.254701           0.01      45.5        0  \n2019-12-30      8.265207           0.04      45.5        0  \n2019-12-31      8.277039           0.26      49.5        0  \n\n[2646 rows x 13 columns]",
      "text/html": "<div>\n<style scoped>\n    .dataframe tbody tr th:only-of-type {\n        vertical-align: middle;\n    }\n\n    .dataframe tbody tr th {\n        vertical-align: top;\n    }\n\n    .dataframe thead th {\n        text-align: right;\n    }\n</style>\n<table border=\"1\" class=\"dataframe\">\n  <thead>\n    <tr style=\"text-align: right;\">\n      <th></th>\n      <th>Number of bikers</th>\n      <th>Mon</th>\n      <th>Tue</th>\n      <th>Wed</th>\n      <th>Thu</th>\n      <th>Fri</th>\n      <th>Sat</th>\n      <th>Sun</th>\n      <th>holiday</th>\n      <th>daylight_hrs</th>\n      <th>Rainfall (in)</th>\n      <th>Temp (F)</th>\n      <th>dry day</th>\n    </tr>\n    <tr>\n      <th>Date</th>\n      <th></th>\n      <th></th>\n      <th></th>\n      <th></th>\n      <th></th>\n      <th></th>\n      <th></th>\n      <th></th>\n      <th></th>\n      <th></th>\n      <th></th>\n      <th></th>\n      <th></th>\n    </tr>\n  </thead>\n  <tbody>\n    <tr>\n      <th>2012-10-03</th>\n      <td>14084.0</td>\n      <td>0.0</td>\n      <td>0.0</td>\n      <td>1.0</td>\n      <td>0.0</td>\n      <td>0.0</td>\n      <td>0.0</td>\n      <td>0.0</td>\n      <td>0.0</td>\n      <td>11.277359</td>\n      <td>0.00</td>\n      <td>56.0</td>\n      <td>1</td>\n    </tr>\n    <tr>\n      <th>2012-10-04</th>\n      <td>13900.0</td>\n      <td>0.0</td>\n      <td>0.0</td>\n      <td>0.0</td>\n      <td>1.0</td>\n      <td>0.0</td>\n      <td>0.0</td>\n      <td>0.0</td>\n      <td>0.0</td>\n      <td>11.219142</td>\n      <td>0.00</td>\n      <td>56.5</td>\n      <td>1</td>\n    </tr>\n    <tr>\n      <th>2012-10-05</th>\n      <td>12592.0</td>\n      <td>0.0</td>\n      <td>0.0</td>\n      <td>0.0</td>\n      <td>0.0</td>\n      <td>1.0</td>\n      <td>0.0</td>\n      <td>0.0</td>\n      <td>0.0</td>\n      <td>11.161038</td>\n      <td>0.00</td>\n      <td>59.5</td>\n      <td>1</td>\n    </tr>\n    <tr>\n      <th>2012-10-06</th>\n      <td>8024.0</td>\n      <td>0.0</td>\n      <td>0.0</td>\n      <td>0.0</td>\n      <td>0.0</td>\n      <td>0.0</td>\n      <td>1.0</td>\n      <td>0.0</td>\n      <td>0.0</td>\n      <td>11.103056</td>\n      <td>0.00</td>\n      <td>60.5</td>\n      <td>1</td>\n    </tr>\n    <tr>\n      <th>2012-10-07</th>\n      <td>8568.0</td>\n      <td>0.0</td>\n      <td>0.0</td>\n      <td>0.0</td>\n      <td>0.0</td>\n      <td>0.0</td>\n      <td>0.0</td>\n      <td>1.0</td>\n      <td>0.0</td>\n      <td>11.045208</td>\n      <td>0.00</td>\n      <td>60.5</td>\n      <td>1</td>\n    </tr>\n    <tr>\n      <th>...</th>\n      <td>...</td>\n      <td>...</td>\n      <td>...</td>\n      <td>...</td>\n      <td>...</td>\n      <td>...</td>\n      <td>...</td>\n      <td>...</td>\n      <td>...</td>\n      <td>...</td>\n      <td>...</td>\n      <td>...</td>\n      <td>...</td>\n    </tr>\n    <tr>\n      <th>2019-12-27</th>\n      <td>4552.0</td>\n      <td>0.0</td>\n      <td>0.0</td>\n      <td>0.0</td>\n      <td>0.0</td>\n      <td>1.0</td>\n      <td>0.0</td>\n      <td>0.0</td>\n      <td>0.0</td>\n      <td>8.237706</td>\n      <td>0.01</td>\n      <td>41.0</td>\n      <td>0</td>\n    </tr>\n    <tr>\n      <th>2019-12-28</th>\n      <td>3352.0</td>\n      <td>0.0</td>\n      <td>0.0</td>\n      <td>0.0</td>\n      <td>0.0</td>\n      <td>0.0</td>\n      <td>1.0</td>\n      <td>0.0</td>\n      <td>0.0</td>\n      <td>8.245532</td>\n      <td>0.00</td>\n      <td>44.0</td>\n      <td>1</td>\n    </tr>\n    <tr>\n      <th>2019-12-29</th>\n      <td>3692.0</td>\n      <td>0.0</td>\n      <td>0.0</td>\n      <td>0.0</td>\n      <td>0.0</td>\n      <td>0.0</td>\n      <td>0.0</td>\n      <td>1.0</td>\n      <td>0.0</td>\n      <td>8.254701</td>\n      <td>0.01</td>\n      <td>45.5</td>\n      <td>0</td>\n    </tr>\n    <tr>\n      <th>2019-12-30</th>\n      <td>7212.0</td>\n      <td>1.0</td>\n      <td>0.0</td>\n      <td>0.0</td>\n      <td>0.0</td>\n      <td>0.0</td>\n      <td>0.0</td>\n      <td>0.0</td>\n      <td>0.0</td>\n      <td>8.265207</td>\n      <td>0.04</td>\n      <td>45.5</td>\n      <td>0</td>\n    </tr>\n    <tr>\n      <th>2019-12-31</th>\n      <td>4568.0</td>\n      <td>0.0</td>\n      <td>1.0</td>\n      <td>0.0</td>\n      <td>0.0</td>\n      <td>0.0</td>\n      <td>0.0</td>\n      <td>0.0</td>\n      <td>0.0</td>\n      <td>8.277039</td>\n      <td>0.26</td>\n      <td>49.5</td>\n      <td>0</td>\n    </tr>\n  </tbody>\n</table>\n<p>2646 rows × 13 columns</p>\n</div>"
     },
     "execution_count": 3,
     "metadata": {},
     "output_type": "execute_result"
    }
   ]
  },
  {
   "cell_type": "code",
   "source": [
    "# We use the following columns for our training.\n",
    "data_x = data[['Mon', 'Tue', 'Wed', 'Thu', 'Fri', 'Sat', 'Sun',\n",
    "                'holiday', 'daylight_hrs', 'Rainfall (in)',\n",
    "                'dry day']].to_numpy()\n",
    "\n",
    "# Separating out the target values.\n",
    "data_y = data[[\"Number of bikers\"]].to_numpy()\n",
    "\n",
    "data_x.shape, data_y.shape"
   ],
   "metadata": {
    "colab": {
     "base_uri": "https://localhost:8080/"
    },
    "id": "AqBaPVax6c90",
    "outputId": "858066b5-bd6b-43df-db6a-fe62ae313a8c",
    "ExecuteTime": {
     "end_time": "2023-08-11T10:41:56.127581800Z",
     "start_time": "2023-08-11T10:41:56.086306300Z"
    }
   },
   "execution_count": 4,
   "outputs": [
    {
     "data": {
      "text/plain": "((2646, 11), (2646, 1))"
     },
     "execution_count": 4,
     "metadata": {},
     "output_type": "execute_result"
    }
   ]
  },
  {
   "cell_type": "code",
   "execution_count": 12,
   "outputs": [
    {
     "data": {
      "text/plain": "array([[ 62764.146685  ],\n       [-62288.37369511],\n       [-61844.94554556],\n       [-61946.80107045],\n       [-62448.10941205],\n       [-63814.38417947],\n       [-69457.15410163],\n       [-69811.66962066],\n       [ -5064.49893164],\n       [   984.69717451],\n       [ -2410.55753067],\n       [  2504.52281   ]])"
     },
     "execution_count": 12,
     "metadata": {},
     "output_type": "execute_result"
    }
   ],
   "source": [
    "data_x = np.hstack((np.ones((data_x.shape[0], 1)), data_x))\n",
    "XTX = np.matmul(data_x.T, data_x)\n",
    "#solve for w\n",
    "w = np.linalg.solve(XTX, np.matmul(data_x.T, data_y))\n",
    "w"
   ],
   "metadata": {
    "collapsed": false,
    "ExecuteTime": {
     "end_time": "2023-08-11T10:46:03.016355100Z",
     "start_time": "2023-08-11T10:46:02.950466300Z"
    }
   }
  },
  {
   "cell_type": "markdown",
   "source": [
    "## a) Split the dataset into training and testing sets\n",
    "\n",
    "Split the dataset into training and testing sets. Keep 80% of the data for training and 20% of the data for testing."
   ],
   "metadata": {
    "id": "OZ6wbmQXAhzR"
   }
  },
  {
   "cell_type": "code",
   "execution_count": 6,
   "outputs": [],
   "source": [
    "# Split the data into training/testing sets\n",
    "# sample train idxs and test idxs\n",
    "idx_train = np.random.choice(data_x.shape[0], int(data_x.shape[0]*0.8), replace=False)\n",
    "idx_test = np.setdiff1d(np.arange(data_x.shape[0]), idx_train)\n",
    "# sample from data\n",
    "X_train, X_test, y_train, y_test = data_x[idx_train], data_x[idx_test], data_y[idx_train], data_y[idx_test]"
   ],
   "metadata": {
    "collapsed": false,
    "ExecuteTime": {
     "end_time": "2023-08-09T08:13:20.065462400Z",
     "start_time": "2023-08-09T08:13:20.042247200Z"
    }
   }
  },
  {
   "cell_type": "markdown",
   "source": [
    "## b) Train a linear regression model\n",
    "\n",
    "Build a linear regression model for predicting the numner of bikers using the mean squared error loss function."
   ],
   "metadata": {
    "id": "iqVMAnc1AnjE"
   }
  },
  {
   "cell_type": "markdown",
   "source": [
    "The linear model will be in the form:\n",
    "$$\n",
    "\\begin{align}\n",
    "y =& w_0 + w_1 x_1 + w_2 x_2 + ... + w_n x_n\\\\\n",
    "=& \\mathbf{w}^T \\mathbf{x}\\\\\n",
    "=& \\sum_{i=0}^n w_i x_i\n",
    "\\end{align}\n",
    "$$\n",
    "where $x_i$ is the $i$-th feature of the input data $\\mathbf{x}$, namely\n",
    "and $w_i$ is the $i$-th weight of the model. Specially, $w_0$ is the bias term, assigned with constant value 1."
   ],
   "metadata": {
    "collapsed": false
   }
  },
  {
   "cell_type": "markdown",
   "source": [
    "## c) Predict and Evaluate\n",
    "\n",
    "Predict on the test set and calculate the average absolute error between predictions and true value.\n",
    "\n",
    "Comment on the results."
   ],
   "metadata": {
    "id": "uiMkCZAnAy-Y"
   }
  },
  {
   "cell_type": "markdown",
   "source": [
    "## d) What is the expected number of bikers on a dry non-holiday Monday with 0 inches of rain and 10.5 hours of daylight?"
   ],
   "metadata": {
    "id": "Gqu61LeEBKMO"
   }
  },
  {
   "cell_type": "markdown",
   "source": [
    "## e) Notice that the dataset had an another column 'Temp (F)' but we aren't using it. Let's use that too and do this again.\n",
    "\n",
    "Add the 'Temp (F)' column to our X data."
   ],
   "metadata": {
    "id": "cUYLZMSRC9B7"
   }
  },
  {
   "cell_type": "code",
   "source": [
    "# We use the following columns for our training.\n",
    "data_x = data[['Mon', 'Tue', 'Wed', 'Thu', 'Fri', 'Sat', 'Sun',\n",
    "                'holiday', 'daylight_hrs', 'Rainfall (in)',\n",
    "                'dry day', 'Temp (F)']].to_numpy()\n",
    "\n",
    "# Separating out the target values.\n",
    "data_y = data[[\"Number of bikers\"]].to_numpy()\n",
    "\n",
    "data_x.shape, data_y.shape"
   ],
   "metadata": {
    "colab": {
     "base_uri": "https://localhost:8080/"
    },
    "outputId": "96ec8932-7dc0-418c-921d-98c54b5844f8",
    "id": "3v9F2IGA-9Ho"
   },
   "execution_count": null,
   "outputs": [
    {
     "output_type": "execute_result",
     "data": {
      "text/plain": [
       "((2646, 12), (2646, 1))"
      ]
     },
     "metadata": {},
     "execution_count": 12
    }
   ]
  },
  {
   "cell_type": "markdown",
   "source": [
    "## f) Split the dataset into training and testing sets again\n"
   ],
   "metadata": {
    "id": "OUGW1UulDVfI"
   }
  },
  {
   "cell_type": "markdown",
   "source": [
    "## g) Train a linear regression model again\n",
    "\n",
    "Build a linear regression model for predicting the numner of bikers using the mean squared error loss function."
   ],
   "metadata": {
    "id": "cQEouVbUDbea"
   }
  },
  {
   "cell_type": "markdown",
   "source": [
    "## h) Predict and Evaluate Again!\n",
    "\n",
    "Predict on the test set and calculate the average absolute error between predictions and true value.\n",
    "\n",
    "Comment on the results. Did it change? Can you think of any information we can use to make a better(more informed) model?"
   ],
   "metadata": {
    "id": "FqIsCLNcDhwv"
   }
  },
  {
   "cell_type": "code",
   "source": [],
   "metadata": {
    "id": "h2S7Z-0c3WFw"
   },
   "execution_count": null,
   "outputs": []
  }
 ]
}
