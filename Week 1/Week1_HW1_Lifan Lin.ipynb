{
 "cells": [
  {
   "cell_type": "markdown",
   "source": [
    "# Week1 - Homework1 - Lifan Lin"
   ],
   "metadata": {
    "collapsed": false
   }
  },
  {
   "cell_type": "markdown",
   "source": [
    "## Preparations: Data, Packages"
   ],
   "metadata": {
    "collapsed": false
   }
  },
  {
   "cell_type": "code",
   "execution_count": 48,
   "outputs": [],
   "source": [
    "import matplotlib.pyplot as plt\n",
    "# import packages\n",
    "import pandas as pd\n",
    "import numpy as np"
   ],
   "metadata": {
    "collapsed": false,
    "ExecuteTime": {
     "end_time": "2023-08-11T14:47:44.210109900Z",
     "start_time": "2023-08-11T14:47:44.115882400Z"
    }
   }
  },
  {
   "cell_type": "code",
   "execution_count": 49,
   "outputs": [
    {
     "data": {
      "text/plain": "            Date  Number of bikers  Mon  Tue  Wed  Thu  Fri  Sat  Sun  \\\n0     2012-10-03           14084.0  0.0  0.0  1.0  0.0  0.0  0.0  0.0   \n1     2012-10-04           13900.0  0.0  0.0  0.0  1.0  0.0  0.0  0.0   \n2     2012-10-05           12592.0  0.0  0.0  0.0  0.0  1.0  0.0  0.0   \n3     2012-10-06            8024.0  0.0  0.0  0.0  0.0  0.0  1.0  0.0   \n4     2012-10-07            8568.0  0.0  0.0  0.0  0.0  0.0  0.0  1.0   \n...          ...               ...  ...  ...  ...  ...  ...  ...  ...   \n2641  2019-12-27            4552.0  0.0  0.0  0.0  0.0  1.0  0.0  0.0   \n2642  2019-12-28            3352.0  0.0  0.0  0.0  0.0  0.0  1.0  0.0   \n2643  2019-12-29            3692.0  0.0  0.0  0.0  0.0  0.0  0.0  1.0   \n2644  2019-12-30            7212.0  1.0  0.0  0.0  0.0  0.0  0.0  0.0   \n2645  2019-12-31            4568.0  0.0  1.0  0.0  0.0  0.0  0.0  0.0   \n\n      holiday  daylight_hrs  Rainfall (in)  Temp (F)  dry day  \n0         0.0     11.277359           0.00      56.0        1  \n1         0.0     11.219142           0.00      56.5        1  \n2         0.0     11.161038           0.00      59.5        1  \n3         0.0     11.103056           0.00      60.5        1  \n4         0.0     11.045208           0.00      60.5        1  \n...       ...           ...            ...       ...      ...  \n2641      0.0      8.237706           0.01      41.0        0  \n2642      0.0      8.245532           0.00      44.0        1  \n2643      0.0      8.254701           0.01      45.5        0  \n2644      0.0      8.265207           0.04      45.5        0  \n2645      0.0      8.277039           0.26      49.5        0  \n\n[2646 rows x 14 columns]",
      "text/html": "<div>\n<style scoped>\n    .dataframe tbody tr th:only-of-type {\n        vertical-align: middle;\n    }\n\n    .dataframe tbody tr th {\n        vertical-align: top;\n    }\n\n    .dataframe thead th {\n        text-align: right;\n    }\n</style>\n<table border=\"1\" class=\"dataframe\">\n  <thead>\n    <tr style=\"text-align: right;\">\n      <th></th>\n      <th>Date</th>\n      <th>Number of bikers</th>\n      <th>Mon</th>\n      <th>Tue</th>\n      <th>Wed</th>\n      <th>Thu</th>\n      <th>Fri</th>\n      <th>Sat</th>\n      <th>Sun</th>\n      <th>holiday</th>\n      <th>daylight_hrs</th>\n      <th>Rainfall (in)</th>\n      <th>Temp (F)</th>\n      <th>dry day</th>\n    </tr>\n  </thead>\n  <tbody>\n    <tr>\n      <th>0</th>\n      <td>2012-10-03</td>\n      <td>14084.0</td>\n      <td>0.0</td>\n      <td>0.0</td>\n      <td>1.0</td>\n      <td>0.0</td>\n      <td>0.0</td>\n      <td>0.0</td>\n      <td>0.0</td>\n      <td>0.0</td>\n      <td>11.277359</td>\n      <td>0.00</td>\n      <td>56.0</td>\n      <td>1</td>\n    </tr>\n    <tr>\n      <th>1</th>\n      <td>2012-10-04</td>\n      <td>13900.0</td>\n      <td>0.0</td>\n      <td>0.0</td>\n      <td>0.0</td>\n      <td>1.0</td>\n      <td>0.0</td>\n      <td>0.0</td>\n      <td>0.0</td>\n      <td>0.0</td>\n      <td>11.219142</td>\n      <td>0.00</td>\n      <td>56.5</td>\n      <td>1</td>\n    </tr>\n    <tr>\n      <th>2</th>\n      <td>2012-10-05</td>\n      <td>12592.0</td>\n      <td>0.0</td>\n      <td>0.0</td>\n      <td>0.0</td>\n      <td>0.0</td>\n      <td>1.0</td>\n      <td>0.0</td>\n      <td>0.0</td>\n      <td>0.0</td>\n      <td>11.161038</td>\n      <td>0.00</td>\n      <td>59.5</td>\n      <td>1</td>\n    </tr>\n    <tr>\n      <th>3</th>\n      <td>2012-10-06</td>\n      <td>8024.0</td>\n      <td>0.0</td>\n      <td>0.0</td>\n      <td>0.0</td>\n      <td>0.0</td>\n      <td>0.0</td>\n      <td>1.0</td>\n      <td>0.0</td>\n      <td>0.0</td>\n      <td>11.103056</td>\n      <td>0.00</td>\n      <td>60.5</td>\n      <td>1</td>\n    </tr>\n    <tr>\n      <th>4</th>\n      <td>2012-10-07</td>\n      <td>8568.0</td>\n      <td>0.0</td>\n      <td>0.0</td>\n      <td>0.0</td>\n      <td>0.0</td>\n      <td>0.0</td>\n      <td>0.0</td>\n      <td>1.0</td>\n      <td>0.0</td>\n      <td>11.045208</td>\n      <td>0.00</td>\n      <td>60.5</td>\n      <td>1</td>\n    </tr>\n    <tr>\n      <th>...</th>\n      <td>...</td>\n      <td>...</td>\n      <td>...</td>\n      <td>...</td>\n      <td>...</td>\n      <td>...</td>\n      <td>...</td>\n      <td>...</td>\n      <td>...</td>\n      <td>...</td>\n      <td>...</td>\n      <td>...</td>\n      <td>...</td>\n      <td>...</td>\n    </tr>\n    <tr>\n      <th>2641</th>\n      <td>2019-12-27</td>\n      <td>4552.0</td>\n      <td>0.0</td>\n      <td>0.0</td>\n      <td>0.0</td>\n      <td>0.0</td>\n      <td>1.0</td>\n      <td>0.0</td>\n      <td>0.0</td>\n      <td>0.0</td>\n      <td>8.237706</td>\n      <td>0.01</td>\n      <td>41.0</td>\n      <td>0</td>\n    </tr>\n    <tr>\n      <th>2642</th>\n      <td>2019-12-28</td>\n      <td>3352.0</td>\n      <td>0.0</td>\n      <td>0.0</td>\n      <td>0.0</td>\n      <td>0.0</td>\n      <td>0.0</td>\n      <td>1.0</td>\n      <td>0.0</td>\n      <td>0.0</td>\n      <td>8.245532</td>\n      <td>0.00</td>\n      <td>44.0</td>\n      <td>1</td>\n    </tr>\n    <tr>\n      <th>2643</th>\n      <td>2019-12-29</td>\n      <td>3692.0</td>\n      <td>0.0</td>\n      <td>0.0</td>\n      <td>0.0</td>\n      <td>0.0</td>\n      <td>0.0</td>\n      <td>0.0</td>\n      <td>1.0</td>\n      <td>0.0</td>\n      <td>8.254701</td>\n      <td>0.01</td>\n      <td>45.5</td>\n      <td>0</td>\n    </tr>\n    <tr>\n      <th>2644</th>\n      <td>2019-12-30</td>\n      <td>7212.0</td>\n      <td>1.0</td>\n      <td>0.0</td>\n      <td>0.0</td>\n      <td>0.0</td>\n      <td>0.0</td>\n      <td>0.0</td>\n      <td>0.0</td>\n      <td>0.0</td>\n      <td>8.265207</td>\n      <td>0.04</td>\n      <td>45.5</td>\n      <td>0</td>\n    </tr>\n    <tr>\n      <th>2645</th>\n      <td>2019-12-31</td>\n      <td>4568.0</td>\n      <td>0.0</td>\n      <td>1.0</td>\n      <td>0.0</td>\n      <td>0.0</td>\n      <td>0.0</td>\n      <td>0.0</td>\n      <td>0.0</td>\n      <td>0.0</td>\n      <td>8.277039</td>\n      <td>0.26</td>\n      <td>49.5</td>\n      <td>0</td>\n    </tr>\n  </tbody>\n</table>\n<p>2646 rows × 14 columns</p>\n</div>"
     },
     "execution_count": 49,
     "metadata": {},
     "output_type": "execute_result"
    }
   ],
   "source": [
    "# Since I run the notebook locally, I download it in advance.\n",
    "data = pd.read_csv(\"./bikers_data.csv\")\n",
    "data"
   ],
   "metadata": {
    "collapsed": false,
    "ExecuteTime": {
     "end_time": "2023-08-11T14:47:44.297486100Z",
     "start_time": "2023-08-11T14:47:44.131485200Z"
    }
   }
  },
  {
   "cell_type": "markdown",
   "source": [
    "## Selecting features"
   ],
   "metadata": {
    "collapsed": false
   }
  },
  {
   "cell_type": "markdown",
   "source": [
    "### drop columns\n",
    "\n",
    "- `date`: I drop the date columns because we basically make the assumption that the number of bikers is independent of time. Also, we don't want to handle any time series data.\n",
    "- Week col: Week columns are linear dependent, this could result in the singularity of matrix $X^TX$ and actually not necessary. For example, if the value from `Mon` to `Sat` are all 0, it could be deduced that the value of `Sun` is 1. So I drop this column."
   ],
   "metadata": {
    "collapsed": false
   }
  },
  {
   "cell_type": "code",
   "execution_count": 50,
   "outputs": [
    {
     "name": "stdout",
     "output_type": "stream",
     "text": [
      "Predictor columns are:  Index(['Mon', 'Tue', 'Wed', 'Thu', 'Fri', 'Sat', 'holiday', 'daylight_hrs',\n",
      "       'Rainfall (in)', 'dry day'],\n",
      "      dtype='object')\n",
      "Target column is:  Number of bikers\n"
     ]
    }
   ],
   "source": [
    "# select columns\n",
    "predictor_cols = data.columns[[2,3,4,5,6,7,9,10,11,13]]\n",
    "# print(predictor_cols)\n",
    "data_X = data[predictor_cols].to_numpy()\n",
    "print(\"Predictor columns are: \", predictor_cols)\n",
    "target_col = data.columns[1]\n",
    "data_y = data[target_col].to_numpy()\n",
    "print(\"Target column is: \", target_col)\n",
    "# add a column of 1 to X_train and X_test, w_0\n",
    "data_X = np.hstack((np.ones((data_X.shape[0], 1)), data_X))"
   ],
   "metadata": {
    "collapsed": false,
    "ExecuteTime": {
     "end_time": "2023-08-11T14:47:44.313988600Z",
     "start_time": "2023-08-11T14:47:44.249523800Z"
    }
   }
  },
  {
   "cell_type": "markdown",
   "source": [
    "## a) Split the dataset into training and testing sets\n",
    "\n",
    "80% for training and 20% for testing"
   ],
   "metadata": {
    "collapsed": false
   }
  },
  {
   "cell_type": "code",
   "execution_count": 51,
   "outputs": [],
   "source": [
    "# sampling the index\n",
    "idx = np.arange(data_X.shape[0])\n",
    "np.random.shuffle(idx)\n",
    "idx_train = idx[:int(0.8*data_X.shape[0])]\n",
    "idx_test = idx[int(0.8*data_X.shape[0]):]\n",
    "\n",
    "# split the data\n",
    "X_train, X_test, y_train, y_test = data_X[idx_train], data_X[idx_test], data_y[idx_train], data_y[idx_test]"
   ],
   "metadata": {
    "collapsed": false,
    "ExecuteTime": {
     "end_time": "2023-08-11T14:47:44.315298300Z",
     "start_time": "2023-08-11T14:47:44.274988600Z"
    }
   }
  },
  {
   "cell_type": "code",
   "execution_count": 52,
   "outputs": [
    {
     "name": "stdout",
     "output_type": "stream",
     "text": [
      "X_train shape:  (2116, 11)\n",
      "X_test shape:  (530, 11)\n",
      "y_train shape:  (2116,)\n",
      "y_test shape:  (530,)\n"
     ]
    }
   ],
   "source": [
    "# check the shape\n",
    "print(\"X_train shape: \", X_train.shape)\n",
    "print(\"X_test shape: \", X_test.shape)\n",
    "print(\"y_train shape: \", y_train.shape)\n",
    "print(\"y_test shape: \", y_test.shape)"
   ],
   "metadata": {
    "collapsed": false,
    "ExecuteTime": {
     "end_time": "2023-08-11T14:47:44.315804Z",
     "start_time": "2023-08-11T14:47:44.298498700Z"
    }
   }
  },
  {
   "cell_type": "markdown",
   "source": [
    "## b) Fit a linear regression model to the training set"
   ],
   "metadata": {
    "collapsed": false
   }
  },
  {
   "cell_type": "markdown",
   "source": [
    "\n",
    "### i) linear model\n",
    "Following the notation in the lecture, we have our linear model:\n",
    "$$\n",
    "y = X\\mathbf{w} + \\epsilon\n",
    "$$\n",
    "and\n",
    "$$\n",
    "\\hat{y} = X\\hat{\\mathbf{w}}\n",
    "$$\n",
    "where\n",
    "- $y$ is the target variable\n",
    "- $X$ is the design matrix,\n",
    "\n",
    "$$\n",
    "X = \\left[\n",
    "\\begin{matrix}\n",
    "1 & x^1_1 & x^2_1 & \\cdots & x^d_1 \\\\\n",
    "1 & x^1_2 & x^2_2 & \\cdots & x^d_2 \\\\\n",
    "\\vdots & \\vdots \\\\\n",
    "1 & x^1_n & x^2_n & \\cdots & x^d_n \\\\\n",
    "\\end{matrix}\n",
    "\\right]\n",
    "$$\n",
    "- $\\mathbf{w} = [w_0, w_1, \\cdots , w_d] $ is the weight vector."
   ],
   "metadata": {
    "collapsed": false
   }
  },
  {
   "cell_type": "markdown",
   "source": [
    "### ii) Normal equation\n",
    "The normal equation is:\n",
    "$$\n",
    "XX^T\\mathbf{w} = X^Ty\n",
    "$$\n",
    "and the solution is: (if $XX^T$ is invertible)\n",
    "$$\n",
    "\\hat{\\mathbf{w}} = (XX^T)^{-1}X^Ty\n",
    "$$\n",
    "now I will write it in codes\n",
    "\\"
   ],
   "metadata": {
    "collapsed": false
   }
  },
  {
   "cell_type": "code",
   "execution_count": 53,
   "outputs": [
    {
     "name": "stdout",
     "output_type": "stream",
     "text": [
      "The weight vector is: \n"
     ]
    },
    {
     "data": {
      "text/plain": "array([-7152.87239471,  7585.47877493,  8166.42003746,  8025.2276315 ,\n        7444.9167645 ,  6110.02943514,   415.08231447, -4620.26303847,\n         985.59847334, -2443.06878355,  2544.14731593])"
     },
     "execution_count": 53,
     "metadata": {},
     "output_type": "execute_result"
    }
   ],
   "source": [
    "XTX = np.dot(X_train.T, X_train)\n",
    "XTy = np.dot(X_train.T, y_train)\n",
    "# use np.linalg.inv to solve the equation, it is much efficient than first compute the inverse of XTX and then multiply it with XTy\n",
    "w_hat = np.linalg.solve(XTX, XTy)\n",
    "print(\"The weight vector is: \")\n",
    "w_hat"
   ],
   "metadata": {
    "collapsed": false,
    "ExecuteTime": {
     "end_time": "2023-08-11T14:47:44.408518700Z",
     "start_time": "2023-08-11T14:47:44.304884600Z"
    }
   }
  },
  {
   "cell_type": "markdown",
   "source": [
    "## c) Predict and Evaluate\n",
    "\n",
    "### i) Predict\n",
    "\n",
    "Linear model predict y by\n",
    "$$\n",
    "\\hat{y} = X\\hat{\\mathbf{w}}\n",
    "$$\n"
   ],
   "metadata": {
    "collapsed": false
   }
  },
  {
   "cell_type": "code",
   "execution_count": 54,
   "outputs": [
    {
     "name": "stdout",
     "output_type": "stream",
     "text": [
      "The Mean Squared Error on training set is:  6578264.79546095\n",
      "The Mean Squared Error on testing set is:  5825060.888046549\n",
      "The Mean Absolute Error on training set is:  1987.6154885972314\n",
      "The Mean Absolute Error on testing set is:  1839.221506837802\n"
     ]
    }
   ],
   "source": [
    "# predict on both train set and test set\n",
    "y_pred_train = np.dot(X_train, w_hat)\n",
    "y_pred_test = np.dot(X_test, w_hat)\n",
    "# evaluate the training error and testing error, using L2 norm\n",
    "mse_train = np.mean((y_pred_train - y_train)**2)\n",
    "mse_test = np.mean((y_pred_test - y_test)**2)\n",
    "print(\"The Mean Squared Error on training set is: \", mse_train)\n",
    "print(\"The Mean Squared Error on testing set is: \", mse_test)\n",
    "\n",
    "# evaluate with L1 norm\n",
    "abs_e_train = np.mean(np.abs(y_pred_train - y_train))\n",
    "abs_e_test = np.mean(np.abs(y_pred_test - y_test))\n",
    "print(\"The Mean Absolute Error on training set is: \", abs_e_train)\n",
    "print(\"The Mean Absolute Error on testing set is: \", abs_e_test)"
   ],
   "metadata": {
    "collapsed": false,
    "ExecuteTime": {
     "end_time": "2023-08-11T14:47:44.475951300Z",
     "start_time": "2023-08-11T14:47:44.340141Z"
    }
   }
  },
  {
   "cell_type": "markdown",
   "source": [
    "### ii) Evaluate\n",
    "\n",
    "#### The difference between loss on training set and testing set\n",
    "\n",
    "The model is trained on training dataset, and the loss makes the model capture as much information as possible from the training dataset. However, some features in the training dataset may not be generalized to the testing dataset. So the loss on testing dataset will be larger than the loss on training dataset.\n",
    "\n",
    "But here our testing loss is instead slightly lower than the testing loss, implying that the model is not overfitting.\n",
    "\n",
    "\n",
    "\n",
    "\n",
    "#### Simple Model Diagnosis\n",
    "\n",
    "Only look into the MSE or the MAE is not enough, because they can be scaled up by the data itself, and we cannot see whether the model is good or not.\n",
    "I found that the following criterion is somehow \"accuracy-like\" and may be use to evaluate the overall performance of models.\n",
    "In statistics, a basic criterion is to find how well our linear model can explain the variance of the data. This is what so-called $R^2$ score.\n",
    "$$\n",
    "R^2 \\\\\n",
    "= 1 - \\frac{\\sum_{i=1}^n (y_i - \\hat{y}_i)^2}{\\sum_{i=1}^n (y_i - \\bar{y})^2} = 1 - \\frac{MSE}{Var(y)}\\\\\n",
    "= \\frac{MSR}{MST} =\n",
    "\\frac{\\text{Variance explained by the model}}{\\text{Total variance in the data}}\n",
    "$$\n",
    "where $\\bar{y}$ is the mean of $y$."
   ],
   "metadata": {
    "collapsed": false
   }
  },
  {
   "cell_type": "code",
   "execution_count": 55,
   "outputs": [
    {
     "name": "stdout",
     "output_type": "stream",
     "text": [
      "The R2 score on training set is:  0.7840792238547201\n",
      "The R2 score on testing set is:  0.790885173055867\n"
     ]
    }
   ],
   "source": [
    "# calculate R2 score\n",
    "R2_train = 1 - mse_train / np.var(y_train)\n",
    "print(\"The R2 score on training set is: \", R2_train)\n",
    "R2_test = 1 - mse_test / np.var(y_test)\n",
    "print(\"The R2 score on testing set is: \", R2_test)"
   ],
   "metadata": {
    "collapsed": false,
    "ExecuteTime": {
     "end_time": "2023-08-11T14:47:44.500746500Z",
     "start_time": "2023-08-11T14:47:44.351068900Z"
    }
   }
  },
  {
   "cell_type": "markdown",
   "source": [
    "My model achieves a $R^2$ score of 0.77, this is relatively good."
   ],
   "metadata": {
    "collapsed": false
   }
  },
  {
   "cell_type": "markdown",
   "source": [
    "### Residual Plot\n",
    "We can used residual plot to diagnose the model. If our model works well, the residual should be gaussian distributed."
   ],
   "metadata": {
    "collapsed": false
   }
  },
  {
   "cell_type": "code",
   "execution_count": 56,
   "outputs": [
    {
     "data": {
      "text/plain": "(array([  2.,   3.,  14.,  25.,  48.,  74., 161., 299., 364., 374., 279.,\n        228., 127.,  68.,  23.,  15.,   7.,   2.,   2.,   1.]),\n array([-9846.12072755, -8778.77838511, -7711.43604268, -6644.09370025,\n        -5576.75135782, -4509.40901539, -3442.06667295, -2374.72433052,\n        -1307.38198809,  -240.03964566,   827.30269677,  1894.64503921,\n         2961.98738164,  4029.32972407,  5096.6720665 ,  6164.01440894,\n         7231.35675137,  8298.6990938 ,  9366.04143623, 10433.38377866,\n        11500.7261211 ]),\n <BarContainer object of 20 artists>)"
     },
     "execution_count": 56,
     "metadata": {},
     "output_type": "execute_result"
    },
    {
     "data": {
      "text/plain": "<Figure size 1000x500 with 1 Axes>",
      "image/png": "[encoded data removed]"
     },
     "metadata": {},
     "output_type": "display_data"
    },
    {
     "data": {
      "text/plain": "<Figure size 1000x500 with 1 Axes>",
      "image/png": "[encoded data removed]"
     },
     "metadata": {},
     "output_type": "display_data"
    }
   ],
   "source": [
    "# plot the residual\n",
    "plt.figure(figsize=(10,5))\n",
    "residual_train = y_pred_train - y_train\n",
    "plt.scatter(y_pred_train, residual_train,s=5)\n",
    "plt.hlines(y=0, xmin=0, xmax=20000, colors='r', linestyles='--')\n",
    "plt.figure(figsize=(10,5))\n",
    "plt.hist(residual_train, bins=20)"
   ],
   "metadata": {
    "collapsed": false,
    "ExecuteTime": {
     "end_time": "2023-08-11T14:47:44.925770200Z",
     "start_time": "2023-08-11T14:47:44.367536Z"
    }
   }
  },
  {
   "cell_type": "markdown",
   "source": [
    "The residual plot and histogram shows that the residual has a gaussian and 0-centered distribution, which fits well to the model's assumption."
   ],
   "metadata": {
    "collapsed": false
   }
  },
  {
   "cell_type": "markdown",
   "source": [
    "## d) The expected number of bikers on a\n",
    "- dry day\n",
    "- Monday\n",
    "- non-holiday\n",
    "- 0 inches of rain\n",
    "- 10.5 hours of daylight"
   ],
   "metadata": {
    "collapsed": false
   }
  },
  {
   "cell_type": "code",
   "execution_count": 57,
   "outputs": [
    {
     "name": "stdout",
     "output_type": "stream",
     "text": [
      "The expected number of bikers is:  13325.537666245671\n"
     ]
    }
   ],
   "source": [
    "# in the condition given, we have a whole set of predictors\n",
    "# then we just need to feed it into our model\n",
    "x_new = np.array([1,1,0,0,0,0,0,0,10.5,0,1])\n",
    "# columns are ['Mon', 'Tue', 'Wed', 'Thu', 'Fri', 'Sat', 'holiday', 'daylight_hrs','Rainfall (in)', 'dry day']\n",
    "y_new = np.dot(x_new, w_hat)\n",
    "print(\"The expected number of bikers is: \", y_new)"
   ],
   "metadata": {
    "collapsed": false,
    "ExecuteTime": {
     "end_time": "2023-08-11T14:47:44.941228400Z",
     "start_time": "2023-08-11T14:47:44.930916800Z"
    }
   }
  },
  {
   "cell_type": "markdown",
   "source": [
    "# Repeat the Procedure above"
   ],
   "metadata": {
    "collapsed": false
   }
  },
  {
   "cell_type": "code",
   "execution_count": 58,
   "outputs": [
    {
     "name": "stdout",
     "output_type": "stream",
     "text": [
      "Predictor columns are:  Index(['Mon', 'Tue', 'Wed', 'Thu', 'Fri', 'Sat', 'holiday', 'daylight_hrs',\n",
      "       'Rainfall (in)', 'Temp (F)', 'dry day'],\n",
      "      dtype='object')\n",
      "Target column is:  Number of bikers\n",
      "X_train shape:  (2116, 12)\n",
      "X_test shape:  (530, 12)\n",
      "y_train shape:  (2116,)\n",
      "y_test shape:  (530,)\n"
     ]
    }
   ],
   "source": [
    "# select columns\n",
    "predictor_cols = data.columns[[2,3,4,5,6,7,9,10,11,12,13]]\n",
    "# print(predictor_cols)\n",
    "data_X = data[predictor_cols].to_numpy()\n",
    "print(\"Predictor columns are: \", predictor_cols)\n",
    "target_col = data.columns[1]\n",
    "data_y = data[target_col].to_numpy()\n",
    "print(\"Target column is: \", target_col)\n",
    "# add a column of 1 to X_train and X_test\n",
    "data_X = np.hstack((np.ones((data_X.shape[0], 1)), data_X))\n",
    "# sampling the index\n",
    "idx = np.arange(data_X.shape[0])\n",
    "np.random.shuffle(idx)\n",
    "idx_train = idx[:int(0.8*data_X.shape[0])]\n",
    "idx_test = idx[int(0.8*data_X.shape[0]):]\n",
    "\n",
    "# split the data\n",
    "X_train, X_test, y_train, y_test = data_X[idx_train], data_X[idx_test], data_y[idx_train], data_y[idx_test]\n",
    "# check the shape\n",
    "print(\"X_train shape: \", X_train.shape)\n",
    "print(\"X_test shape: \", X_test.shape)\n",
    "print(\"y_train shape: \", y_train.shape)\n",
    "print(\"y_test shape: \", y_test.shape)"
   ],
   "metadata": {
    "collapsed": false,
    "ExecuteTime": {
     "end_time": "2023-08-11T14:47:45.106060800Z",
     "start_time": "2023-08-11T14:47:44.948817600Z"
    }
   }
  },
  {
   "cell_type": "code",
   "execution_count": 59,
   "outputs": [
    {
     "name": "stdout",
     "output_type": "stream",
     "text": [
      "The weight vector is: \n"
     ]
    },
    {
     "data": {
      "text/plain": "array([-9834.6682509 ,  7354.98261253,  7885.53493   ,  7784.68822175,\n        7373.98906942,  5939.07755369,   286.16173026, -5131.64264949,\n         418.61987504, -2714.95232829,   181.39139145,  2151.97519366])"
     },
     "execution_count": 59,
     "metadata": {},
     "output_type": "execute_result"
    }
   ],
   "source": [
    "# Solve linear model\n",
    "XTX = np.dot(X_train.T, X_train)\n",
    "XTy = np.dot(X_train.T, y_train)\n",
    "# use np.linalg.inv to solve the equation, it is much efficient than first compute the inverse of XTX and then multiply it with XTy\n",
    "w_hat = np.linalg.solve(XTX, XTy)\n",
    "print(\"The weight vector is: \")\n",
    "w_hat"
   ],
   "metadata": {
    "collapsed": false,
    "ExecuteTime": {
     "end_time": "2023-08-11T14:47:45.107134600Z",
     "start_time": "2023-08-11T14:47:44.962804500Z"
    }
   }
  },
  {
   "cell_type": "code",
   "execution_count": 60,
   "outputs": [
    {
     "name": "stdout",
     "output_type": "stream",
     "text": [
      "The Mean Squared Error on training set is:  4836522.047106669\n",
      "The Mean Squared Error on testing set is:  5263152.117442945\n",
      "The Mean Absolute Error on training set is:  1685.1293615952002\n",
      "The Mean Absolute Error on testing set is:  1741.0998424132886\n"
     ]
    }
   ],
   "source": [
    "# predict on both train set and test set\n",
    "y_pred_train = np.dot(X_train, w_hat)\n",
    "y_pred_test = np.dot(X_test, w_hat)\n",
    "# evaluate the training error and testing error, using L2 norm\n",
    "mse_train = np.mean((y_pred_train - y_train)**2)\n",
    "mse_test = np.mean((y_pred_test - y_test)**2)\n",
    "print(\"The Mean Squared Error on training set is: \", mse_train)\n",
    "print(\"The Mean Squared Error on testing set is: \", mse_test)\n",
    "\n",
    "# evaluate with L1 norm\n",
    "abs_e_train = np.mean(np.abs(y_pred_train - y_train))\n",
    "abs_e_test = np.mean(np.abs(y_pred_test - y_test))\n",
    "print(\"The Mean Absolute Error on training set is: \", abs_e_train)\n",
    "print(\"The Mean Absolute Error on testing set is: \", abs_e_test)"
   ],
   "metadata": {
    "collapsed": false,
    "ExecuteTime": {
     "end_time": "2023-08-11T14:47:45.107640600Z",
     "start_time": "2023-08-11T14:47:44.979465800Z"
    }
   }
  },
  {
   "cell_type": "code",
   "execution_count": 61,
   "outputs": [
    {
     "name": "stdout",
     "output_type": "stream",
     "text": [
      "The R2 score on training set is:  0.8402493562003039\n",
      "The R2 score on testing set is:  0.81794630957833\n"
     ]
    }
   ],
   "source": [
    "# calculate R2 score\n",
    "R2_train = 1 - mse_train / np.var(y_train)\n",
    "print(\"The R2 score on training set is: \", R2_train)\n",
    "R2_test = 1 - mse_test / np.var(y_test)\n",
    "print(\"The R2 score on testing set is: \", R2_test)"
   ],
   "metadata": {
    "collapsed": false,
    "ExecuteTime": {
     "end_time": "2023-08-11T14:47:45.107640600Z",
     "start_time": "2023-08-11T14:47:45.000130700Z"
    }
   }
  },
  {
   "cell_type": "markdown",
   "source": [
    "### Comments: new model"
   ],
   "metadata": {
    "collapsed": false
   }
  },
  {
   "cell_type": "markdown",
   "source": [
    "After adding the new predictor `temp`, all training error, testing error and $R^2$ score are improved. This can indicate a better model.\n",
    "But such enhancement is at the cost of increase of complexity of the model, and we may risk overfitting.\n",
    "In fact, if we look at the difference between training error and testing error of two models:\n",
    "- old model:\n",
    "    - training error: 1963\n",
    "    - testing error: 1912\n",
    "- new model:\n",
    "    - training error: 1685\n",
    "    - testing error: 1731\n",
    "\n",
    "The new model starts behaving like overfitting, as a result of introduction of new predictor."
   ],
   "metadata": {
    "collapsed": false
   }
  },
  {
   "cell_type": "code",
   "execution_count": 62,
   "outputs": [
    {
     "name": "stdout",
     "output_type": "stream",
     "text": [
      "The expected number of bikers is:  14951.2817302237\n"
     ]
    }
   ],
   "source": [
    "# in the condition given, we have a whole set of predictors\n",
    "# then we just need to feed it into our model\n",
    "# Suppose we have a temperature of 60 degree\n",
    "x_new = np.array([1,1,0,0,0,0,0,0,10.5,0,60,1])\n",
    "# columns are ['Mon', 'Tue', 'Wed', 'Thu', 'Fri', 'Sat', 'holiday', 'daylight_hrs','Rainfall (in)', 'dry day']\n",
    "y_new = np.dot(x_new, w_hat)\n",
    "print(\"The expected number of bikers is: \", y_new)"
   ],
   "metadata": {
    "collapsed": false,
    "ExecuteTime": {
     "end_time": "2023-08-11T14:47:45.107640600Z",
     "start_time": "2023-08-11T14:47:45.010945700Z"
    }
   }
  },
  {
   "cell_type": "markdown",
   "source": [
    "The expected number of bikers changes as temperature is added as a predictor. This prediction might be more accurate, though we don't have the ground truth. But it's always good to include more information."
   ],
   "metadata": {
    "collapsed": false
   }
  },
  {
   "cell_type": "markdown",
   "source": [
    "# Further improvement"
   ],
   "metadata": {
    "collapsed": false
   }
  },
  {
   "cell_type": "markdown",
   "source": [
    "## a) Extend the linear model to include a quadratic term\n",
    "In above model, we assume a linear relationship between the predictors and the target. But in reality, the relationship might be more complicated. So we can extend the linear model to include a quadratic term.\n",
    "\n",
    "To avoid the explosion of complexity, we only add quadratic term to the `temp` and `daylight_hrs` predictors."
   ],
   "metadata": {
    "collapsed": false
   }
  },
  {
   "cell_type": "code",
   "execution_count": 73,
   "outputs": [
    {
     "data": {
      "text/plain": "array([[ 1.        ,  0.        ,  0.        , ..., -0.30359148,\n        -0.21359226, -0.03604185],\n       [ 1.        ,  0.        ,  0.        , ..., -0.30573387,\n        -0.21359226,  0.01023439],\n       [ 1.        ,  0.        ,  0.        , ..., -0.24393482,\n        -0.21359226,  0.3055009 ],\n       ...,\n       [ 1.        ,  0.        ,  0.        , ..., -1.13138863,\n        -0.21336055, -0.82990928],\n       [ 1.        ,  1.        ,  0.        , ..., -1.12976324,\n        -0.20988494, -0.82990928],\n       [ 1.        ,  0.        ,  1.        , ..., -1.07152343,\n        -0.04318824, -0.56576335]])"
     },
     "execution_count": 73,
     "metadata": {},
     "output_type": "execute_result"
    }
   ],
   "source": [
    "data_X"
   ],
   "metadata": {
    "collapsed": false,
    "ExecuteTime": {
     "end_time": "2023-08-11T14:52:25.709051Z",
     "start_time": "2023-08-11T14:52:25.688745200Z"
    }
   }
  },
  {
   "cell_type": "code",
   "execution_count": 64,
   "outputs": [],
   "source": [
    "data_X_quad = np.hstack((data_X, data_X[:,[8]]**2, data_X[:,[10]]**2, data_X[:,[8]]*data_X[:,[10]]))"
   ],
   "metadata": {
    "collapsed": false,
    "ExecuteTime": {
     "end_time": "2023-08-11T14:47:45.109309900Z",
     "start_time": "2023-08-11T14:47:45.040578700Z"
    }
   }
  },
  {
   "cell_type": "code",
   "execution_count": 65,
   "outputs": [],
   "source": [
    "# fit a linear model\n",
    "X_train_quad, X_test_quad, y_train_quad, y_test_quad = data_X_quad[idx_train], data_X_quad[idx_test], data_y[idx_train], data_y[idx_test]\n",
    "\n",
    "w_hat_quad = np.linalg.solve(np.dot(X_train_quad.T, X_train_quad), np.dot(X_train_quad.T, y_train_quad))"
   ],
   "metadata": {
    "collapsed": false,
    "ExecuteTime": {
     "end_time": "2023-08-11T14:47:45.109309900Z",
     "start_time": "2023-08-11T14:47:45.057247800Z"
    }
   }
  },
  {
   "cell_type": "code",
   "execution_count": 66,
   "outputs": [
    {
     "name": "stdout",
     "output_type": "stream",
     "text": [
      "The R2 score on training set is:  0.846563111654724\n",
      "The R2 score on testing set is:  0.8256635329708899\n",
      "The Mean Squared Error on training set is:  4645370.28252517\n",
      "The Mean Squared Error on testing set is:  5040048.040039978\n"
     ]
    }
   ],
   "source": [
    "# R2 score\n",
    "y_pred_train_quad = np.dot(X_train_quad, w_hat_quad)\n",
    "y_pred_test_quad = np.dot(X_test_quad, w_hat_quad)\n",
    "R2_train_quad = 1 - np.mean((y_pred_train_quad - y_train_quad)**2) / np.var(y_train_quad)\n",
    "R2_test_quad = 1 - np.mean((y_pred_test_quad - y_test_quad)**2) / np.var(y_test_quad)\n",
    "print(\"The R2 score on training set is: \", R2_train_quad)\n",
    "print(\"The R2 score on testing set is: \", R2_test_quad)\n",
    "\n",
    "# MSE\n",
    "mse_train_quad = np.mean((y_pred_train_quad - y_train_quad)**2)\n",
    "mse_test_quad = np.mean((y_pred_test_quad - y_test_quad)**2)\n",
    "print(\"The Mean Squared Error on training set is: \", mse_train_quad)\n",
    "print(\"The Mean Squared Error on testing set is: \", mse_test_quad)\n"
   ],
   "metadata": {
    "collapsed": false,
    "ExecuteTime": {
     "end_time": "2023-08-11T14:47:45.109309900Z",
     "start_time": "2023-08-11T14:47:45.074705200Z"
    }
   }
  },
  {
   "cell_type": "markdown",
   "source": [
    "It seems that the model is not better than the previous one."
   ],
   "metadata": {
    "collapsed": false
   }
  },
  {
   "cell_type": "markdown",
   "source": [
    "## b) Extend the linear model to include a term of 4th order"
   ],
   "metadata": {
    "collapsed": false
   }
  },
  {
   "cell_type": "markdown",
   "source": [
    "### slice the data and create 4th-order term"
   ],
   "metadata": {
    "collapsed": false
   }
  },
  {
   "cell_type": "code",
   "execution_count": 67,
   "outputs": [],
   "source": [
    "data = pd.read_csv(\"bikers_data.csv\")\n",
    "data = data.values"
   ],
   "metadata": {
    "collapsed": false,
    "ExecuteTime": {
     "end_time": "2023-08-11T14:47:45.140341500Z",
     "start_time": "2023-08-11T14:47:45.087049700Z"
    }
   }
  },
  {
   "cell_type": "code",
   "execution_count": 68,
   "outputs": [],
   "source": [
    "predictor_cols = [2,3,4,5,6,7,9,10,11,12,13]\n",
    "power_col = [10,11,12]"
   ],
   "metadata": {
    "collapsed": false,
    "ExecuteTime": {
     "end_time": "2023-08-11T14:47:45.267210600Z",
     "start_time": "2023-08-11T14:47:45.120677Z"
    }
   }
  },
  {
   "cell_type": "code",
   "execution_count": 69,
   "outputs": [
    {
     "name": "stdout",
     "output_type": "stream",
     "text": [
      "The size of training set is:  (1587, 30)\n",
      "The size of testing set is:  (530, 30)\n"
     ]
    }
   ],
   "source": [
    "data_X = data[:,predictor_cols]\n",
    "data_y = data[:,1]\n",
    "# add interaction term\n",
    "data_X = np.hstack((np.ones((data_X.shape[0],1)), data_X))\n",
    "\n",
    "# add order 2, 3, 4\n",
    "for i in power_col:\n",
    "    data_X = np.hstack((data_X, data[:,[i]]**2, data[:,[i]]**3))\n",
    "\n",
    "# Interaction\n",
    "data_X = np.hstack((data_X, data[:,[10]]*data[:,[11]],\n",
    "                    data[:,[10]]*data[:,[12]],\n",
    "                    data[:,[11]]*data[:,[12]]))\n",
    "for i in [10,11,12]:\n",
    "    for j in [10,11,12]:\n",
    "        data_X = np.hstack((data_X, data[:,[i]]*data[:,[j]]**2))\n",
    "\n",
    "\n",
    "# Centralize continuous variables\n",
    "for col in range(8,data_X.shape[1]):\n",
    "    data_X[:,col] = (data_X[:,col] - np.mean(data_X[:,col])) / np.std(data_X[:,col])\n",
    "\n",
    "data_X = data_X.astype(float)\n",
    "data_y = data_y.astype(float)\n",
    "\n",
    "\n",
    "idx = np.arange(data_X.shape[0])\n",
    "np.random.shuffle(idx)\n",
    "idx_train, idx_val, idx_test = idx[:int(0.6*data_X.shape[0])], idx[int(0.6*data_X.shape[0]):int(0.8*data_X.shape[0])], idx[int(0.8*data_X.shape[0]):]\n",
    "\n",
    "X_train, X_test, y_train, y_test, X_val, y_val = data_X[idx_train], data_X[idx_test], data_y[idx_train], data_y[idx_test], data_X[idx_val], data_y[idx_val]\n",
    "\n",
    "#print size\n",
    "print(\"The size of training set is: \", X_train.shape)\n",
    "print(\"The size of testing set is: \", X_test.shape)\n"
   ],
   "metadata": {
    "collapsed": false,
    "ExecuteTime": {
     "end_time": "2023-08-11T14:47:45.326574300Z",
     "start_time": "2023-08-11T14:47:45.141343600Z"
    }
   }
  },
  {
   "cell_type": "markdown",
   "source": [
    "### Add L2-penalty to Loss\n",
    "As # of features increase in our model, we may have a problem of overfitting. Hence I used ridge regression. I select the best hyperparameter $\\lambda$ on validation set(20%), and test it on test set.\n",
    "Here I write a function to run the linear regression with different lambda"
   ],
   "metadata": {
    "collapsed": false
   }
  },
  {
   "cell_type": "code",
   "execution_count": 70,
   "outputs": [],
   "source": [
    "def ridge_regression(lamda):\n",
    "    # sampling the index\n",
    "    # idx = np.arange(data_X.shape[0])\n",
    "    # np.random.shuffle(idx)\n",
    "\n",
    "    # the penalty is not on the intercept\n",
    "    p = np.eye(X_train.shape[1])\n",
    "    p[0,0] = 0\n",
    "    A = np.dot(X_train.T, X_train)+lamda*p\n",
    "    B = np.dot(X_train.T, y_train)\n",
    "\n",
    "\n",
    "    w_hat = np.linalg.solve(A, B)\n",
    "    y_pred_train = np.dot(X_train, w_hat)\n",
    "    y_pred_val = np.dot(X_val, w_hat)\n",
    "\n",
    "    # MSE\n",
    "    rmse_train = np.sqrt(np.mean((y_pred_train - y_train)**2))\n",
    "    rmse_val = np.sqrt(np.mean((y_pred_val - y_val)**2))\n",
    "    return rmse_train, rmse_val"
   ],
   "metadata": {
    "collapsed": false,
    "ExecuteTime": {
     "end_time": "2023-08-11T14:47:45.326574300Z",
     "start_time": "2023-08-11T14:47:45.212896900Z"
    }
   }
  },
  {
   "cell_type": "code",
   "execution_count": 71,
   "outputs": [
    {
     "data": {
      "text/plain": "Text(0.5, 1.0, 'Training and Validation Error vs $\\\\lambda$')"
     },
     "execution_count": 71,
     "metadata": {},
     "output_type": "execute_result"
    },
    {
     "data": {
      "text/plain": "<Figure size 640x480 with 1 Axes>",
      "image/png": "[encoded data removed]"
     },
     "metadata": {},
     "output_type": "display_data"
    }
   ],
   "source": [
    "lambda_list = np.exp(np.arange(-3, 2, 0.01))\n",
    "train_err, val_err = [], []\n",
    "for lamda in lambda_list:\n",
    "    mse_train, mse_test = ridge_regression(lamda)\n",
    "    # print(lamda)\n",
    "    train_err.append(mse_train)\n",
    "    val_err.append(mse_test)\n",
    "\n",
    "plt.plot(lambda_list, train_err, label=\"training error\")\n",
    "plt.plot(lambda_list, val_err, label=\"validation error\")\n",
    "plt.legend()\n",
    "plt.xlabel(\"$\\lambda$\")\n",
    "plt.title(\"Training and Validation Error vs $\\lambda$\")"
   ],
   "metadata": {
    "collapsed": false,
    "ExecuteTime": {
     "end_time": "2023-08-11T14:47:45.672688300Z",
     "start_time": "2023-08-11T14:47:45.224717900Z"
    }
   }
  },
  {
   "cell_type": "markdown",
   "source": [
    "### Choose the best lambda, then I should report the performance on the test set"
   ],
   "metadata": {
    "collapsed": false
   }
  },
  {
   "cell_type": "code",
   "execution_count": 74,
   "outputs": [
    {
     "name": "stdout",
     "output_type": "stream",
     "text": [
      "The best lambda is:  0.4360492863215154\n",
      "The Mean Absolute Error on testing set is:  1645.1120603277593\n"
     ]
    }
   ],
   "source": [
    "best_lambda = lambda_list[np.argmin(val_err)]\n",
    "print(\"The best lambda is: \", best_lambda)\n",
    "\n",
    "p = np.eye(X_train.shape[1])\n",
    "p[0,0] = 0\n",
    "A = np.dot(X_train.T, X_train)+best_lambda*p\n",
    "B = np.dot(X_train.T, y_train)\n",
    "\n",
    "\n",
    "w_hat = np.linalg.solve(A, B)\n",
    "y_pred_test = np.dot(X_test, w_hat)\n",
    "# MSE\n",
    "mae_test = np.mean(np.abs(y_pred_test - y_test))\n",
    "\n",
    "print(\"The Mean Absolute Error on testing set is: \", mae_test)\n",
    "\n",
    "\n"
   ],
   "metadata": {
    "collapsed": false,
    "ExecuteTime": {
     "end_time": "2023-08-11T14:55:02.673628300Z",
     "start_time": "2023-08-11T14:55:02.653681100Z"
    }
   }
  },
  {
   "cell_type": "code",
   "execution_count": null,
   "outputs": [],
   "source": [],
   "metadata": {
    "collapsed": false,
    "ExecuteTime": {
     "start_time": "2023-08-11T14:47:45.691075600Z"
    }
   }
  }
 ],
 "metadata": {
  "kernelspec": {
   "display_name": "Python 3",
   "language": "python",
   "name": "python3"
  },
  "language_info": {
   "codemirror_mode": {
    "name": "ipython",
    "version": 2
   },
   "file_extension": ".py",
   "mimetype": "text/x-python",
   "name": "python",
   "nbconvert_exporter": "python",
   "pygments_lexer": "ipython2",
   "version": "2.7.6"
  }
 },
 "nbformat": 4,
 "nbformat_minor": 0
}
